{
 "cells": [
  {
   "cell_type": "markdown",
   "metadata": {},
   "source": [
    "# Data Collection and Analysis Using AEPsych\n",
    "\n",
    "This tutorial serves as a complete example on how to collect and analyze data from perceptual experiments using AEPsych. For more information on AEPsych, refer to the documentation in the [GitHub repository](https://github.com/facebookresearch/aepsych). \n",
    "\n",
    "This tutorial demonstrates how to create an experiment to measure one's detection threshold for orientation. On each trial of the experiment, the participant is shown two gabor-patch stimuli, one oriented vertically (the foil) and one oriented at an angle (the target). The goal of the experiment is to find the smallest angle at which the participant can reliably identify the target. You can run the code blocks below interactively to participate in the experiment yourself, or you can simply view data collected from an example participant."
   ]
  },
  {
   "cell_type": "markdown",
   "metadata": {},
   "source": [
    "## Experiment Overview\n",
    "Below we define the functions we will need to conduct our experiment. Note that the code here is mainly for demonstration purposes and should not be used for serious experiments. If you would like to run psychophysics experiments in Python, consider using [Psychopy](https://www.psychopy.org/)."
   ]
  },
  {
   "cell_type": "code",
   "execution_count": 1,
   "metadata": {},
   "outputs": [],
   "source": [
    "import math\n",
    "\n",
    "import matplotlib.cm as cm\n",
    "import matplotlib.pyplot as plt\n",
    "import numpy as np\n",
    "import time\n",
    "from IPython.display import clear_output\n",
    "import random\n",
    "\n",
    "fig_size = 15\n",
    "\n",
    "# Show a fixation cross with a blank background\n",
    "def show_fixation_cross():\n",
    "    _, ax = plt.subplots(1, figsize=(fig_size, fig_size/2))\n",
    "    for spine in ax.spines.values():\n",
    "        spine.set_visible(False)\n",
    "    ax.tick_params(bottom=False, labelbottom=False,\n",
    "                left=False, labelleft=False)\n",
    "    ax.text(0.5, 0.5, '+', size=100,\n",
    "        horizontalalignment='center',\n",
    "        verticalalignment='center',\n",
    "        transform=ax.transAxes)\n",
    "    ax.axis('off')\n",
    "    ax.grid(b=None)\n",
    "    plt.show()\n",
    "\n",
    "# Evaluate the gabor filter function at an x,y position\n",
    "def gabor(x, y, theta):\n",
    "    f = 0.05\n",
    "    sigma = 25\n",
    "\n",
    "    x_ = x * math.cos(theta) + y * math.sin(theta)\n",
    "    y_ = y * math.cos(theta) - x * math.sin(theta)\n",
    "    num = x_ ** 2 + y_ ** 2\n",
    "    return math.exp(num / (-2 * sigma**2)) * math.cos(2 * math.pi * f * x_)\n",
    "\n",
    "# Show a gabor patch\n",
    "def show_gabor(theta, ax):\n",
    "    # The size of the gabor patch\n",
    "    radius = 60\n",
    "\n",
    "    # Convert from degrees to radians\n",
    "    theta = math.radians(theta)\n",
    "\n",
    "    M = np.array([[gabor(i, j, theta) for j in range(-radius, radius)] for i in range(-radius, radius)])\n",
    "    M = ((M - M.min())) / (M.max() - M.min())\n",
    "\n",
    "    ax.axis('off')\n",
    "    ax.grid(b=None)\n",
    "    ax.imshow(M.T, cmap=cm.Greys_r)\n",
    "\n",
    "\n",
    "def run_trial(angle, trial_number):\n",
    "    fixation_duration = 1\n",
    "    trial_duration = 0.5\n",
    "\n",
    "    # Show the fixation cross\n",
    "    show_fixation_cross()\n",
    "    time.sleep(fixation_duration)\n",
    "    clear_output(wait=True)\n",
    "\n",
    "    # randomly select if target should go on left or right side\n",
    "    right_side = random.choice([0, 1])\n",
    "\n",
    "    # randomly select if target angle should be clockwise or counterclockwise\n",
    "    direction = random.choice([-1, 1])\n",
    "    angle *= direction\n",
    "\n",
    "    # Show the foil and target\n",
    "    _, axs = plt.subplots(1, 2, figsize=(fig_size, fig_size))\n",
    "    show_gabor(angle, axs[right_side])\n",
    "    show_gabor(0, axs[int(not right_side)])\n",
    "\n",
    "    # Ask for the participant's response\n",
    "    ans = None\n",
    "    ans_key = {'j': 1, 'J': 1, 'f': 0, 'F': 0}\n",
    "    while ans not in ans_key:\n",
    "        plt.show()\n",
    "        time.sleep(trial_duration)\n",
    "        clear_output()\n",
    "        ans = input(f\"Trial #{trial_number}: Which side was angled? (Enter 'F' for left or 'J' for right)\")\n",
    "\n",
    "    # Check if the response was correct\n",
    "    is_correct = int(ans_key[ans] == right_side)\n",
    "    target_side = \"right\" if right_side else \"left\"\n",
    "    \n",
    "    return is_correct, target_side\n"
   ]
  },
  {
   "cell_type": "markdown",
   "metadata": {},
   "source": [
    "On each trial of the experiment, the participant will first see a white box with fixation cross for 1 second. The box looks like this:"
   ]
  },
  {
   "cell_type": "code",
   "execution_count": 2,
   "metadata": {},
   "outputs": [
    {
     "data": {
      "image/png": "[encoded data removed]",
      "text/plain": [
       "<Figure size 1080x540 with 1 Axes>"
      ]
     },
     "metadata": {},
     "output_type": "display_data"
    }
   ],
   "source": [
    "show_fixation_cross()"
   ]
  },
  {
   "cell_type": "markdown",
   "metadata": {},
   "source": [
    "After 1 second, the fixation cross will disappear, and two gabor patches will appear side-by-side. One patch will be the foil with a vertical orientation, and one will be the target with an angled orientation. The position of the target and whether the angle is measured clockwise or counterclockwise is randomized each trial. An example foil and target are shown below:"
   ]
  },
  {
   "cell_type": "code",
   "execution_count": 3,
   "metadata": {},
   "outputs": [
    {
     "data": {
      "image/png": "[encoded data removed]",
      "text/plain": [
       "<Figure size 1080x1080 with 2 Axes>"
      ]
     },
     "metadata": {
      "needs_background": "light"
     },
     "output_type": "display_data"
    }
   ],
   "source": [
    "_, axs = plt.subplots(1, 2, figsize=(fig_size, fig_size))\n",
    "show_gabor(0, axs[0])\n",
    "show_gabor(5, axs[1])"
   ]
  },
  {
   "cell_type": "markdown",
   "metadata": {},
   "source": [
    "After 0.5 seconds, the patches will disappear, and the participant will be prompted to report which one was the target by typing \"F\" for left or \"J\" for right, and then hitting enter. Try running the code block below to experience a trial for yourself. The `run_trial` function takes an angle and a trial number as input and returns whether or not you were correct (1 for correct, 0 for incorrect), as well as the side which the target was actually on. "
   ]
  },
  {
   "cell_type": "code",
   "execution_count": 4,
   "metadata": {},
   "outputs": [
    {
     "name": "stdout",
     "output_type": "stream",
     "text": [
      "Trial #0: Which side was angled? (Enter 'F' for left or 'J' for right)j\n"
     ]
    },
    {
     "data": {
      "text/plain": [
       "(1, 'right')"
      ]
     },
     "execution_count": 4,
     "metadata": {},
     "output_type": "execute_result"
    }
   ],
   "source": [
    "run_trial(5, 0)"
   ]
  },
  {
   "cell_type": "markdown",
   "metadata": {},
   "source": [
    "## Starting the AEPsych Server and Client\n",
    "The code block below starts an AEPsychClient and connects it to a local AEPsychServer. The data will be saved in a database named \"data_collection_analysis_tutorial.db\"."
   ]
  },
  {
   "cell_type": "code",
   "execution_count": null,
   "metadata": {},
   "outputs": [],
   "source": [
    "from aepsych.server import AEPsychServer\n",
    "from aepsych_client import AEPsychClient\n",
    "\n",
    "server = AEPsychServer(database_path=\"data_collection_analysis_tutorial.db\")\n",
    "client = AEPsychClient(server=server)"
   ]
  },
  {
   "cell_type": "markdown",
   "metadata": {},
   "source": [
    "Alternatively, you can also connect to a remote server by specifying a port and the IP address, as demonstrated below. The server could even be instantiated in a different Python process or on a different machine as the client."
   ]
  },
  {
   "cell_type": "markdown",
   "id": "1a3640e3",
   "metadata": {},
   "source": [
    "```Python\n",
    "from aepsych_client import AEPsychClient\n",
    "from aepsych.server import AEPsychServer\n",
    "ip = \"0.0.0.0\"\n",
    "port = 5555\n",
    "server = AEPsychServer(port, ip)\n",
    "client = AEPsychClient(server=server)\n",
    "```"
   ]
  },
  {
   "cell_type": "markdown",
   "metadata": {},
   "source": [
    "We tell the server what kind of experiment we are running by sending it a configure message (see the [configs folder](https://github.com/facebookresearch/aepsych/tree/main/configs) for some examples. The gist of the config here is that it is telling the server that our experiment will have one parameter called \"angle\", which will range from 0.1 to 5 degrees. (If you run this experiment on yourself and find that this range of angles makes the experiment too easy or too hard, you can adjust the `lb` and `ub` values in the string below). This experiment will last for 50 trials. The parameter values from the first 10 trials will be drawn from the [Sobol sequence](https://en.wikipedia.org/wiki/Sobol_sequence), to provide some initial data to initialize AEPsych's model; the following 40 trials will be drawn from that model. In this case, the model will be a classification [Gaussian Process](https://en.wikipedia.org/wiki/Gaussian_process) (GP). \n",
    "\n",
    "GPs can be thought of as generalizations of traditional psychophysics models that can handle multiple dimensions and allow the response function to be nonlinear (for further discussion see the [AEPsych preprint](https://arxiv.org/abs/2104.09549)). Furthermore, GPs can be used in conjunction with acquisition functions to perform [active learning](https://en.wikipedia.org/wiki/Active_learning_(machine_learning)--that is, the model can determine which points in the parameter space should be sampled next to achieve some goal. In this case we use the [level set estimation](https://www.ijcai.org/Proceedings/13/Papers/202.pdf) function to find the angle at which the participant will correctly identify the target 75% of the time. \n",
    "\n",
    "GPs are defined by a mean function and covariance function. Because we don't define what these functions should be in the config, they revert to their default values of a constant mean function, and a [radial basis covariance function](https://en.wikipedia.org/wiki/Radial_basis_function). These functions are fine for parameter space we want to explore here, but if we wanted to expand our search across a larger range of angles, we would probably want to use a periodic covariance function to account for that fact that angles loop every 360 degrees."
   ]
  },
  {
   "cell_type": "code",
   "execution_count": 7,
   "metadata": {},
   "outputs": [],
   "source": [
    "config_str = \"\"\"\n",
    "[common]\n",
    "parnames = [theta] # names of the parameters\n",
    "lb = [0.1] # lower bound of the parameter\n",
    "ub = [5] # upper bound of parameter\n",
    "stimuli_per_trial = 1 # the number of stimuli shown in each trial; 1 for single, or 2 for pairwise experiments\n",
    "outcome_types = [binary] # the type of response given by the participant; can be [binary] or [continuous]\n",
    "target = 0.75 # desired threshold, for threshold estimation.\n",
    "strategy_names = [init_strat, opt_strat] # The strategies that will be used, corresponding to the named sections below\n",
    "\n",
    "# Configuration for the initialization strategy, which we use to gather initial points\n",
    "# before we start doing model-based acquisition\n",
    "[init_strat]\n",
    "min_total_tells = 10 # number of sobol trials to run\n",
    "generator = SobolGenerator # The generator class used to generate new parameter values\n",
    "\n",
    "# Configuration for the optimization strategy, our model-based acquisition\n",
    "[opt_strat]\n",
    "min_total_tells = 50 # total number of trials to run\n",
    "refit_every = 5 # how often to refit the model from scratch\n",
    "generator = OptimizeAcqfGenerator # The generator class used to generate new parameter values\n",
    "acqf = MCLevelSetEstimation # The acquisition function; MCLevelSetEstimation is used for threshold finding\n",
    "model = GPClassificationModel # The model class\n",
    "\"\"\"\n",
    "\n",
    "client.configure(config_str=config_str, config_name=\"1d_gabor_config\")"
   ]
  },
  {
   "cell_type": "markdown",
   "metadata": {},
   "source": [
    "Now that we have set up our client and configured our server, we can start collecting data. The basic loop of the experiment is as follows:\n",
    "\n",
    "1. Ask AEPsych what value of our parameter, angle, to try next.\n",
    "2. Run a trial using this suggested value.\n",
    "3. Tell AEPsych the particant's response so that it can update its model.\n",
    "4. Repeat for the specified number of trials.\n",
    "\n",
    "We ask AEPsych for parameters by calling client.ask(). This returns a dictionary with two entries. The first, `'config'`, contains another dictionary whose keys are the names of your parameters, and whose values are lists of parameter values to try. The second, `'is_finished'`, is a bool indicating whether the number of trials specified in the config have been completed."
   ]
  },
  {
   "cell_type": "code",
   "execution_count": 8,
   "metadata": {},
   "outputs": [
    {
     "data": {
      "text/plain": [
       "{'config': {'theta': [4.762862205505371]}, 'is_finished': False}"
      ]
     },
     "execution_count": 8,
     "metadata": {},
     "output_type": "execute_result"
    }
   ],
   "source": [
    "client.ask()"
   ]
  },
  {
   "cell_type": "markdown",
   "metadata": {},
   "source": [
    "We tell AEPsych about the parameter values we have tried by calling client.tell(). This method has two required arguments. The first, config, is a dictionary representing the set of parameter values you would like to tell AEPsych about, and takes the same format as the 'config' entry from client.ask(). The second argument is the binary outcome of a trial, indicated by 0 (the participant did not identify the target) or 1 (the participant did identify the target). This method also optionally takes other keyword arguments that will be stored as metadata in AEPsych's database. For our experiment, we will record which side the target was on."
   ]
  },
  {
   "cell_type": "code",
   "execution_count": 9,
   "metadata": {},
   "outputs": [],
   "source": [
    "client.tell(config={'theta':[.1]}, outcome=0, target_side='right')"
   ]
  },
  {
   "cell_type": "markdown",
   "metadata": {},
   "source": [
    "The code below asks AEPsych for parameter values and runs trials until the experiment is completed:"
   ]
  },
  {
   "cell_type": "code",
   "execution_count": 10,
   "metadata": {},
   "outputs": [
    {
     "name": "stdout",
     "output_type": "stream",
     "text": [
      "Trial #49: Which side was angled? (Enter 'F' for left or 'J' for right)j\n"
     ]
    }
   ],
   "source": [
    "finished = False\n",
    "trial_number = 1\n",
    "while not finished:\n",
    "    response = client.ask()\n",
    "    theta = response[\"config\"][\"theta\"][0]\n",
    "    outcome, target_side = run_trial(theta, trial_number)\n",
    "    client.tell(config={\"theta\": [theta]}, outcome=outcome, target_side=target_side)\n",
    "    finished = response[\"is_finished\"]\n",
    "    trial_number += 1"
   ]
  },
  {
   "cell_type": "markdown",
   "metadata": {},
   "source": [
    "Note that even after the number of trials specified in the config have completed, you can still ask for more parameter values and conduct more trials:"
   ]
  },
  {
   "cell_type": "code",
   "execution_count": 11,
   "metadata": {},
   "outputs": [
    {
     "data": {
      "text/plain": [
       "{'config': {'theta': [0.713981026117474]}, 'is_finished': True}"
      ]
     },
     "execution_count": 11,
     "metadata": {},
     "output_type": "execute_result"
    }
   ],
   "source": [
    "client.ask()"
   ]
  },
  {
   "cell_type": "markdown",
   "metadata": {},
   "source": [
    "You are also not restricted to only using the parameter values that AEPsych suggests. You can tell it the outcome of any parameter values that you would like:"
   ]
  },
  {
   "cell_type": "code",
   "execution_count": 12,
   "metadata": {},
   "outputs": [],
   "source": [
    "client.tell(config={'theta':[5]}, outcome=1, target_side='left')"
   ]
  },
  {
   "cell_type": "markdown",
   "metadata": {},
   "source": [
    "Once you are done collecting data, you can close the server by calling `client.finalize()`"
   ]
  },
  {
   "cell_type": "code",
   "execution_count": 13,
   "metadata": {},
   "outputs": [],
   "source": [
    "client.finalize()"
   ]
  },
  {
   "cell_type": "markdown",
   "metadata": {},
   "source": [
    "## Replaying the Experiment and Analyzing Data\n",
    "To analyze the data, we open the database with an `AEPsychServer` object. We'll create a new server object, since the one we used earlier was closed by the client."
   ]
  },
  {
   "cell_type": "code",
   "execution_count": 14,
   "metadata": {},
   "outputs": [
    {
     "name": "stderr",
     "output_type": "stream",
     "text": [
      "2022-02-25 14:47:38,501 [INFO   ] Found DB at jnd_tutorial.db, appending!\n"
     ]
    }
   ],
   "source": [
    "serv = AEPsychServer(database_path=\"data_collection_analysis_tutorial.db\")"
   ]
  },
  {
   "cell_type": "markdown",
   "metadata": {},
   "source": [
    "The database is made of a set of experiments, which have unique experiment UUIDs. Every time the server is started (e.g. from the command line), a new experiment id is generated. For a list of all experiment ids:"
   ]
  },
  {
   "cell_type": "code",
   "execution_count": 15,
   "metadata": {},
   "outputs": [
    {
     "name": "stdout",
     "output_type": "stream",
     "text": [
      "['c03faaac-09b4-4f90-9b7a-5089fa556b81', 'fe51610b-cf16-4139-8a31-77637fb1a089']\n"
     ]
    }
   ],
   "source": [
    "exp_ids = [rec.experiment_id for rec in serv.db.get_master_records()]\n",
    "print(exp_ids)"
   ]
  },
  {
   "cell_type": "markdown",
   "metadata": {},
   "source": [
    "The above indicates that there is only 1 experiment_id in this database.\n",
    "\n",
    "Note that the above commands do not actually load any of the experiment data from the database. The data is only loaded when you run serv.replay to replay all of the setup, ask, and tell messages that are recorded in the database. We will pass skip_computations = True to this method to skip all of the model-fitting computations and make the replay finish faster."
   ]
  },
  {
   "cell_type": "code",
   "execution_count": 16,
   "metadata": {},
   "outputs": [
    {
     "name": "stderr",
     "output_type": "stream",
     "text": [
      "2022-02-25 14:47:45,264 [INFO   ] skip_computations=True, make sure to refit the final strat before doing anything!\n",
      "2022-02-25 14:47:45,298 [INFO   ] Received msg [setup]\n",
      "2022-02-25 14:47:45,301 [INFO   ] Request type is ask or query and skip_computations==True, skipping!\n",
      "2022-02-25 14:47:45,303 [INFO   ] Received msg [tell]\n",
      "2022-02-25 14:47:45,305 [INFO   ] Request type is ask or query and skip_computations==True, skipping!\n",
      "2022-02-25 14:47:45,306 [INFO   ] Received msg [tell]\n",
      "2022-02-25 14:47:45,308 [INFO   ] Request type is ask or query and skip_computations==True, skipping!\n",
      "2022-02-25 14:47:45,309 [INFO   ] Received msg [tell]\n",
      "2022-02-25 14:47:45,327 [INFO   ] Request type is ask or query and skip_computations==True, skipping!\n",
      "2022-02-25 14:47:45,329 [INFO   ] Received msg [tell]\n",
      "2022-02-25 14:47:45,330 [INFO   ] Request type is ask or query and skip_computations==True, skipping!\n",
      "2022-02-25 14:47:45,332 [INFO   ] Received msg [tell]\n",
      "2022-02-25 14:47:45,333 [INFO   ] Request type is ask or query and skip_computations==True, skipping!\n",
      "2022-02-25 14:47:45,335 [INFO   ] Received msg [tell]\n",
      "2022-02-25 14:47:45,336 [INFO   ] Request type is ask or query and skip_computations==True, skipping!\n",
      "2022-02-25 14:47:45,337 [INFO   ] Received msg [tell]\n",
      "2022-02-25 14:47:45,339 [INFO   ] Request type is ask or query and skip_computations==True, skipping!\n",
      "2022-02-25 14:47:45,340 [INFO   ] Received msg [tell]\n",
      "2022-02-25 14:47:45,342 [INFO   ] Request type is ask or query and skip_computations==True, skipping!\n",
      "2022-02-25 14:47:45,343 [INFO   ] Received msg [tell]\n",
      "2022-02-25 14:47:45,344 [INFO   ] Request type is ask or query and skip_computations==True, skipping!\n",
      "2022-02-25 14:47:45,346 [INFO   ] Received msg [tell]\n",
      "2022-02-25 14:47:45,347 [INFO   ] Request type is ask or query and skip_computations==True, skipping!\n",
      "2022-02-25 14:47:45,349 [INFO   ] Received msg [tell]\n",
      "2022-02-25 14:47:45,351 [INFO   ] Request type is ask or query and skip_computations==True, skipping!\n",
      "2022-02-25 14:47:45,352 [INFO   ] Received msg [tell]\n",
      "2022-02-25 14:47:45,354 [INFO   ] Request type is ask or query and skip_computations==True, skipping!\n",
      "2022-02-25 14:47:45,355 [INFO   ] Received msg [tell]\n",
      "2022-02-25 14:47:45,357 [INFO   ] Request type is ask or query and skip_computations==True, skipping!\n",
      "2022-02-25 14:47:45,359 [INFO   ] Received msg [tell]\n",
      "2022-02-25 14:47:45,360 [INFO   ] Request type is ask or query and skip_computations==True, skipping!\n",
      "2022-02-25 14:47:45,378 [INFO   ] Received msg [tell]\n",
      "2022-02-25 14:47:45,379 [INFO   ] Request type is ask or query and skip_computations==True, skipping!\n",
      "2022-02-25 14:47:45,381 [INFO   ] Received msg [tell]\n",
      "2022-02-25 14:47:45,383 [INFO   ] Request type is ask or query and skip_computations==True, skipping!\n",
      "2022-02-25 14:47:45,385 [INFO   ] Received msg [tell]\n",
      "2022-02-25 14:47:45,386 [INFO   ] Request type is ask or query and skip_computations==True, skipping!\n",
      "2022-02-25 14:47:45,388 [INFO   ] Received msg [tell]\n",
      "2022-02-25 14:47:45,390 [INFO   ] Request type is ask or query and skip_computations==True, skipping!\n",
      "2022-02-25 14:47:45,391 [INFO   ] Received msg [tell]\n",
      "2022-02-25 14:47:45,393 [INFO   ] Request type is ask or query and skip_computations==True, skipping!\n",
      "2022-02-25 14:47:45,394 [INFO   ] Received msg [tell]\n",
      "2022-02-25 14:47:45,395 [INFO   ] Request type is ask or query and skip_computations==True, skipping!\n",
      "2022-02-25 14:47:45,397 [INFO   ] Received msg [tell]\n",
      "2022-02-25 14:47:45,399 [INFO   ] Request type is ask or query and skip_computations==True, skipping!\n",
      "2022-02-25 14:47:45,400 [INFO   ] Received msg [tell]\n",
      "2022-02-25 14:47:45,402 [INFO   ] Request type is ask or query and skip_computations==True, skipping!\n",
      "2022-02-25 14:47:45,403 [INFO   ] Received msg [tell]\n",
      "2022-02-25 14:47:45,405 [INFO   ] Request type is ask or query and skip_computations==True, skipping!\n",
      "2022-02-25 14:47:45,406 [INFO   ] Received msg [tell]\n",
      "2022-02-25 14:47:45,408 [INFO   ] Request type is ask or query and skip_computations==True, skipping!\n",
      "2022-02-25 14:47:45,409 [INFO   ] Received msg [tell]\n",
      "2022-02-25 14:47:45,427 [INFO   ] Request type is ask or query and skip_computations==True, skipping!\n",
      "2022-02-25 14:47:45,429 [INFO   ] Received msg [tell]\n",
      "2022-02-25 14:47:45,431 [INFO   ] Request type is ask or query and skip_computations==True, skipping!\n",
      "2022-02-25 14:47:45,432 [INFO   ] Received msg [tell]\n",
      "2022-02-25 14:47:45,434 [INFO   ] Request type is ask or query and skip_computations==True, skipping!\n",
      "2022-02-25 14:47:45,435 [INFO   ] Received msg [tell]\n",
      "2022-02-25 14:47:45,437 [INFO   ] Request type is ask or query and skip_computations==True, skipping!\n",
      "2022-02-25 14:47:45,438 [INFO   ] Received msg [tell]\n",
      "2022-02-25 14:47:45,440 [INFO   ] Request type is ask or query and skip_computations==True, skipping!\n",
      "2022-02-25 14:47:45,441 [INFO   ] Received msg [tell]\n",
      "2022-02-25 14:47:45,442 [INFO   ] Request type is ask or query and skip_computations==True, skipping!\n",
      "2022-02-25 14:47:45,444 [INFO   ] Received msg [tell]\n",
      "2022-02-25 14:47:45,445 [INFO   ] Request type is ask or query and skip_computations==True, skipping!\n",
      "2022-02-25 14:47:45,447 [INFO   ] Received msg [tell]\n",
      "2022-02-25 14:47:45,449 [INFO   ] Request type is ask or query and skip_computations==True, skipping!\n",
      "2022-02-25 14:47:45,450 [INFO   ] Received msg [tell]\n",
      "2022-02-25 14:47:45,452 [INFO   ] Request type is ask or query and skip_computations==True, skipping!\n",
      "2022-02-25 14:47:45,453 [INFO   ] Received msg [tell]\n",
      "2022-02-25 14:47:45,454 [INFO   ] Request type is ask or query and skip_computations==True, skipping!\n",
      "2022-02-25 14:47:45,455 [INFO   ] Received msg [tell]\n",
      "2022-02-25 14:47:45,457 [INFO   ] Request type is ask or query and skip_computations==True, skipping!\n",
      "2022-02-25 14:47:45,458 [INFO   ] Received msg [tell]\n",
      "2022-02-25 14:47:45,460 [INFO   ] Request type is ask or query and skip_computations==True, skipping!\n",
      "2022-02-25 14:47:45,478 [INFO   ] Received msg [tell]\n",
      "2022-02-25 14:47:45,479 [INFO   ] Request type is ask or query and skip_computations==True, skipping!\n",
      "2022-02-25 14:47:45,480 [INFO   ] Received msg [tell]\n",
      "2022-02-25 14:47:45,482 [INFO   ] Request type is ask or query and skip_computations==True, skipping!\n",
      "2022-02-25 14:47:45,483 [INFO   ] Received msg [tell]\n",
      "2022-02-25 14:47:45,485 [INFO   ] Request type is ask or query and skip_computations==True, skipping!\n",
      "2022-02-25 14:47:45,486 [INFO   ] Received msg [tell]\n",
      "2022-02-25 14:47:45,487 [INFO   ] Request type is ask or query and skip_computations==True, skipping!\n",
      "2022-02-25 14:47:45,489 [INFO   ] Received msg [tell]\n",
      "2022-02-25 14:47:45,490 [INFO   ] Request type is ask or query and skip_computations==True, skipping!\n",
      "2022-02-25 14:47:45,491 [INFO   ] Received msg [tell]\n",
      "2022-02-25 14:47:45,492 [INFO   ] Request type is ask or query and skip_computations==True, skipping!\n",
      "2022-02-25 14:47:45,494 [INFO   ] Received msg [tell]\n",
      "2022-02-25 14:47:45,495 [INFO   ] Request type is ask or query and skip_computations==True, skipping!\n",
      "2022-02-25 14:47:45,496 [INFO   ] Received msg [tell]\n",
      "2022-02-25 14:47:45,498 [INFO   ] Request type is ask or query and skip_computations==True, skipping!\n",
      "2022-02-25 14:47:45,500 [INFO   ] Received msg [tell]\n",
      "2022-02-25 14:47:45,502 [INFO   ] Request type is ask or query and skip_computations==True, skipping!\n",
      "2022-02-25 14:47:45,503 [INFO   ] Received msg [tell]\n",
      "2022-02-25 14:47:45,504 [INFO   ] Request type is ask or query and skip_computations==True, skipping!\n",
      "2022-02-25 14:47:45,506 [INFO   ] Received msg [tell]\n",
      "2022-02-25 14:47:45,507 [INFO   ] Request type is ask or query and skip_computations==True, skipping!\n",
      "2022-02-25 14:47:45,508 [INFO   ] Received msg [tell]\n",
      "2022-02-25 14:47:45,509 [INFO   ] Request type is ask or query and skip_computations==True, skipping!\n",
      "2022-02-25 14:47:45,510 [INFO   ] Received msg [tell]\n",
      "2022-02-25 14:47:45,528 [INFO   ] Request type is ask or query and skip_computations==True, skipping!\n",
      "/Users/craigsanders/fbsource/fbcode/frl/ae/aepsych/aepsych/strategy.py:226: RuntimeWarning: Ran out of generators, staying on final generator!\n",
      "  warnings.warn(\n",
      "2022-02-25 14:47:45,530 [INFO   ] Received msg [tell]\n",
      "2022-02-25 14:47:45,531 [INFO   ] Recording strat because the experiment is complete.\n"
     ]
    },
    {
     "name": "stderr",
     "output_type": "stream",
     "text": [
      "2022-02-25 14:47:45,551 [INFO   ] Request type is ask or query and skip_computations==True, skipping!\n",
      "2022-02-25 14:47:45,553 [INFO   ] Received msg [tell]\n",
      "2022-02-25 14:47:45,554 [INFO   ] Recording strat because the experiment is complete.\n"
     ]
    }
   ],
   "source": [
    "serv.replay(exp_ids[-1], skip_computations=True)"
   ]
  },
  {
   "cell_type": "markdown",
   "metadata": {},
   "source": [
    "The data has been loaded into the servers list of strategies, which we can access through `serv._strats`. Per our config string, we have two strategies, the first being the model-less initialization strategy, and the second being the model-based threshold-finding strategy. We can see the model-based strategy's data using its `x` and `y` properties:"
   ]
  },
  {
   "cell_type": "code",
   "execution_count": 17,
   "metadata": {},
   "outputs": [
    {
     "name": "stdout",
     "output_type": "stream",
     "text": [
      "tensor([[0.1000],\n",
      "        [0.3796],\n",
      "        [1.4404],\n",
      "        [3.6793],\n",
      "        [3.0114],\n",
      "        [2.0354],\n",
      "        [0.9710],\n",
      "        [4.0913],\n",
      "        [3.8336],\n",
      "        [1.2873],\n",
      "        [0.1000],\n",
      "        [5.0000],\n",
      "        [0.6921],\n",
      "        [0.5840],\n",
      "        [0.8191],\n",
      "        [0.7408],\n",
      "        [0.6801],\n",
      "        [0.6291],\n",
      "        [0.5850],\n",
      "        [0.6958],\n",
      "        [0.6598],\n",
      "        [0.6283],\n",
      "        [0.5999],\n",
      "        [0.6749],\n",
      "        [0.6506],\n",
      "        [0.6283],\n",
      "        [0.6886],\n",
      "        [0.6681],\n",
      "        [0.6497],\n",
      "        [0.6329],\n",
      "        [0.6797],\n",
      "        [0.6641],\n",
      "        [0.7086],\n",
      "        [5.0000],\n",
      "        [0.6929],\n",
      "        [0.6788],\n",
      "        [0.6667],\n",
      "        [0.7027],\n",
      "        [0.6900],\n",
      "        [0.6781],\n",
      "        [0.6673],\n",
      "        [0.6572],\n",
      "        [0.6477],\n",
      "        [0.6382],\n",
      "        [0.6291],\n",
      "        [0.6550],\n",
      "        [0.6802],\n",
      "        [0.6715],\n",
      "        [0.6964],\n",
      "        [0.7238],\n",
      "        [5.0000]])\n",
      "tensor([0., 1., 1., 1., 1., 1., 1., 1., 1., 1., 0., 1., 1., 0., 1., 1., 1., 1.,\n",
      "        0., 1., 1., 1., 0., 1., 1., 0., 1., 1., 1., 0., 1., 0., 1., 1., 1., 1.,\n",
      "        0., 1., 1., 1., 1., 1., 1., 1., 0., 0., 1., 0., 0., 1., 1.])\n"
     ]
    }
   ],
   "source": [
    "strat = serv._strats[-1]\n",
    "print(strat.x)\n",
    "print(strat.y)"
   ]
  },
  {
   "cell_type": "markdown",
   "metadata": {},
   "source": [
    "Since we passed `skip_computations = True` into the replay method before, we will have to manually refit the strategy's model:"
   ]
  },
  {
   "cell_type": "code",
   "execution_count": 18,
   "metadata": {},
   "outputs": [
    {
     "name": "stderr",
     "output_type": "stream",
     "text": [
      "2022-02-25 14:47:52,361 [INFO   ] Starting fit...\n",
      "2022-02-25 14:47:53,575 [INFO   ] Fit done, time=1.198071002960205\n"
     ]
    }
   ],
   "source": [
    "strat.model.fit(strat.x, strat.y)"
   ]
  },
  {
   "cell_type": "markdown",
   "metadata": {},
   "source": [
    "We can now plot the posterior of the fitted model:"
   ]
  },
  {
   "cell_type": "code",
   "execution_count": 20,
   "metadata": {},
   "outputs": [
    {
     "data": {
      "image/png": "[encoded data removed]",
      "text/plain": [
       "<Figure size 1080x1080 with 1 Axes>"
      ]
     },
     "metadata": {},
     "output_type": "display_data"
    }
   ],
   "source": [
    "from aepsych.plotting import plot_strat\n",
    "plt.rcParams[\"figure.figsize\"] = (15,15)\n",
    "plt.rcParams['figure.facecolor'] = 'white'\n",
    "\n",
    "plot_strat(strat, xlabel='angle (degrees)', ylabel='Probability of Selecting Target', target_level=.75)"
   ]
  },
  {
   "cell_type": "markdown",
   "metadata": {},
   "source": [
    "In this plot, the blue and red ticks at the bottom represent angles at which the participant did and did not successfully identify the target, respectively. The dark blue curve represents the model's posterior probabilty that the participant would select the target, with 95% of the posterior mass lying in the shaded region. The orange horizontal line represents the participant's detection threshold, which once again is defined as the smallest angle at which the participant would select the target 75% of the time. If you are viewing the data from the example participant, you will see that their threshold is somewhere between about 0.5 and 1.5 degrees (note, however, that threshold estimation for non-monotonic models may not always be accurate; we are working on better algorithms for this). More data could be collected to reduce this uncertainty. If you collected data on your own data, your plot may look different; there are often large individual differences in psychophysics tasks. In any case you should see that most of the sampled points are near the estimated threshold; the level set estimation algorithm intelligently selects points so that time is not wasted collecting data at points far away from the threshold, allowing for a more accurate threshold estimate in fewer trials than traditional methods.\n",
    "\n",
    "## Conclusion\n",
    "\n",
    "This tutorial has shwown a complete example of how to conduct an AEPsych experiment and analyze the data. You can easily adapt this code for your own needs by changing the config string and the code that runs trials. If you need any help debugging or setting up your experiment, you can [open a GitHub issue](https://github.com/facebookresearch/aepsych/issues). You can also try conducting AEPsych experiments without writing any code, by running [this notebook](https://github.com/facebookresearch/aepsych/blob/main/examples/Interactive_AEPsych.ipynb)."
   ]
  }
 ],
 "metadata": {
  "interpreter": {
   "hash": "445720f8fdcbba65d997174e9b6315f32a9c0fb7d8d99a631746a7b63e54ff16"
  },
  "kernelspec": {
   "display_name": "Python 3.9.7 64-bit",
   "name": "python3"
  },
  "language_info": {
   "codemirror_mode": {
    "name": "ipython",
    "version": 3
   },
   "file_extension": ".py",
   "mimetype": "text/x-python",
   "name": "python",
   "nbconvert_exporter": "python",
   "pygments_lexer": "ipython3",
   "version": "3.9.7"
  }
 },
 "nbformat": 4,
 "nbformat_minor": 5
}
