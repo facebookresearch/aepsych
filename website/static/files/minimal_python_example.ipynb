{
    "cells": [
        {
            "cell_type": "markdown",
            "source": [
                "In this example, we demonstrate how to run a 2-dimensional detection-threshold experiment.  \n",
                "**Please be aware that this package is still under development and the API is subject to change. This example will be updated as needed.**"
            ],
            "metadata": {}
        },
        {
            "cell_type": "markdown",
            "source": [
                "First we fix the random number generators so that our code is reproducible:"
            ],
            "metadata": {}
        },
        {
            "cell_type": "code",
            "execution_count": null,
            "source": [
                "import numpy as np\n",
                "import torch\n",
                "\n",
                "\n",
                "# Fix random seeds\n",
                "np.random.seed(0)\n",
                "torch.manual_seed(0)"
            ],
            "outputs": [],
            "metadata": {}
        },
        {
            "cell_type": "markdown",
            "source": [
                "To use AEPsych, you have to create an experiment configuration file. For this example, we will use the example configuration file found under [aepsych/configs/single_lse_example.ini](https://github.com/facebookresearch/aepsych/blob/main/configs/single_lse_example.ini).  \n",
                "On each trial of the experiment we show a single stimulus controlled by 2 parameters, par1 and par2. On each trial, the participant indicates whether or not they detected the stimulus. The goal is to find the detection threshold. See the contents of the configuration file for further explanation.  \n",
                "\n",
                "The configuration file is used to configure the server object that will tell us which parameters to try on every trial:"
            ],
            "metadata": {}
        },
        {
            "cell_type": "code",
            "execution_count": null,
            "source": [
                "from aepsych.server import AEPsychServer\n",
                "\n",
                "\n",
                "# Create a server object configured to run a 2d threshold experiment\n",
                "server = AEPsychServer()\n",
                "server.configure(config_fnames=['../configs/single_lse_example.ini'])"
            ],
            "outputs": [],
            "metadata": {}
        },
        {
            "cell_type": "markdown",
            "source": [
                "In a real experiment you would write your own code to display stimuli and collect responses, but in this toy example we will simulate participant responses. We define the true 75% detection threshold to be where par1 + par2 = 1. We simulate participant responses using bernoulli trials, with 1 indicating a detection and 0 indicating no detection. "
            ],
            "metadata": {}
        },
        {
            "cell_type": "code",
            "execution_count": null,
            "source": [
                "from scipy.stats import bernoulli\n",
                "from scipy.special import expit, logit\n",
                "from scipy.stats import norm\n",
                "\n",
                "\n",
                "# Define the 75% to be where par1 + par2 = 1\n",
                "def get_response_probability(params):\n",
                "    m = 10\n",
                "    b = logit(.75) - m\n",
                "    p = expit(m * params.sum(1) + b)\n",
                "    return p\n",
                "\n",
                "\n",
                "# Simulate participant responses; returns 1 if the participant detected the stimulus or 0 if they did not.\n",
                "def simulate_response(trial_params):\n",
                "    par1 = trial_params['par1'][0]\n",
                "    par2 = trial_params['par2'][0]\n",
                "    params = np.array([[par1, par2]])\n",
                "\n",
                "    p = get_response_probability(params)\n",
                "    response = bernoulli.rvs(p)\n",
                "\n",
                "    return response"
            ],
            "outputs": [],
            "metadata": {}
        },
        {
            "cell_type": "markdown",
            "source": [
                "On each trial of the experiment, we will ask the server what parameter values to try next, collect a response from the\n",
                "participant, and then tell the server the outcome so that it can update its model."
            ],
            "metadata": {}
        },
        {
            "cell_type": "code",
            "execution_count": null,
            "source": [
                "while not server.strat.finished:\n",
                "    # Ask the server what the next parameter values to test should be.\n",
                "    trial_params = server.ask()\n",
                "\n",
                "    # Simulate a participant response.\n",
                "    outcome = simulate_response(trial_params)\n",
                "\n",
                "    # Tell the server what happened so that it can update its model.\n",
                "    server.tell(outcome, trial_params)"
            ],
            "outputs": [],
            "metadata": {}
        },
        {
            "cell_type": "markdown",
            "source": [
                "After all trials have completed, we can plot the results."
            ],
            "metadata": {}
        },
        {
            "cell_type": "code",
            "execution_count": null,
            "source": [
                "from aepsych.plotting import plot_strat\n",
                "from scipy.stats import norm\n",
                "\n",
                "\n",
                "# Plot the results\n",
                "plot_strat(server.strat, title='Strategy Plot', true_testfun=get_response_probability)"
            ],
            "outputs": [],
            "metadata": {}
        },
        {
            "cell_type": "markdown",
            "source": [
                "![Example plot](example_plot_strat_2d.png)"
            ],
            "metadata": {}
        },
        {
            "cell_type": "markdown",
            "source": [
                "See the complete code below:"
            ],
            "metadata": {}
        },
        {
            "cell_type": "code",
            "execution_count": null,
            "source": [
                "import numpy as np\n",
                "import torch\n",
                "\n",
                "from aepsych.server import AEPsychServer\n",
                "from aepsych.plotting import plot_strat\n",
                "\n",
                "from scipy.stats import bernoulli\n",
                "from scipy.special import expit, logit\n",
                "from scipy.stats import norm\n",
                "\n",
                "\n",
                "# Define the 75% to be where par1 + par2 = 1\n",
                "def get_response_probability(params):\n",
                "    m = 10\n",
                "    b = logit(.75) - m\n",
                "    p = expit(m * params.sum(1) + b)\n",
                "    return p\n",
                "\n",
                "\n",
                "# Simulate participant responses; returns 1 if the participant detected the stimulus or 0 if they did not.\n",
                "def simulate_response(trial_params):\n",
                "    par1 = trial_params['par1'][0]\n",
                "    par2 = trial_params['par2'][0]\n",
                "    params = np.array([[par1, par2]])\n",
                "\n",
                "    p = get_response_probability(params)\n",
                "    response = bernoulli.rvs(p)\n",
                "\n",
                "    return response\n",
                "\n",
                "\n",
                "# Fix random seeds\n",
                "np.random.seed(0)\n",
                "torch.manual_seed(0)\n",
                "\n",
                "# Create a server object configured to run a 2d threshold experiment\n",
                "server = AEPsychServer()\n",
                "server.configure(config_fnames=['../configs/single_lse_example.ini'])\n",
                "\n",
                "\n",
                "while not server.strat.finished:\n",
                "    # Ask the server what the next parameter values to test should be.\n",
                "    trial_params = server.ask()\n",
                "\n",
                "    # Simulate a participant response.\n",
                "    outcome = simulate_response(trial_params)\n",
                "\n",
                "    # Tell the server what happened so that it can update its model.\n",
                "    server.tell(outcome, trial_params)\n",
                "\n",
                "# Plot the results\n",
                "plot_strat(server.strat, title='Strategy Plot', true_testfun=get_response_probability)\n",
                "\n"
            ],
            "outputs": [],
            "metadata": {}
        }
    ],
    "metadata": {
        "orig_nbformat": 4,
        "language_info": {
            "name": "python",
            "version": "3.9.5",
            "mimetype": "text/x-python",
            "codemirror_mode": {
                "name": "ipython",
                "version": 3
            },
            "pygments_lexer": "ipython3",
            "nbconvert_exporter": "python",
            "file_extension": ".py"
        },
        "kernelspec": {
            "name": "python3",
            "display_name": "Python 3.9.5 64-bit ('aepsych': conda)"
        },
        "interpreter": {
            "hash": "445720f8fdcbba65d997174e9b6315f32a9c0fb7d8d99a631746a7b63e54ff16"
        }
    },
    "nbformat": 4,
    "nbformat_minor": 2
}