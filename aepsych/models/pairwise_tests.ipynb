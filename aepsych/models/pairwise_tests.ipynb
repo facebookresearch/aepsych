{
 "cells": [
  {
   "cell_type": "code",
   "execution_count": 2,
   "metadata": {},
   "outputs": [
    {
     "ename": "AttributeError",
     "evalue": "type object 'PairwiseGPModel' has no attribute 'get_config_options'",
     "output_type": "error",
     "traceback": [
      "\u001b[1;31m---------------------------------------------------------------------------\u001b[0m",
      "\u001b[1;31mAttributeError\u001b[0m                            Traceback (most recent call last)",
      "Cell \u001b[1;32mIn[2], line 27\u001b[0m\n\u001b[0;32m     23\u001b[0m \u001b[39mclass\u001b[39;00m \u001b[39mPairwiseGPModel\u001b[39;00m(PairwiseGP):\n\u001b[0;32m     24\u001b[0m     \u001b[39mpass\u001b[39;00m\n\u001b[1;32m---> 27\u001b[0m pairwise_model \u001b[39m=\u001b[39m PairwiseGPModel\u001b[39m.\u001b[39;49mget_config_options(\n\u001b[0;32m     28\u001b[0m     config\u001b[39m=\u001b[39mConfig())\n\u001b[0;32m     30\u001b[0m \u001b[39mvars\u001b[39m(pairwise_model)\n",
      "\u001b[1;31mAttributeError\u001b[0m: type object 'PairwiseGPModel' has no attribute 'get_config_options'"
     ]
    }
   ],
   "source": [
    "\n",
    "from pairwise_probit import PairwiseGP\n",
    "import torch\n",
    "from variational_gp import BinaryClassificationGP\n",
    "from aepsych.config import Config\n",
    "from gpytorch.likelihoods import BernoulliLikelihood\n",
    "from sklearn.datasets import make_classification\n",
    "\n",
    "\n",
    "X, y = make_classification(\n",
    "            n_samples=10,\n",
    "            n_features=1,\n",
    "            n_redundant=0,\n",
    "            n_informative=1,\n",
    "            random_state=1,\n",
    "            n_clusters_per_class=1,\n",
    "        )\n",
    "X, y = torch.Tensor(X), torch.Tensor(y)\n",
    "\n",
    "datapoints = torch.Tensor([[1, 2, 3], [4, 5, 6], [7, 8, 9]])\n",
    "comparisons = torch.Tensor([[0, 1], [2, 1]])\n",
    "\n",
    "\n",
    "class PairwiseGPModel(PairwiseGP):\n",
    "    name = \"PairwiseProbitModel\"\n",
    "    outcome_type = \"binary\"\n",
    "    stimuli_per_trial = 1\n",
    "\n",
    "    @classmethod\n",
    "    def get_mll_class(cls):\n",
    "        return MyHackyVariationalELBO\n",
    "    \n",
    "\n",
    "\n",
    "pairwise_model = PairwiseGPModel.get_config_options(\n",
    "    config=Config())\n",
    "\n",
    "vars(pairwise_model)"
   ]
  },
  {
   "cell_type": "code",
   "execution_count": null,
   "metadata": {},
   "outputs": [
    {
     "data": {
      "text/plain": [
       "{'_num_outputs': 1,\n",
       " '_input_batch_shape': torch.Size([]),\n",
       " '_aug_batch_shape': torch.Size([]),\n",
       " '_is_custom_likelihood': True,\n",
       " '_inducing_point_allocator': <botorch.models.utils.inducing_point_allocators.GreedyVarianceReduction at 0x174675d6ee0>,\n",
       " 'training': True,\n",
       " '_parameters': OrderedDict(),\n",
       " '_buffers': OrderedDict(),\n",
       " '_non_persistent_buffers_set': set(),\n",
       " '_backward_hooks': OrderedDict(),\n",
       " '_is_full_backward_hook': None,\n",
       " '_forward_hooks': OrderedDict(),\n",
       " '_forward_pre_hooks': OrderedDict(),\n",
       " '_state_dict_hooks': OrderedDict(),\n",
       " '_load_state_dict_pre_hooks': OrderedDict(),\n",
       " '_load_state_dict_post_hooks': OrderedDict(),\n",
       " '_modules': OrderedDict([('model',\n",
       "               _SingleTaskVariationalGP(\n",
       "                 (variational_strategy): VariationalStrategy(\n",
       "                   (_variational_distribution): CholeskyVariationalDistribution()\n",
       "                 )\n",
       "                 (mean_module): ConstantMean()\n",
       "                 (covar_module): ScaleKernel(\n",
       "                   (base_kernel): MaternKernel(\n",
       "                     (lengthscale_prior): GammaPrior()\n",
       "                     (raw_lengthscale_constraint): Positive()\n",
       "                   )\n",
       "                   (outputscale_prior): GammaPrior()\n",
       "                   (raw_outputscale_constraint): Positive()\n",
       "                 )\n",
       "               )),\n",
       "              ('likelihood',\n",
       "               BernoulliLikelihood(\n",
       "                 (quadrature): GaussHermiteQuadrature1D()\n",
       "               ))]),\n",
       " '_desired_num_outputs': 1}"
      ]
     },
     "execution_count": 18,
     "metadata": {},
     "output_type": "execute_result"
    }
   ],
   "source": [
    "binary_X, binary_y = make_classification(\n",
    "            n_samples=10,\n",
    "            n_features=1,\n",
    "            n_redundant=0,\n",
    "            n_informative=1,\n",
    "            random_state=1,\n",
    "            n_clusters_per_class=1,\n",
    "        )\n",
    "binary_X, binary_y = torch.Tensor(binary_X), torch.Tensor(binary_y).reshape(-1, 1)\n",
    "\n",
    "       \n",
    "binary_model = BinaryClassificationGP(\n",
    "    train_X=binary_X, train_Y=binary_y, likelihood=BernoulliLikelihood(), inducing_points=10\n",
    ")\n",
    "\n",
    "vars(binary_model)"
   ]
  }
 ],
 "metadata": {
  "kernelspec": {
   "display_name": "aepsych",
   "language": "python",
   "name": "python3"
  },
  "language_info": {
   "codemirror_mode": {
    "name": "ipython",
    "version": 3
   },
   "file_extension": ".py",
   "mimetype": "text/x-python",
   "name": "python",
   "nbconvert_exporter": "python",
   "pygments_lexer": "ipython3",
   "version": "3.9.0"
  },
  "orig_nbformat": 4
 },
 "nbformat": 4,
 "nbformat_minor": 2
}
