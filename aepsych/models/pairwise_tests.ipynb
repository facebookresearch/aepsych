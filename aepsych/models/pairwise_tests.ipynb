{
 "cells": [
  {
   "cell_type": "code",
   "execution_count": 22,
   "metadata": {},
   "outputs": [
    {
     "ename": "IndexError",
     "evalue": "tuple index out of range",
     "output_type": "error",
     "traceback": [
      "\u001b[1;31m---------------------------------------------------------------------------\u001b[0m",
      "\u001b[1;31mIndexError\u001b[0m                                Traceback (most recent call last)",
      "Cell \u001b[1;32mIn[22], line 26\u001b[0m\n\u001b[0;32m     22\u001b[0m \u001b[39mclass\u001b[39;00m \u001b[39mPairwiseGPModel\u001b[39;00m(PairwiseGP):\n\u001b[0;32m     23\u001b[0m     \u001b[39mpass\u001b[39;00m\n\u001b[1;32m---> 26\u001b[0m pairwise_model \u001b[39m=\u001b[39m PairwiseGPModel(X, y)\n\u001b[0;32m     28\u001b[0m \u001b[39mvars\u001b[39m(pairwise_model)\n",
      "File \u001b[1;32mc:\\Users\\ckamd\\anaconda3\\envs\\aepsych\\lib\\site-packages\\botorch\\models\\pairwise_gp.py:150\u001b[0m, in \u001b[0;36mPairwiseGP.__init__\u001b[1;34m(self, datapoints, comparisons, likelihood, covar_module, input_transform, **kwargs)\u001b[0m\n\u001b[0;32m    144\u001b[0m \u001b[39mself\u001b[39m\u001b[39m.\u001b[39mdim \u001b[39m=\u001b[39m \u001b[39mNone\u001b[39;00m\n\u001b[0;32m    146\u001b[0m \u001b[39m# See set_train_data for additional compatibility variables.\u001b[39;00m\n\u001b[0;32m    147\u001b[0m \u001b[39m# Not that the datapoints here are not transformed even if input_transform\u001b[39;00m\n\u001b[0;32m    148\u001b[0m \u001b[39m# is not None to avoid double transformation during model fitting.\u001b[39;00m\n\u001b[0;32m    149\u001b[0m \u001b[39m# self.transform_inputs is called in `forward`\u001b[39;00m\n\u001b[1;32m--> 150\u001b[0m \u001b[39mself\u001b[39;49m\u001b[39m.\u001b[39;49mset_train_data(datapoints, comparisons, update_model\u001b[39m=\u001b[39;49m\u001b[39mFalse\u001b[39;49;00m)\n\u001b[0;32m    152\u001b[0m \u001b[39m# Set optional parameters\u001b[39;00m\n\u001b[0;32m    153\u001b[0m \u001b[39m# Explicitly set jitter for numerical stability in psd_safe_cholesky\u001b[39;00m\n\u001b[0;32m    154\u001b[0m \u001b[39mself\u001b[39m\u001b[39m.\u001b[39m_jitter \u001b[39m=\u001b[39m kwargs\u001b[39m.\u001b[39mget(\u001b[39m\"\u001b[39m\u001b[39mjitter\u001b[39m\u001b[39m\"\u001b[39m, \u001b[39m1e-6\u001b[39m)\n",
      "File \u001b[1;32mc:\\Users\\ckamd\\anaconda3\\envs\\aepsych\\lib\\site-packages\\botorch\\models\\pairwise_gp.py:689\u001b[0m, in \u001b[0;36mPairwiseGP.set_train_data\u001b[1;34m(self, datapoints, comparisons, strict, update_model)\u001b[0m\n\u001b[0;32m    687\u001b[0m \u001b[39mself\u001b[39m\u001b[39m.\u001b[39mdim \u001b[39m=\u001b[39m \u001b[39mself\u001b[39m\u001b[39m.\u001b[39mdatapoints\u001b[39m.\u001b[39mshape[\u001b[39m-\u001b[39m\u001b[39m1\u001b[39m]  \u001b[39m# feature dimensions\u001b[39;00m\n\u001b[0;32m    688\u001b[0m \u001b[39mself\u001b[39m\u001b[39m.\u001b[39mn \u001b[39m=\u001b[39m \u001b[39mself\u001b[39m\u001b[39m.\u001b[39mdatapoints\u001b[39m.\u001b[39mshape[\u001b[39m-\u001b[39m\u001b[39m2\u001b[39m]  \u001b[39m# num datapoints\u001b[39;00m\n\u001b[1;32m--> 689\u001b[0m \u001b[39mself\u001b[39m\u001b[39m.\u001b[39mm \u001b[39m=\u001b[39m \u001b[39mself\u001b[39;49m\u001b[39m.\u001b[39;49mcomparisons\u001b[39m.\u001b[39;49mshape[\u001b[39m-\u001b[39;49m\u001b[39m2\u001b[39;49m]  \u001b[39m# num pairwise comparisons\u001b[39;00m\n\u001b[0;32m    690\u001b[0m \u001b[39m# D is batch_size x m x n or num_comparison x num_datapoints.\u001b[39;00m\n\u001b[0;32m    691\u001b[0m \u001b[39m# D_k_i is the s_k(x_i) value as in equation (6) in [Chu2005preference]_\u001b[39;00m\n\u001b[0;32m    692\u001b[0m \u001b[39m# D will usually be very sparse as well\u001b[39;00m\n\u001b[0;32m    693\u001b[0m \u001b[39m# TODO swap out scatter_ so that comparisons could be int instead of long\u001b[39;00m\n\u001b[0;32m    694\u001b[0m \u001b[39m# TODO: make D a sparse matrix once pytorch has better support for\u001b[39;00m\n\u001b[0;32m    695\u001b[0m \u001b[39m#       sparse tensors\u001b[39;00m\n\u001b[0;32m    696\u001b[0m D_size \u001b[39m=\u001b[39m torch\u001b[39m.\u001b[39mSize((\u001b[39m*\u001b[39m(\u001b[39mself\u001b[39m\u001b[39m.\u001b[39mbatch_shape), \u001b[39mself\u001b[39m\u001b[39m.\u001b[39mm, \u001b[39mself\u001b[39m\u001b[39m.\u001b[39mn))\n",
      "\u001b[1;31mIndexError\u001b[0m: tuple index out of range"
     ]
    }
   ],
   "source": [
    "\n",
    "from pairwise_probit import PairwiseGP\n",
    "import torch\n",
    "from variational_gp import BinaryClassificationGP\n",
    "from aepsych.config import Config\n",
    "from gpytorch.likelihoods import BernoulliLikelihood\n",
    "from sklearn.datasets import make_classification\n",
    "\n",
    "\n",
    "X, y = make_classification(\n",
    "            n_samples=10,\n",
    "            n_features=1,\n",
    "            n_redundant=0,\n",
    "            n_informative=1,\n",
    "            random_state=1,\n",
    "            n_clusters_per_class=1,\n",
    "        )\n",
    "X, y = torch.Tensor(X), torch.Tensor(y)\n",
    "\n",
    "       \n",
    "\n",
    "\n",
    "class PairwiseGPModel(PairwiseGP):\n",
    "    pass\n",
    "\n",
    "\n",
    "pairwise_model = PairwiseGPModel(X, y)\n",
    "\n",
    "vars(pairwise_model)"
   ]
  },
  {
   "cell_type": "code",
   "execution_count": null,
   "metadata": {},
   "outputs": [
    {
     "data": {
      "text/plain": [
       "{'_num_outputs': 1,\n",
       " '_input_batch_shape': torch.Size([]),\n",
       " '_aug_batch_shape': torch.Size([]),\n",
       " '_is_custom_likelihood': True,\n",
       " '_inducing_point_allocator': <botorch.models.utils.inducing_point_allocators.GreedyVarianceReduction at 0x174675d6ee0>,\n",
       " 'training': True,\n",
       " '_parameters': OrderedDict(),\n",
       " '_buffers': OrderedDict(),\n",
       " '_non_persistent_buffers_set': set(),\n",
       " '_backward_hooks': OrderedDict(),\n",
       " '_is_full_backward_hook': None,\n",
       " '_forward_hooks': OrderedDict(),\n",
       " '_forward_pre_hooks': OrderedDict(),\n",
       " '_state_dict_hooks': OrderedDict(),\n",
       " '_load_state_dict_pre_hooks': OrderedDict(),\n",
       " '_load_state_dict_post_hooks': OrderedDict(),\n",
       " '_modules': OrderedDict([('model',\n",
       "               _SingleTaskVariationalGP(\n",
       "                 (variational_strategy): VariationalStrategy(\n",
       "                   (_variational_distribution): CholeskyVariationalDistribution()\n",
       "                 )\n",
       "                 (mean_module): ConstantMean()\n",
       "                 (covar_module): ScaleKernel(\n",
       "                   (base_kernel): MaternKernel(\n",
       "                     (lengthscale_prior): GammaPrior()\n",
       "                     (raw_lengthscale_constraint): Positive()\n",
       "                   )\n",
       "                   (outputscale_prior): GammaPrior()\n",
       "                   (raw_outputscale_constraint): Positive()\n",
       "                 )\n",
       "               )),\n",
       "              ('likelihood',\n",
       "               BernoulliLikelihood(\n",
       "                 (quadrature): GaussHermiteQuadrature1D()\n",
       "               ))]),\n",
       " '_desired_num_outputs': 1}"
      ]
     },
     "execution_count": 18,
     "metadata": {},
     "output_type": "execute_result"
    }
   ],
   "source": [
    "binary_X, binary_y = make_classification(\n",
    "            n_samples=10,\n",
    "            n_features=1,\n",
    "            n_redundant=0,\n",
    "            n_informative=1,\n",
    "            random_state=1,\n",
    "            n_clusters_per_class=1,\n",
    "        )\n",
    "binary_X, binary_y = torch.Tensor(binary_X), torch.Tensor(binary_y).reshape(-1, 1)\n",
    "\n",
    "       \n",
    "binary_model = BinaryClassificationGP(\n",
    "    train_X=binary_X, train_Y=binary_y, likelihood=BernoulliLikelihood(), inducing_points=10\n",
    ")\n",
    "\n",
    "vars(binary_model)"
   ]
  }
 ],
 "metadata": {
  "kernelspec": {
   "display_name": "aepsych",
   "language": "python",
   "name": "python3"
  },
  "language_info": {
   "codemirror_mode": {
    "name": "ipython",
    "version": 3
   },
   "file_extension": ".py",
   "mimetype": "text/x-python",
   "name": "python",
   "nbconvert_exporter": "python",
   "pygments_lexer": "ipython3",
   "version": "3.9.0"
  },
  "orig_nbformat": 4
 },
 "nbformat": 4,
 "nbformat_minor": 2
}
