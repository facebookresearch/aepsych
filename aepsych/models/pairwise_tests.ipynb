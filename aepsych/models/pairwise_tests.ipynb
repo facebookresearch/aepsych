{
 "cells": [
  {
   "cell_type": "code",
   "execution_count": 1,
   "metadata": {},
   "outputs": [],
   "source": [
    "from scipy.stats import norm\n",
    "from botorch.models import PairwiseLaplaceMarginalLogLikelihood\n",
    "import time\n",
    "import numpy.testing as npt\n",
    "import torch\n",
    "from botorch.fit import fit_gpytorch_mll\n",
    "from sklearn.datasets import make_classification\n",
    "from aepsych.models.ax_pairwise_probit import PairwiseGPModel"
   ]
  },
  {
   "cell_type": "code",
   "execution_count": 2,
   "metadata": {},
   "outputs": [
    {
     "name": "stdout",
     "output_type": "stream",
     "text": [
      "Starting fit...\n",
      "Fit done, time=1.4314656257629395\n",
      "pred:  tensor([1., 0., 0., 1., 1., 0., 0., 0., 0., 1., 1., 0., 1., 0., 1.])  y[5:]:  tensor([1., 0., 0., 1., 1., 0., 0., 0., 0., 1., 1., 0., 1., 0., 1.])\n"
     ]
    }
   ],
   "source": [
    "X, y = make_classification(\n",
    "            n_samples=20,\n",
    "            n_features=2,\n",
    "            n_redundant=0,\n",
    "            n_informative=1,\n",
    "            random_state=1,\n",
    "            n_clusters_per_class=1,\n",
    "        )\n",
    "x, y = torch.Tensor(X), torch.Tensor(y)\n",
    "y = y.reshape(-1, 1)\n",
    "\n",
    "# print(\"X: \", x, \" y: \", y)\n",
    "\n",
    "pairwise_model = PairwiseGPModel\n",
    "pairwise_model.dim = x.shape[1]\n",
    "pairwise_model.lb = torch.min(x, dim=0)[0]\n",
    "pairwise_model.ub = torch.max(x, dim=0)[0]\n",
    "pairwise_model = pairwise_model(None)\n",
    "\n",
    "datapoints, comparisons = pairwise_model._pairs_to_comparisons(x, y)\n",
    "\n",
    "# pairwise_model.likelihood = PairwiseProbitLikelihood()\n",
    "\n",
    "# print(\"Datapoints: \", datapoints, \" comparisons: \", comparisons)\n",
    "pairwise_model.set_train_data(datapoints, comparisons)\n",
    "\n",
    "mll = PairwiseLaplaceMarginalLogLikelihood(pairwise_model.likelihood, pairwise_model)\n",
    "print(\"Starting fit...\")\n",
    "starttime = time.time()\n",
    "fit_gpytorch_mll(mll)\n",
    "print(f\"Fit done, time={time.time()-starttime}\")\n",
    "\n",
    "# print(\"x5: ... 0 \", x[5:, ..., 0], \" x5: ... 1 \", x[5:, ..., 1])\n",
    "with torch.no_grad():\n",
    "    f0, _ = pairwise_model.predict(x[5:], rereference=None)\n",
    "    # f1, _ = pairwise_model.predict(x[5:, ..., 1])\n",
    "    pred_diff = norm.cdf(f0)\n",
    "pred = pred_diff > 0.5\n",
    "\n",
    "# convert pred to 0/1 from numpy True/False\n",
    "pred = pred.astype(int)\n",
    "\n",
    "#convert pred to tensor\n",
    "pred = torch.Tensor(pred)\n",
    "\n",
    "\n",
    "print(\"pred: \", pred, \" y[5:]: \", y[5:].reshape(-1))\n",
    "\n",
    "npt.assert_allclose(pred.reshape(-1, 1), y[5:])"
   ]
  }
 ],
 "metadata": {
  "kernelspec": {
   "display_name": "aepsych",
   "language": "python",
   "name": "python3"
  },
  "language_info": {
   "codemirror_mode": {
    "name": "ipython",
    "version": 3
   },
   "file_extension": ".py",
   "mimetype": "text/x-python",
   "name": "python",
   "nbconvert_exporter": "python",
   "pygments_lexer": "ipython3",
   "version": "3.9.0"
  },
  "orig_nbformat": 4
 },
 "nbformat": 4,
 "nbformat_minor": 2
}
