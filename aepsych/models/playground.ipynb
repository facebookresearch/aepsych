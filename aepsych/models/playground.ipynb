{
 "cells": [
  {
   "cell_type": "code",
   "execution_count": null,
   "id": "93b195fc",
   "metadata": {},
   "outputs": [],
   "source": [
    "from aepsych.server import AEPsychServer\n",
    "from aepsych_client import AEPsychClient\n",
    "import numpy as np\n",
    "import torch\n",
    "import os"
   ]
  },
  {
   "cell_type": "code",
   "execution_count": 2,
   "id": "7c54252a",
   "metadata": {},
   "outputs": [
    {
     "name": "stderr",
     "output_type": "stream",
     "text": [
      "2023-04-10 20:32:21,597 [INFO   ] Received msg [ask]\n",
      "2023-04-10 20:32:21,599 [INFO   ] Received msg [tell]\n",
      "c:\\Users\\ckamd\\anaconda3\\envs\\aepsych\\lib\\site-packages\\botorch\\models\\utils\\assorted.py:201: InputDataWarning:\n",
      "\n",
      "Input data is not standardized. Please consider scaling the input to zero mean and unit variance.\n",
      "\n",
      "2023-04-10 20:32:22,016 [INFO   ] Loaded state dict\n",
      "2023-04-10 20:32:22,021 [INFO   ] fit maxfun is 33\n",
      "2023-04-10 20:32:22,023 [INFO   ] Starting fit...\n",
      "2023-04-10 20:32:22,239 [INFO   ] Fit done, time=0.2145252227783203\n",
      "2023-04-10 20:32:30,795 [INFO   ] Received msg [ask]\n",
      "2023-04-10 20:32:30,796 [INFO   ] Received msg [tell]\n",
      "c:\\Users\\ckamd\\anaconda3\\envs\\aepsych\\lib\\site-packages\\botorch\\models\\utils\\assorted.py:201: InputDataWarning:\n",
      "\n",
      "Input data is not standardized. Please consider scaling the input to zero mean and unit variance.\n",
      "\n",
      "2023-04-10 20:32:31,226 [INFO   ] Loaded state dict\n",
      "2023-04-10 20:32:31,230 [INFO   ] fit maxfun is 33\n",
      "2023-04-10 20:32:31,231 [INFO   ] Starting fit...\n",
      "2023-04-10 20:32:31,394 [INFO   ] Fit done, time=0.16235661506652832\n",
      "2023-04-10 20:32:37,466 [INFO   ] Received msg [ask]\n",
      "2023-04-10 20:32:37,469 [INFO   ] Received msg [tell]\n",
      "c:\\Users\\ckamd\\anaconda3\\envs\\aepsych\\lib\\site-packages\\botorch\\models\\utils\\assorted.py:201: InputDataWarning:\n",
      "\n",
      "Input data is not standardized. Please consider scaling the input to zero mean and unit variance.\n",
      "\n",
      "2023-04-10 20:32:37,959 [INFO   ] Loaded state dict\n",
      "2023-04-10 20:32:37,964 [INFO   ] fit maxfun is 24\n",
      "2023-04-10 20:32:37,966 [INFO   ] Starting fit...\n",
      "2023-04-10 20:32:38,139 [INFO   ] Fit done, time=0.17157793045043945\n",
      "2023-04-10 20:32:44,394 [INFO   ] Received msg [ask]\n",
      "2023-04-10 20:32:44,396 [INFO   ] Received msg [tell]\n",
      "c:\\Users\\ckamd\\anaconda3\\envs\\aepsych\\lib\\site-packages\\botorch\\models\\utils\\assorted.py:201: InputDataWarning:\n",
      "\n",
      "Input data is not standardized. Please consider scaling the input to zero mean and unit variance.\n",
      "\n",
      "2023-04-10 20:32:44,822 [INFO   ] Loaded state dict\n",
      "2023-04-10 20:32:44,827 [INFO   ] fit maxfun is 24\n",
      "2023-04-10 20:32:44,828 [INFO   ] Starting fit...\n",
      "2023-04-10 20:32:44,944 [INFO   ] Fit done, time=0.11476945877075195\n",
      "2023-04-10 20:32:50,645 [INFO   ] Received msg [ask]\n",
      "2023-04-10 20:32:50,648 [INFO   ] Received msg [tell]\n",
      "c:\\Users\\ckamd\\anaconda3\\envs\\aepsych\\lib\\site-packages\\botorch\\models\\utils\\assorted.py:201: InputDataWarning:\n",
      "\n",
      "Input data is not standardized. Please consider scaling the input to zero mean and unit variance.\n",
      "\n",
      "2023-04-10 20:32:51,127 [INFO   ] Loaded state dict\n",
      "2023-04-10 20:32:51,132 [INFO   ] fit maxfun is 26\n",
      "2023-04-10 20:32:51,133 [INFO   ] Starting fit...\n",
      "2023-04-10 20:32:51,256 [INFO   ] Fit done, time=0.12174105644226074\n",
      "2023-04-10 20:32:57,944 [INFO   ] Received msg [ask]\n",
      "2023-04-10 20:32:57,947 [INFO   ] Received msg [tell]\n",
      "c:\\Users\\ckamd\\anaconda3\\envs\\aepsych\\lib\\site-packages\\botorch\\models\\utils\\assorted.py:201: InputDataWarning:\n",
      "\n",
      "Input data is not standardized. Please consider scaling the input to zero mean and unit variance.\n",
      "\n",
      "2023-04-10 20:32:58,463 [INFO   ] Loaded state dict\n",
      "2023-04-10 20:32:58,469 [INFO   ] fit maxfun is 33\n",
      "2023-04-10 20:32:58,470 [INFO   ] Starting fit...\n",
      "2023-04-10 20:32:58,769 [INFO   ] Fit done, time=0.2992117404937744\n",
      "2023-04-10 20:33:06,798 [INFO   ] Received msg [ask]\n",
      "2023-04-10 20:33:06,799 [INFO   ] Received msg [tell]\n",
      "c:\\Users\\ckamd\\anaconda3\\envs\\aepsych\\lib\\site-packages\\botorch\\models\\utils\\assorted.py:201: InputDataWarning:\n",
      "\n",
      "Input data is not standardized. Please consider scaling the input to zero mean and unit variance.\n",
      "\n",
      "2023-04-10 20:33:07,359 [INFO   ] Loaded state dict\n",
      "2023-04-10 20:33:07,366 [INFO   ] fit maxfun is 19\n",
      "2023-04-10 20:33:07,367 [INFO   ] Starting fit...\n",
      "2023-04-10 20:33:07,459 [INFO   ] Fit done, time=0.09189534187316895\n",
      "2023-04-10 20:33:16,420 [INFO   ] Received msg [ask]\n",
      "2023-04-10 20:33:16,422 [INFO   ] Received msg [tell]\n",
      "c:\\Users\\ckamd\\anaconda3\\envs\\aepsych\\lib\\site-packages\\botorch\\models\\utils\\assorted.py:201: InputDataWarning:\n",
      "\n",
      "Input data is not standardized. Please consider scaling the input to zero mean and unit variance.\n",
      "\n",
      "2023-04-10 20:33:16,924 [INFO   ] Loaded state dict\n",
      "2023-04-10 20:33:16,927 [INFO   ] fit maxfun is 42\n",
      "2023-04-10 20:33:16,929 [INFO   ] Starting fit...\n",
      "2023-04-10 20:33:17,097 [INFO   ] Fit done, time=0.1662921905517578\n",
      "2023-04-10 20:33:26,707 [INFO   ] Received msg [ask]\n",
      "2023-04-10 20:33:26,709 [INFO   ] Received msg [tell]\n",
      "2023-04-10 20:33:26,969 [INFO   ] Recording strat because the experiment is complete.\n",
      "2023-04-10 20:33:27,215 [INFO   ] Received msg [tell]\n",
      "2023-04-10 20:33:27,431 [INFO   ] Recording strat because the experiment is complete.\n"
     ]
    }
   ],
   "source": [
    "def simulate_response(trial_params):\n",
    "    pars = [\n",
    "        trial_params[par][0]\n",
    "        for par in trial_params\n",
    "        if type(trial_params[par][0]) == float\n",
    "    ]\n",
    "    response = np.array(pars).sum()\n",
    "    return response\n",
    "\n",
    "# Fix random seeds\n",
    "np.random.seed(0)\n",
    "torch.manual_seed(0)\n",
    "\n",
    "# Create a server object configured to run a 2d threshold experiment\n",
    "database_path = \"./testing.db\"\n",
    "client = AEPsychClient(server=AEPsychServer(database_path=database_path))\n",
    "config_file = \"../../configs/ax_warm_start_fitting.ini\"\n",
    "config_file = os.path.join(os.path.dirname(\"__file__\"), config_file)\n",
    "client.configure(config_file)\n",
    "\n",
    "\n",
    "# print(\"Unfitted state_dict_ Botorch: \", client.server.strat.strat._steps[1].model_spec._fitted_model.model.surrogates['only_surrogate'].model.state_dict())\n",
    "\n",
    "while not client.server.strat.finished:\n",
    "    # Ask the server what the next parameter values to test should be.\n",
    "    trial_params = client.ask()\n",
    "\n",
    "    # Simulate a participant response.\n",
    "    outcome = simulate_response(trial_params[\"config\"])\n",
    "\n",
    "    # Tell the server what happened so that it can update its model.\n",
    "    client.tell(trial_params[\"config\"], outcome)\n",
    "\n",
    "# Add an extra tell to make sure manual tells and duplicate params\n",
    "client.tell(trial_params[\"config\"], outcome)\n"
   ]
  },
  {
   "cell_type": "code",
   "execution_count": 3,
   "id": "1551af3e",
   "metadata": {},
   "outputs": [
    {
     "name": "stderr",
     "output_type": "stream",
     "text": [
      "2023-04-10 20:33:27,806 [INFO   ] Received msg [ask]\n"
     ]
    },
    {
     "data": {
      "text/plain": [
       "{'config': {'par1': [],\n",
       "  'par2': [],\n",
       "  'par3': [],\n",
       "  'par4': [],\n",
       "  'par5': [],\n",
       "  'par6': [],\n",
       "  'par7': []},\n",
       " 'is_finished': True}"
      ]
     },
     "execution_count": 3,
     "metadata": {},
     "output_type": "execute_result"
    }
   ],
   "source": [
    "client.ask()"
   ]
  },
  {
   "cell_type": "code",
   "execution_count": 4,
   "id": "78b54901",
   "metadata": {},
   "outputs": [
    {
     "name": "stderr",
     "output_type": "stream",
     "text": [
      "2023-04-10 20:33:27,876 [INFO   ] Received msg [exit]\n",
      "2023-04-10 20:33:27,877 [INFO   ] Got termination message!\n",
      "2023-04-10 20:33:27,878 [INFO   ] Dumping strats to DB due to Normal termination.\n"
     ]
    }
   ],
   "source": [
    "client.finalize()"
   ]
  }
 ],
 "metadata": {
  "kernelspec": {
   "display_name": "aepsych",
   "language": "python",
   "name": "python3"
  },
  "language_info": {
   "codemirror_mode": {
    "name": "ipython",
    "version": 3
   },
   "file_extension": ".py",
   "mimetype": "text/x-python",
   "name": "python",
   "nbconvert_exporter": "python",
   "pygments_lexer": "ipython3",
   "version": "3.9.0"
  },
  "vscode": {
   "interpreter": {
    "hash": "d5cd175c0c40f7502ca75fb5854cb93650fb8eb5d6fa501b3a333595e244f6e7"
   }
  }
 },
 "nbformat": 4,
 "nbformat_minor": 5
}
