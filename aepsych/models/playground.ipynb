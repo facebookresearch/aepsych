{
 "cells": [
  {
   "cell_type": "code",
   "execution_count": 1,
   "id": "93b195fc",
   "metadata": {},
   "outputs": [],
   "source": [
    "from aepsych.server import AEPsychServer\n",
    "from aepsych_client import AEPsychClient\n",
    "import numpy as np\n",
    "import torch\n",
    "import uuid\n",
    "import os"
   ]
  },
  {
   "cell_type": "code",
   "execution_count": 2,
   "id": "7c54252a",
   "metadata": {},
   "outputs": [
    {
     "name": "stderr",
     "output_type": "stream",
     "text": [
      "2023-04-08 22:28:42,956 [INFO   ] Found DB at ./testing.db, appending!\n",
      "C:\\Users\\ckamd\\OneDrive\\Desktop\\Meta_AEPsych\\Ax\\ax\\core\\parameter.py:511: UserWarning:\n",
      "\n",
      "`sort_values` is not specified for `ChoiceParameter` \"par4\". Defaulting to `False` for parameters of `ParameterType` STRING. To override this behavior (or avoid this warning), specify `sort_values` during `ChoiceParameter` construction.\n",
      "\n",
      "C:\\Users\\ckamd\\OneDrive\\Desktop\\Meta_AEPsych\\Ax\\ax\\core\\parameter.py:511: UserWarning:\n",
      "\n",
      "`sort_values` is not specified for `ChoiceParameter` \"par5\". Defaulting to `False` for parameters of `ParameterType` STRING. To override this behavior (or avoid this warning), specify `sort_values` during `ChoiceParameter` construction.\n",
      "\n",
      "2023-04-08 22:28:43,093 [INFO   ] Received msg [setup]\n",
      "2023-04-08 22:28:43,157 [INFO   ] Received msg [ask]\n",
      "2023-04-08 22:28:43,158 [INFO   ] Received msg [tell]\n",
      "2023-04-08 22:28:43,475 [INFO   ] Received msg [ask]\n",
      "2023-04-08 22:28:43,476 [INFO   ] Received msg [tell]\n",
      "c:\\Users\\ckamd\\anaconda3\\envs\\aepsych\\lib\\site-packages\\botorch\\models\\utils\\assorted.py:201: InputDataWarning:\n",
      "\n",
      "Input data is not standardized. Please consider scaling the input to zero mean and unit variance.\n",
      "\n",
      "2023-04-08 22:28:43,754 [INFO   ] fit maxfun is 16\n",
      "2023-04-08 22:28:43,755 [INFO   ] Starting fit...\n",
      "2023-04-08 22:28:43,859 [INFO   ] Fit done, time=0.10294818878173828\n"
     ]
    },
    {
     "name": "stdout",
     "output_type": "stream",
     "text": [
      "AEPsychSurrogate.fit, refit:  True  state_dict:  None\n"
     ]
    },
    {
     "name": "stderr",
     "output_type": "stream",
     "text": [
      "2023-04-08 22:28:49,893 [INFO   ] Received msg [ask]\n",
      "2023-04-08 22:28:49,894 [INFO   ] Received msg [tell]\n",
      "c:\\Users\\ckamd\\anaconda3\\envs\\aepsych\\lib\\site-packages\\botorch\\models\\utils\\assorted.py:201: InputDataWarning:\n",
      "\n",
      "Input data is not standardized. Please consider scaling the input to zero mean and unit variance.\n",
      "\n",
      "2023-04-08 22:28:50,187 [INFO   ] fit maxfun is 49\n",
      "2023-04-08 22:28:50,189 [INFO   ] Starting fit...\n"
     ]
    },
    {
     "name": "stdout",
     "output_type": "stream",
     "text": [
      "AEPsychSurrogate.fit, refit:  True  state_dict:  OrderedDict([('likelihood.noise_covar.raw_noise', tensor([4.6812])), ('likelihood.noise_covar.noise_prior.concentration', tensor(1.1000)), ('likelihood.noise_covar.noise_prior.rate', tensor(0.0500)), ('likelihood.noise_covar.raw_noise_constraint.lower_bound', tensor(1.0000e-04)), ('likelihood.noise_covar.raw_noise_constraint.upper_bound', tensor(inf)), ('mean_module.raw_constant', tensor(0.3510)), ('covar_module.raw_outputscale', tensor(4.0091)), ('covar_module.base_kernel.raw_lengthscale', tensor([[1.4768, 0.3348, 0.3464, 0.3333, 1.4567]])), ('covar_module.base_kernel.lengthscale_prior.concentration', tensor(3.)), ('covar_module.base_kernel.lengthscale_prior.rate', tensor(6.)), ('covar_module.base_kernel.raw_lengthscale_constraint.lower_bound', tensor(1.0000e-04)), ('covar_module.base_kernel.raw_lengthscale_constraint.upper_bound', tensor(inf)), ('covar_module.outputscale_prior.a', tensor([1.])), ('covar_module.outputscale_prior.b', tensor([4.])), ('covar_module.outputscale_prior.sigma', tensor([0.0100])), ('covar_module.outputscale_prior.tails.loc', tensor([0.])), ('covar_module.outputscale_prior.tails.scale', tensor([0.0100])), ('covar_module.raw_outputscale_constraint.lower_bound', tensor(0.)), ('covar_module.raw_outputscale_constraint.upper_bound', tensor(inf))])\n",
      "Loading state dict\n"
     ]
    },
    {
     "name": "stderr",
     "output_type": "stream",
     "text": [
      "2023-04-08 22:28:50,429 [INFO   ] Fit done, time=0.23961997032165527\n",
      "2023-04-08 22:28:55,924 [INFO   ] Received msg [ask]\n",
      "2023-04-08 22:28:55,925 [INFO   ] Received msg [tell]\n"
     ]
    },
    {
     "name": "stdout",
     "output_type": "stream",
     "text": [
      "AEPsychSurrogate.fit, refit:  False  state_dict:  OrderedDict([('likelihood.noise_covar.raw_noise', tensor([217.3567])), ('likelihood.noise_covar.noise_prior.concentration', tensor(1.1000)), ('likelihood.noise_covar.noise_prior.rate', tensor(0.0500)), ('likelihood.noise_covar.raw_noise_constraint.lower_bound', tensor(1.0000e-04)), ('likelihood.noise_covar.raw_noise_constraint.upper_bound', tensor(inf)), ('mean_module.raw_constant', tensor(129.3886)), ('covar_module.raw_outputscale', tensor(3.9820)), ('covar_module.base_kernel.raw_lengthscale', tensor([[0.3920, 0.3976, 0.4245, 0.3333, 0.2802]])), ('covar_module.base_kernel.lengthscale_prior.concentration', tensor(3.)), ('covar_module.base_kernel.lengthscale_prior.rate', tensor(6.)), ('covar_module.base_kernel.raw_lengthscale_constraint.lower_bound', tensor(1.0000e-04)), ('covar_module.base_kernel.raw_lengthscale_constraint.upper_bound', tensor(inf)), ('covar_module.outputscale_prior.a', tensor([1.])), ('covar_module.outputscale_prior.b', tensor([4.])), ('covar_module.outputscale_prior.sigma', tensor([0.0100])), ('covar_module.outputscale_prior.tails.loc', tensor([0.])), ('covar_module.outputscale_prior.tails.scale', tensor([0.0100])), ('covar_module.raw_outputscale_constraint.lower_bound', tensor(0.)), ('covar_module.raw_outputscale_constraint.upper_bound', tensor(inf))])\n",
      "Loading state dict\n"
     ]
    },
    {
     "name": "stderr",
     "output_type": "stream",
     "text": [
      "c:\\Users\\ckamd\\anaconda3\\envs\\aepsych\\lib\\site-packages\\botorch\\models\\utils\\assorted.py:201: InputDataWarning:\n",
      "\n",
      "Input data is not standardized. Please consider scaling the input to zero mean and unit variance.\n",
      "\n",
      "2023-04-08 22:29:07,019 [INFO   ] Received msg [ask]\n",
      "2023-04-08 22:29:07,021 [INFO   ] Received msg [tell]\n"
     ]
    },
    {
     "name": "stdout",
     "output_type": "stream",
     "text": [
      "AEPsychSurrogate.fit, refit:  False  state_dict:  OrderedDict([('likelihood.noise_covar.raw_noise', tensor([217.3567])), ('likelihood.noise_covar.noise_prior.concentration', tensor(1.1000)), ('likelihood.noise_covar.noise_prior.rate', tensor(0.0500)), ('likelihood.noise_covar.raw_noise_constraint.lower_bound', tensor(1.0000e-04)), ('likelihood.noise_covar.raw_noise_constraint.upper_bound', tensor(inf)), ('mean_module.raw_constant', tensor(129.3886)), ('covar_module.raw_outputscale', tensor(3.9820)), ('covar_module.base_kernel.raw_lengthscale', tensor([[0.3920, 0.3976, 0.4245, 0.3333, 0.2802]])), ('covar_module.base_kernel.lengthscale_prior.concentration', tensor(3.)), ('covar_module.base_kernel.lengthscale_prior.rate', tensor(6.)), ('covar_module.base_kernel.raw_lengthscale_constraint.lower_bound', tensor(1.0000e-04)), ('covar_module.base_kernel.raw_lengthscale_constraint.upper_bound', tensor(inf)), ('covar_module.outputscale_prior.a', tensor([1.])), ('covar_module.outputscale_prior.b', tensor([4.])), ('covar_module.outputscale_prior.sigma', tensor([0.0100])), ('covar_module.outputscale_prior.tails.loc', tensor([0.])), ('covar_module.outputscale_prior.tails.scale', tensor([0.0100])), ('covar_module.raw_outputscale_constraint.lower_bound', tensor(0.)), ('covar_module.raw_outputscale_constraint.upper_bound', tensor(inf))])\n",
      "Loading state dict\n"
     ]
    },
    {
     "name": "stderr",
     "output_type": "stream",
     "text": [
      "c:\\Users\\ckamd\\anaconda3\\envs\\aepsych\\lib\\site-packages\\botorch\\models\\utils\\assorted.py:201: InputDataWarning:\n",
      "\n",
      "Input data is not standardized. Please consider scaling the input to zero mean and unit variance.\n",
      "\n",
      "2023-04-08 22:29:15,405 [INFO   ] Received msg [ask]\n",
      "2023-04-08 22:29:15,407 [INFO   ] Received msg [tell]\n",
      "c:\\Users\\ckamd\\anaconda3\\envs\\aepsych\\lib\\site-packages\\botorch\\models\\utils\\assorted.py:201: InputDataWarning:\n",
      "\n",
      "Input data is not standardized. Please consider scaling the input to zero mean and unit variance.\n",
      "\n",
      "2023-04-08 22:29:15,767 [INFO   ] fit maxfun is 33\n",
      "2023-04-08 22:29:15,769 [INFO   ] Starting fit...\n",
      "2023-04-08 22:29:15,955 [INFO   ] Fit done, time=0.18572592735290527\n"
     ]
    },
    {
     "name": "stdout",
     "output_type": "stream",
     "text": [
      "AEPsychSurrogate.fit, refit:  True  state_dict:  OrderedDict([('likelihood.noise_covar.raw_noise', tensor([217.3567])), ('likelihood.noise_covar.noise_prior.concentration', tensor(1.1000)), ('likelihood.noise_covar.noise_prior.rate', tensor(0.0500)), ('likelihood.noise_covar.raw_noise_constraint.lower_bound', tensor(1.0000e-04)), ('likelihood.noise_covar.raw_noise_constraint.upper_bound', tensor(inf)), ('mean_module.raw_constant', tensor(129.3886)), ('covar_module.raw_outputscale', tensor(3.9820)), ('covar_module.base_kernel.raw_lengthscale', tensor([[0.3920, 0.3976, 0.4245, 0.3333, 0.2802]])), ('covar_module.base_kernel.lengthscale_prior.concentration', tensor(3.)), ('covar_module.base_kernel.lengthscale_prior.rate', tensor(6.)), ('covar_module.base_kernel.raw_lengthscale_constraint.lower_bound', tensor(1.0000e-04)), ('covar_module.base_kernel.raw_lengthscale_constraint.upper_bound', tensor(inf)), ('covar_module.outputscale_prior.a', tensor([1.])), ('covar_module.outputscale_prior.b', tensor([4.])), ('covar_module.outputscale_prior.sigma', tensor([0.0100])), ('covar_module.outputscale_prior.tails.loc', tensor([0.])), ('covar_module.outputscale_prior.tails.scale', tensor([0.0100])), ('covar_module.raw_outputscale_constraint.lower_bound', tensor(0.)), ('covar_module.raw_outputscale_constraint.upper_bound', tensor(inf))])\n",
      "Loading state dict\n"
     ]
    },
    {
     "name": "stderr",
     "output_type": "stream",
     "text": [
      "2023-04-08 22:29:26,159 [INFO   ] Received msg [ask]\n",
      "2023-04-08 22:29:26,161 [INFO   ] Received msg [tell]\n"
     ]
    },
    {
     "name": "stdout",
     "output_type": "stream",
     "text": [
      "AEPsychSurrogate.fit, refit:  False  state_dict:  OrderedDict([('likelihood.noise_covar.raw_noise', tensor([196.6952])), ('likelihood.noise_covar.noise_prior.concentration', tensor(1.1000)), ('likelihood.noise_covar.noise_prior.rate', tensor(0.0500)), ('likelihood.noise_covar.raw_noise_constraint.lower_bound', tensor(1.0000e-04)), ('likelihood.noise_covar.raw_noise_constraint.upper_bound', tensor(inf)), ('mean_module.raw_constant', tensor(132.9913)), ('covar_module.raw_outputscale', tensor(0.6454)), ('covar_module.base_kernel.raw_lengthscale', tensor([[0.3307, 0.3278, 0.3248, 0.3333, 0.3751]])), ('covar_module.base_kernel.lengthscale_prior.concentration', tensor(3.)), ('covar_module.base_kernel.lengthscale_prior.rate', tensor(6.)), ('covar_module.base_kernel.raw_lengthscale_constraint.lower_bound', tensor(1.0000e-04)), ('covar_module.base_kernel.raw_lengthscale_constraint.upper_bound', tensor(inf)), ('covar_module.outputscale_prior.a', tensor([1.])), ('covar_module.outputscale_prior.b', tensor([4.])), ('covar_module.outputscale_prior.sigma', tensor([0.0100])), ('covar_module.outputscale_prior.tails.loc', tensor([0.])), ('covar_module.outputscale_prior.tails.scale', tensor([0.0100])), ('covar_module.raw_outputscale_constraint.lower_bound', tensor(0.)), ('covar_module.raw_outputscale_constraint.upper_bound', tensor(inf))])\n",
      "Loading state dict\n"
     ]
    },
    {
     "name": "stderr",
     "output_type": "stream",
     "text": [
      "c:\\Users\\ckamd\\anaconda3\\envs\\aepsych\\lib\\site-packages\\botorch\\models\\utils\\assorted.py:201: InputDataWarning:\n",
      "\n",
      "Input data is not standardized. Please consider scaling the input to zero mean and unit variance.\n",
      "\n",
      "2023-04-08 22:29:37,352 [INFO   ] Received msg [ask]\n",
      "2023-04-08 22:29:37,353 [INFO   ] Received msg [tell]\n"
     ]
    },
    {
     "name": "stdout",
     "output_type": "stream",
     "text": [
      "AEPsychSurrogate.fit, refit:  False  state_dict:  OrderedDict([('likelihood.noise_covar.raw_noise', tensor([196.6952])), ('likelihood.noise_covar.noise_prior.concentration', tensor(1.1000)), ('likelihood.noise_covar.noise_prior.rate', tensor(0.0500)), ('likelihood.noise_covar.raw_noise_constraint.lower_bound', tensor(1.0000e-04)), ('likelihood.noise_covar.raw_noise_constraint.upper_bound', tensor(inf)), ('mean_module.raw_constant', tensor(132.9913)), ('covar_module.raw_outputscale', tensor(0.6454)), ('covar_module.base_kernel.raw_lengthscale', tensor([[0.3307, 0.3278, 0.3248, 0.3333, 0.3751]])), ('covar_module.base_kernel.lengthscale_prior.concentration', tensor(3.)), ('covar_module.base_kernel.lengthscale_prior.rate', tensor(6.)), ('covar_module.base_kernel.raw_lengthscale_constraint.lower_bound', tensor(1.0000e-04)), ('covar_module.base_kernel.raw_lengthscale_constraint.upper_bound', tensor(inf)), ('covar_module.outputscale_prior.a', tensor([1.])), ('covar_module.outputscale_prior.b', tensor([4.])), ('covar_module.outputscale_prior.sigma', tensor([0.0100])), ('covar_module.outputscale_prior.tails.loc', tensor([0.])), ('covar_module.outputscale_prior.tails.scale', tensor([0.0100])), ('covar_module.raw_outputscale_constraint.lower_bound', tensor(0.)), ('covar_module.raw_outputscale_constraint.upper_bound', tensor(inf))])\n",
      "Loading state dict\n"
     ]
    },
    {
     "name": "stderr",
     "output_type": "stream",
     "text": [
      "c:\\Users\\ckamd\\anaconda3\\envs\\aepsych\\lib\\site-packages\\botorch\\models\\utils\\assorted.py:201: InputDataWarning:\n",
      "\n",
      "Input data is not standardized. Please consider scaling the input to zero mean and unit variance.\n",
      "\n",
      "2023-04-08 22:29:48,389 [INFO   ] Received msg [ask]\n",
      "2023-04-08 22:29:48,391 [INFO   ] Received msg [tell]\n",
      "c:\\Users\\ckamd\\anaconda3\\envs\\aepsych\\lib\\site-packages\\botorch\\models\\utils\\assorted.py:201: InputDataWarning:\n",
      "\n",
      "Input data is not standardized. Please consider scaling the input to zero mean and unit variance.\n",
      "\n",
      "2023-04-08 22:29:48,869 [INFO   ] fit maxfun is 19\n",
      "2023-04-08 22:29:48,871 [INFO   ] Starting fit...\n",
      "2023-04-08 22:29:48,969 [INFO   ] Fit done, time=0.09687232971191406\n"
     ]
    },
    {
     "name": "stdout",
     "output_type": "stream",
     "text": [
      "AEPsychSurrogate.fit, refit:  True  state_dict:  OrderedDict([('likelihood.noise_covar.raw_noise', tensor([196.6952])), ('likelihood.noise_covar.noise_prior.concentration', tensor(1.1000)), ('likelihood.noise_covar.noise_prior.rate', tensor(0.0500)), ('likelihood.noise_covar.raw_noise_constraint.lower_bound', tensor(1.0000e-04)), ('likelihood.noise_covar.raw_noise_constraint.upper_bound', tensor(inf)), ('mean_module.raw_constant', tensor(132.9913)), ('covar_module.raw_outputscale', tensor(0.6454)), ('covar_module.base_kernel.raw_lengthscale', tensor([[0.3307, 0.3278, 0.3248, 0.3333, 0.3751]])), ('covar_module.base_kernel.lengthscale_prior.concentration', tensor(3.)), ('covar_module.base_kernel.lengthscale_prior.rate', tensor(6.)), ('covar_module.base_kernel.raw_lengthscale_constraint.lower_bound', tensor(1.0000e-04)), ('covar_module.base_kernel.raw_lengthscale_constraint.upper_bound', tensor(inf)), ('covar_module.outputscale_prior.a', tensor([1.])), ('covar_module.outputscale_prior.b', tensor([4.])), ('covar_module.outputscale_prior.sigma', tensor([0.0100])), ('covar_module.outputscale_prior.tails.loc', tensor([0.])), ('covar_module.outputscale_prior.tails.scale', tensor([0.0100])), ('covar_module.raw_outputscale_constraint.lower_bound', tensor(0.)), ('covar_module.raw_outputscale_constraint.upper_bound', tensor(inf))])\n",
      "Loading state dict\n"
     ]
    },
    {
     "name": "stderr",
     "output_type": "stream",
     "text": [
      "2023-04-08 22:29:59,650 [INFO   ] Received msg [ask]\n",
      "2023-04-08 22:29:59,651 [INFO   ] Received msg [tell]\n"
     ]
    },
    {
     "name": "stdout",
     "output_type": "stream",
     "text": [
      "AEPsychSurrogate.fit, refit:  False  state_dict:  OrderedDict([('likelihood.noise_covar.raw_noise', tensor([196.0903])), ('likelihood.noise_covar.noise_prior.concentration', tensor(1.1000)), ('likelihood.noise_covar.noise_prior.rate', tensor(0.0500)), ('likelihood.noise_covar.raw_noise_constraint.lower_bound', tensor(1.0000e-04)), ('likelihood.noise_covar.raw_noise_constraint.upper_bound', tensor(inf)), ('mean_module.raw_constant', tensor(133.7450)), ('covar_module.raw_outputscale', tensor(0.5421)), ('covar_module.base_kernel.raw_lengthscale', tensor([[0.3322, 0.3303, 0.3275, 0.3333, 0.2846]])), ('covar_module.base_kernel.lengthscale_prior.concentration', tensor(3.)), ('covar_module.base_kernel.lengthscale_prior.rate', tensor(6.)), ('covar_module.base_kernel.raw_lengthscale_constraint.lower_bound', tensor(1.0000e-04)), ('covar_module.base_kernel.raw_lengthscale_constraint.upper_bound', tensor(inf)), ('covar_module.outputscale_prior.a', tensor([1.])), ('covar_module.outputscale_prior.b', tensor([4.])), ('covar_module.outputscale_prior.sigma', tensor([0.0100])), ('covar_module.outputscale_prior.tails.loc', tensor([0.])), ('covar_module.outputscale_prior.tails.scale', tensor([0.0100])), ('covar_module.raw_outputscale_constraint.lower_bound', tensor(0.)), ('covar_module.raw_outputscale_constraint.upper_bound', tensor(inf))])\n",
      "Loading state dict\n"
     ]
    },
    {
     "name": "stderr",
     "output_type": "stream",
     "text": [
      "c:\\Users\\ckamd\\anaconda3\\envs\\aepsych\\lib\\site-packages\\botorch\\models\\utils\\assorted.py:201: InputDataWarning:\n",
      "\n",
      "Input data is not standardized. Please consider scaling the input to zero mean and unit variance.\n",
      "\n",
      "2023-04-08 22:30:11,337 [INFO   ] Received msg [ask]\n",
      "2023-04-08 22:30:11,338 [INFO   ] Received msg [tell]\n",
      "2023-04-08 22:30:11,599 [INFO   ] Recording strat because the experiment is complete.\n",
      "2023-04-08 22:30:11,802 [INFO   ] Received msg [tell]\n",
      "2023-04-08 22:30:12,105 [INFO   ] Recording strat because the experiment is complete.\n"
     ]
    }
   ],
   "source": [
    "def simulate_response(trial_params):\n",
    "    pars = [\n",
    "        trial_params[par][0]\n",
    "        for par in trial_params\n",
    "        if type(trial_params[par][0]) == float\n",
    "    ]\n",
    "    response = np.array(pars).sum()\n",
    "    return response\n",
    "\n",
    "# Fix random seeds\n",
    "np.random.seed(0)\n",
    "torch.manual_seed(0)\n",
    "\n",
    "# Create a server object configured to run a 2d threshold experiment\n",
    "database_path = \"./testing.db\"\n",
    "client = AEPsychClient(server=AEPsychServer(database_path=database_path))\n",
    "config_file = \"../../configs/ax_example.ini\"\n",
    "config_file = os.path.join(os.path.dirname(\"__file__\"), config_file)\n",
    "client.configure(config_file)\n",
    "\n",
    "\n",
    "# print(\"Unfitted state_dict_ Botorch: \", client.server.strat.strat._steps[1].model_spec._fitted_model.model.surrogates['only_surrogate'].model.state_dict())\n",
    "\n",
    "while not client.server.strat.finished:\n",
    "    # Ask the server what the next parameter values to test should be.\n",
    "    trial_params = client.ask()\n",
    "\n",
    "    # Simulate a participant response.\n",
    "    outcome = simulate_response(trial_params[\"config\"])\n",
    "\n",
    "    # Tell the server what happened so that it can update its model.\n",
    "    client.tell(trial_params[\"config\"], outcome)\n",
    "\n",
    "# Add an extra tell to make sure manual tells and duplicate params\n",
    "client.tell(trial_params[\"config\"], outcome)\n"
   ]
  },
  {
   "cell_type": "code",
   "execution_count": 3,
   "id": "1551af3e",
   "metadata": {},
   "outputs": [
    {
     "name": "stderr",
     "output_type": "stream",
     "text": [
      "2023-04-08 22:30:12,424 [INFO   ] Received msg [ask]\n"
     ]
    },
    {
     "data": {
      "text/plain": [
       "{'config': {'par1': [],\n",
       "  'par2': [],\n",
       "  'par3': [],\n",
       "  'par4': [],\n",
       "  'par5': [],\n",
       "  'par6': [],\n",
       "  'par7': []},\n",
       " 'is_finished': True}"
      ]
     },
     "execution_count": 3,
     "metadata": {},
     "output_type": "execute_result"
    }
   ],
   "source": [
    "client.ask()"
   ]
  },
  {
   "cell_type": "code",
   "execution_count": 4,
   "id": "78b54901",
   "metadata": {},
   "outputs": [
    {
     "name": "stderr",
     "output_type": "stream",
     "text": [
      "2023-04-08 22:30:12,496 [INFO   ] Received msg [exit]\n",
      "2023-04-08 22:30:12,497 [INFO   ] Got termination message!\n",
      "2023-04-08 22:30:12,498 [INFO   ] Dumping strats to DB due to Normal termination.\n"
     ]
    }
   ],
   "source": [
    "client.finalize()"
   ]
  },
  {
   "cell_type": "code",
   "execution_count": 5,
   "id": "230b3012",
   "metadata": {},
   "outputs": [
    {
     "data": {
      "text/plain": [
       "<ax.models.torch.botorch_modular.model.BoTorchModel at 0x2342d02f370>"
      ]
     },
     "execution_count": 5,
     "metadata": {},
     "output_type": "execute_result"
    }
   ],
   "source": [
    "tmp = client.server.strat.strat._steps[1].model_spec._fitted_model.model\n",
    "tmp"
   ]
  },
  {
   "cell_type": "code",
   "execution_count": 6,
   "id": "9a7588b1",
   "metadata": {},
   "outputs": [
    {
     "data": {
      "text/plain": [
       "{'_surrogates': {<Keys.ONLY_SURROGATE: 'only_surrogate'>: <aepsych.models.surrogate.AEPsychSurrogate at 0x23429e6a670>},\n",
       " 'surrogate_specs': {},\n",
       " 'acquisition_class': aepsych.acquisition.acquisition.AEPsychAcquisition,\n",
       " 'acquisition_options': {},\n",
       " '_botorch_acqf_class': botorch.acquisition.monte_carlo.qNoisyExpectedImprovement,\n",
       " 'refit_on_update': True,\n",
       " 'refit_on_cv': False,\n",
       " 'warm_start_refit': True,\n",
       " '_search_space_digest': SearchSpaceDigest(feature_names=['par1', 'par2', 'par3', 'par4_OH_PARAM_', 'par5'], bounds=[(0.0, 1.0), (0.0, 1.0), (0.0, 1.0), (0.0, 1.0), (0.0, 1.0)], ordinal_features=[], categorical_features=[], discrete_choices={}, task_features=[], fidelity_features=[], target_fidelities={}, robust_digest=None)}"
      ]
     },
     "execution_count": 6,
     "metadata": {},
     "output_type": "execute_result"
    }
   ],
   "source": [
    "vars(tmp)"
   ]
  },
  {
   "cell_type": "code",
   "execution_count": 7,
   "id": "dcd01ce2",
   "metadata": {},
   "outputs": [
    {
     "data": {
      "text/plain": [
       "{}"
      ]
     },
     "execution_count": 7,
     "metadata": {},
     "output_type": "execute_result"
    }
   ],
   "source": [
    "current_state = tmp._get_state()\n",
    "current_state"
   ]
  },
  {
   "cell_type": "code",
   "execution_count": 8,
   "id": "41e171fb",
   "metadata": {},
   "outputs": [
    {
     "data": {
      "text/plain": [
       "OrderedDict([('likelihood.noise_covar.raw_noise', tensor([196.0903])),\n",
       "             ('likelihood.noise_covar.noise_prior.concentration',\n",
       "              tensor(1.1000)),\n",
       "             ('likelihood.noise_covar.noise_prior.rate', tensor(0.0500)),\n",
       "             ('likelihood.noise_covar.raw_noise_constraint.lower_bound',\n",
       "              tensor(1.0000e-04)),\n",
       "             ('likelihood.noise_covar.raw_noise_constraint.upper_bound',\n",
       "              tensor(inf)),\n",
       "             ('mean_module.raw_constant', tensor(133.7450)),\n",
       "             ('covar_module.raw_outputscale', tensor(0.5421)),\n",
       "             ('covar_module.base_kernel.raw_lengthscale',\n",
       "              tensor([[0.3322, 0.3303, 0.3275, 0.3333, 0.2846]])),\n",
       "             ('covar_module.base_kernel.lengthscale_prior.concentration',\n",
       "              tensor(3.)),\n",
       "             ('covar_module.base_kernel.lengthscale_prior.rate', tensor(6.)),\n",
       "             ('covar_module.base_kernel.raw_lengthscale_constraint.lower_bound',\n",
       "              tensor(1.0000e-04)),\n",
       "             ('covar_module.base_kernel.raw_lengthscale_constraint.upper_bound',\n",
       "              tensor(inf)),\n",
       "             ('covar_module.outputscale_prior.a', tensor([1.])),\n",
       "             ('covar_module.outputscale_prior.b', tensor([4.])),\n",
       "             ('covar_module.outputscale_prior.sigma', tensor([0.0100])),\n",
       "             ('covar_module.outputscale_prior.tails.loc', tensor([0.])),\n",
       "             ('covar_module.outputscale_prior.tails.scale', tensor([0.0100])),\n",
       "             ('covar_module.raw_outputscale_constraint.lower_bound',\n",
       "              tensor(0.)),\n",
       "             ('covar_module.raw_outputscale_constraint.upper_bound',\n",
       "              tensor(inf))])"
      ]
     },
     "execution_count": 8,
     "metadata": {},
     "output_type": "execute_result"
    }
   ],
   "source": [
    "tmp.surrogates['only_surrogate'].model.state_dict()"
   ]
  },
  {
   "cell_type": "code",
   "execution_count": 9,
   "id": "042cffb1",
   "metadata": {},
   "outputs": [
    {
     "data": {
      "text/plain": [
       "<Models.BOTORCH_MODULAR: 'BoTorch'>"
      ]
     },
     "execution_count": 9,
     "metadata": {},
     "output_type": "execute_result"
    }
   ],
   "source": [
    "client.server.strat.strat._steps[1].model_spec.model_enum"
   ]
  }
 ],
 "metadata": {
  "kernelspec": {
   "display_name": "aepsych",
   "language": "python",
   "name": "python3"
  },
  "language_info": {
   "codemirror_mode": {
    "name": "ipython",
    "version": 3
   },
   "file_extension": ".py",
   "mimetype": "text/x-python",
   "name": "python",
   "nbconvert_exporter": "python",
   "pygments_lexer": "ipython3",
   "version": "3.9.0"
  },
  "vscode": {
   "interpreter": {
    "hash": "d5cd175c0c40f7502ca75fb5854cb93650fb8eb5d6fa501b3a333595e244f6e7"
   }
  }
 },
 "nbformat": 4,
 "nbformat_minor": 5
}
