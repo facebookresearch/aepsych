{
 "cells": [
  {
   "cell_type": "code",
   "execution_count": 1,
   "id": "93b195fc",
   "metadata": {},
   "outputs": [],
   "source": [
    "from aepsych.server import AEPsychServer\n",
    "from aepsych_client import AEPsychClient\n",
    "import numpy as np\n",
    "import torch\n",
    "import os"
   ]
  },
  {
   "cell_type": "code",
   "execution_count": 2,
   "id": "7c54252a",
   "metadata": {},
   "outputs": [
    {
     "name": "stderr",
     "output_type": "stream",
     "text": [
      "2023-04-09 08:41:11,526 [INFO   ] Found DB at ./testing.db, appending!\n",
      "C:\\Users\\ckamd\\OneDrive\\Desktop\\Meta_AEPsych\\Ax\\ax\\core\\parameter.py:511: UserWarning:\n",
      "\n",
      "`sort_values` is not specified for `ChoiceParameter` \"par4\". Defaulting to `False` for parameters of `ParameterType` STRING. To override this behavior (or avoid this warning), specify `sort_values` during `ChoiceParameter` construction.\n",
      "\n",
      "C:\\Users\\ckamd\\OneDrive\\Desktop\\Meta_AEPsych\\Ax\\ax\\core\\parameter.py:511: UserWarning:\n",
      "\n",
      "`sort_values` is not specified for `ChoiceParameter` \"par5\". Defaulting to `False` for parameters of `ParameterType` STRING. To override this behavior (or avoid this warning), specify `sort_values` during `ChoiceParameter` construction.\n",
      "\n",
      "2023-04-09 08:41:11,642 [INFO   ] Received msg [setup]\n",
      "2023-04-09 08:41:11,709 [INFO   ] Received msg [ask]\n",
      "2023-04-09 08:41:11,712 [INFO   ] Received msg [tell]\n",
      "2023-04-09 08:41:12,067 [INFO   ] Received msg [ask]\n",
      "2023-04-09 08:41:12,069 [INFO   ] Received msg [tell]\n",
      "c:\\Users\\ckamd\\anaconda3\\envs\\aepsych\\lib\\site-packages\\botorch\\models\\utils\\assorted.py:201: InputDataWarning:\n",
      "\n",
      "Input data is not standardized. Please consider scaling the input to zero mean and unit variance.\n",
      "\n",
      "2023-04-09 08:41:12,423 [INFO   ] fit maxfun is 10\n",
      "2023-04-09 08:41:12,425 [INFO   ] Starting fit...\n",
      "2023-04-09 08:41:12,535 [INFO   ] Fit done, time=0.10845708847045898\n"
     ]
    },
    {
     "name": "stdout",
     "output_type": "stream",
     "text": [
      "AEPsychSurrogate.fit, refit:  True  state_dict:  None\n"
     ]
    },
    {
     "name": "stderr",
     "output_type": "stream",
     "text": [
      "2023-04-09 08:41:21,740 [INFO   ] Received msg [ask]\n",
      "2023-04-09 08:41:21,743 [INFO   ] Received msg [tell]\n",
      "c:\\Users\\ckamd\\anaconda3\\envs\\aepsych\\lib\\site-packages\\botorch\\models\\utils\\assorted.py:201: InputDataWarning:\n",
      "\n",
      "Input data is not standardized. Please consider scaling the input to zero mean and unit variance.\n",
      "\n",
      "2023-04-09 08:41:22,098 [INFO   ] fit maxfun is 12\n",
      "2023-04-09 08:41:22,099 [INFO   ] Starting fit...\n",
      "2023-04-09 08:41:22,240 [INFO   ] Fit done, time=0.13963937759399414\n"
     ]
    },
    {
     "name": "stdout",
     "output_type": "stream",
     "text": [
      "AEPsychSurrogate.fit, refit:  True  state_dict:  OrderedDict([('likelihood.noise_covar.raw_noise', tensor([4.6376])), ('likelihood.noise_covar.noise_prior.concentration', tensor(1.1000)), ('likelihood.noise_covar.noise_prior.rate', tensor(0.0500)), ('likelihood.noise_covar.raw_noise_constraint.lower_bound', tensor(1.0000e-04)), ('likelihood.noise_covar.raw_noise_constraint.upper_bound', tensor(inf)), ('mean_module.raw_constant', tensor(0.3296)), ('covar_module.raw_outputscale', tensor(3.8905)), ('covar_module.base_kernel.raw_lengthscale', tensor([[1.4563, 0.3347, 0.3457, 0.3333, 1.4439]])), ('covar_module.base_kernel.lengthscale_prior.concentration', tensor(3.)), ('covar_module.base_kernel.lengthscale_prior.rate', tensor(6.)), ('covar_module.base_kernel.raw_lengthscale_constraint.lower_bound', tensor(1.0000e-04)), ('covar_module.base_kernel.raw_lengthscale_constraint.upper_bound', tensor(inf)), ('covar_module.outputscale_prior.a', tensor([1.])), ('covar_module.outputscale_prior.b', tensor([4.])), ('covar_module.outputscale_prior.sigma', tensor([0.0100])), ('covar_module.outputscale_prior.tails.loc', tensor([0.])), ('covar_module.outputscale_prior.tails.scale', tensor([0.0100])), ('covar_module.raw_outputscale_constraint.lower_bound', tensor(0.)), ('covar_module.raw_outputscale_constraint.upper_bound', tensor(inf))])\n",
      "Loading state dict\n"
     ]
    },
    {
     "name": "stderr",
     "output_type": "stream",
     "text": [
      "2023-04-09 08:41:30,822 [INFO   ] Received msg [ask]\n",
      "2023-04-09 08:41:30,823 [INFO   ] Received msg [tell]\n"
     ]
    },
    {
     "name": "stdout",
     "output_type": "stream",
     "text": [
      "AEPsychSurrogate.fit, refit:  False  state_dict:  OrderedDict([('likelihood.noise_covar.raw_noise', tensor([31.9371])), ('likelihood.noise_covar.noise_prior.concentration', tensor(1.1000)), ('likelihood.noise_covar.noise_prior.rate', tensor(0.0500)), ('likelihood.noise_covar.raw_noise_constraint.lower_bound', tensor(1.0000e-04)), ('likelihood.noise_covar.raw_noise_constraint.upper_bound', tensor(inf)), ('mean_module.raw_constant', tensor(8.0039)), ('covar_module.raw_outputscale', tensor(3.5431)), ('covar_module.base_kernel.raw_lengthscale', tensor([[ 2.7992,  0.3341,  0.3516,  0.3333, 12.3860]])), ('covar_module.base_kernel.lengthscale_prior.concentration', tensor(3.)), ('covar_module.base_kernel.lengthscale_prior.rate', tensor(6.)), ('covar_module.base_kernel.raw_lengthscale_constraint.lower_bound', tensor(1.0000e-04)), ('covar_module.base_kernel.raw_lengthscale_constraint.upper_bound', tensor(inf)), ('covar_module.outputscale_prior.a', tensor([1.])), ('covar_module.outputscale_prior.b', tensor([4.])), ('covar_module.outputscale_prior.sigma', tensor([0.0100])), ('covar_module.outputscale_prior.tails.loc', tensor([0.])), ('covar_module.outputscale_prior.tails.scale', tensor([0.0100])), ('covar_module.raw_outputscale_constraint.lower_bound', tensor(0.)), ('covar_module.raw_outputscale_constraint.upper_bound', tensor(inf))])\n",
      "Loading state dict\n"
     ]
    },
    {
     "name": "stderr",
     "output_type": "stream",
     "text": [
      "c:\\Users\\ckamd\\anaconda3\\envs\\aepsych\\lib\\site-packages\\botorch\\models\\utils\\assorted.py:201: InputDataWarning:\n",
      "\n",
      "Input data is not standardized. Please consider scaling the input to zero mean and unit variance.\n",
      "\n",
      "2023-04-09 08:41:42,306 [INFO   ] Received msg [ask]\n",
      "2023-04-09 08:41:42,308 [INFO   ] Received msg [tell]\n"
     ]
    },
    {
     "name": "stdout",
     "output_type": "stream",
     "text": [
      "AEPsychSurrogate.fit, refit:  False  state_dict:  OrderedDict([('likelihood.noise_covar.raw_noise', tensor([31.9371])), ('likelihood.noise_covar.noise_prior.concentration', tensor(1.1000)), ('likelihood.noise_covar.noise_prior.rate', tensor(0.0500)), ('likelihood.noise_covar.raw_noise_constraint.lower_bound', tensor(1.0000e-04)), ('likelihood.noise_covar.raw_noise_constraint.upper_bound', tensor(inf)), ('mean_module.raw_constant', tensor(8.0039)), ('covar_module.raw_outputscale', tensor(3.5431)), ('covar_module.base_kernel.raw_lengthscale', tensor([[ 2.7992,  0.3341,  0.3516,  0.3333, 12.3860]])), ('covar_module.base_kernel.lengthscale_prior.concentration', tensor(3.)), ('covar_module.base_kernel.lengthscale_prior.rate', tensor(6.)), ('covar_module.base_kernel.raw_lengthscale_constraint.lower_bound', tensor(1.0000e-04)), ('covar_module.base_kernel.raw_lengthscale_constraint.upper_bound', tensor(inf)), ('covar_module.outputscale_prior.a', tensor([1.])), ('covar_module.outputscale_prior.b', tensor([4.])), ('covar_module.outputscale_prior.sigma', tensor([0.0100])), ('covar_module.outputscale_prior.tails.loc', tensor([0.])), ('covar_module.outputscale_prior.tails.scale', tensor([0.0100])), ('covar_module.raw_outputscale_constraint.lower_bound', tensor(0.)), ('covar_module.raw_outputscale_constraint.upper_bound', tensor(inf))])\n",
      "Loading state dict\n"
     ]
    },
    {
     "name": "stderr",
     "output_type": "stream",
     "text": [
      "c:\\Users\\ckamd\\anaconda3\\envs\\aepsych\\lib\\site-packages\\botorch\\models\\utils\\assorted.py:201: InputDataWarning:\n",
      "\n",
      "Input data is not standardized. Please consider scaling the input to zero mean and unit variance.\n",
      "\n",
      "2023-04-09 08:41:52,240 [INFO   ] Received msg [ask]\n",
      "2023-04-09 08:41:52,241 [INFO   ] Received msg [tell]\n",
      "c:\\Users\\ckamd\\anaconda3\\envs\\aepsych\\lib\\site-packages\\botorch\\models\\utils\\assorted.py:201: InputDataWarning:\n",
      "\n",
      "Input data is not standardized. Please consider scaling the input to zero mean and unit variance.\n",
      "\n",
      "2023-04-09 08:41:52,703 [INFO   ] fit maxfun is 25\n",
      "2023-04-09 08:41:52,705 [INFO   ] Starting fit...\n"
     ]
    },
    {
     "name": "stdout",
     "output_type": "stream",
     "text": [
      "AEPsychSurrogate.fit, refit:  True  state_dict:  OrderedDict([('likelihood.noise_covar.raw_noise', tensor([31.9371])), ('likelihood.noise_covar.noise_prior.concentration', tensor(1.1000)), ('likelihood.noise_covar.noise_prior.rate', tensor(0.0500)), ('likelihood.noise_covar.raw_noise_constraint.lower_bound', tensor(1.0000e-04)), ('likelihood.noise_covar.raw_noise_constraint.upper_bound', tensor(inf)), ('mean_module.raw_constant', tensor(8.0039)), ('covar_module.raw_outputscale', tensor(3.5431)), ('covar_module.base_kernel.raw_lengthscale', tensor([[ 2.7992,  0.3341,  0.3516,  0.3333, 12.3860]])), ('covar_module.base_kernel.lengthscale_prior.concentration', tensor(3.)), ('covar_module.base_kernel.lengthscale_prior.rate', tensor(6.)), ('covar_module.base_kernel.raw_lengthscale_constraint.lower_bound', tensor(1.0000e-04)), ('covar_module.base_kernel.raw_lengthscale_constraint.upper_bound', tensor(inf)), ('covar_module.outputscale_prior.a', tensor([1.])), ('covar_module.outputscale_prior.b', tensor([4.])), ('covar_module.outputscale_prior.sigma', tensor([0.0100])), ('covar_module.outputscale_prior.tails.loc', tensor([0.])), ('covar_module.outputscale_prior.tails.scale', tensor([0.0100])), ('covar_module.raw_outputscale_constraint.lower_bound', tensor(0.)), ('covar_module.raw_outputscale_constraint.upper_bound', tensor(inf))])\n",
      "Loading state dict\n"
     ]
    },
    {
     "name": "stderr",
     "output_type": "stream",
     "text": [
      "2023-04-09 08:41:52,876 [INFO   ] Fit done, time=0.16914033889770508\n",
      "2023-04-09 08:42:12,644 [INFO   ] Received msg [ask]\n",
      "2023-04-09 08:42:12,647 [INFO   ] Received msg [tell]\n"
     ]
    },
    {
     "name": "stdout",
     "output_type": "stream",
     "text": [
      "AEPsychSurrogate.fit, refit:  False  state_dict:  OrderedDict([('likelihood.noise_covar.raw_noise', tensor([33.2633])), ('likelihood.noise_covar.noise_prior.concentration', tensor(1.1000)), ('likelihood.noise_covar.noise_prior.rate', tensor(0.0500)), ('likelihood.noise_covar.raw_noise_constraint.lower_bound', tensor(1.0000e-04)), ('likelihood.noise_covar.raw_noise_constraint.upper_bound', tensor(inf)), ('mean_module.raw_constant', tensor(19.8280)), ('covar_module.raw_outputscale', tensor(3.7014)), ('covar_module.base_kernel.raw_lengthscale', tensor([[0.6472, 0.3629, 0.1501, 0.3333, 2.8779]])), ('covar_module.base_kernel.lengthscale_prior.concentration', tensor(3.)), ('covar_module.base_kernel.lengthscale_prior.rate', tensor(6.)), ('covar_module.base_kernel.raw_lengthscale_constraint.lower_bound', tensor(1.0000e-04)), ('covar_module.base_kernel.raw_lengthscale_constraint.upper_bound', tensor(inf)), ('covar_module.outputscale_prior.a', tensor([1.])), ('covar_module.outputscale_prior.b', tensor([4.])), ('covar_module.outputscale_prior.sigma', tensor([0.0100])), ('covar_module.outputscale_prior.tails.loc', tensor([0.])), ('covar_module.outputscale_prior.tails.scale', tensor([0.0100])), ('covar_module.raw_outputscale_constraint.lower_bound', tensor(0.)), ('covar_module.raw_outputscale_constraint.upper_bound', tensor(inf))])\n",
      "Loading state dict\n"
     ]
    },
    {
     "name": "stderr",
     "output_type": "stream",
     "text": [
      "c:\\Users\\ckamd\\anaconda3\\envs\\aepsych\\lib\\site-packages\\botorch\\models\\utils\\assorted.py:201: InputDataWarning:\n",
      "\n",
      "Input data is not standardized. Please consider scaling the input to zero mean and unit variance.\n",
      "\n",
      "2023-04-09 08:42:32,442 [INFO   ] Received msg [ask]\n",
      "2023-04-09 08:42:32,444 [INFO   ] Received msg [tell]\n"
     ]
    },
    {
     "name": "stdout",
     "output_type": "stream",
     "text": [
      "AEPsychSurrogate.fit, refit:  False  state_dict:  OrderedDict([('likelihood.noise_covar.raw_noise', tensor([33.2633])), ('likelihood.noise_covar.noise_prior.concentration', tensor(1.1000)), ('likelihood.noise_covar.noise_prior.rate', tensor(0.0500)), ('likelihood.noise_covar.raw_noise_constraint.lower_bound', tensor(1.0000e-04)), ('likelihood.noise_covar.raw_noise_constraint.upper_bound', tensor(inf)), ('mean_module.raw_constant', tensor(19.8280)), ('covar_module.raw_outputscale', tensor(3.7014)), ('covar_module.base_kernel.raw_lengthscale', tensor([[0.6472, 0.3629, 0.1501, 0.3333, 2.8779]])), ('covar_module.base_kernel.lengthscale_prior.concentration', tensor(3.)), ('covar_module.base_kernel.lengthscale_prior.rate', tensor(6.)), ('covar_module.base_kernel.raw_lengthscale_constraint.lower_bound', tensor(1.0000e-04)), ('covar_module.base_kernel.raw_lengthscale_constraint.upper_bound', tensor(inf)), ('covar_module.outputscale_prior.a', tensor([1.])), ('covar_module.outputscale_prior.b', tensor([4.])), ('covar_module.outputscale_prior.sigma', tensor([0.0100])), ('covar_module.outputscale_prior.tails.loc', tensor([0.])), ('covar_module.outputscale_prior.tails.scale', tensor([0.0100])), ('covar_module.raw_outputscale_constraint.lower_bound', tensor(0.)), ('covar_module.raw_outputscale_constraint.upper_bound', tensor(inf))])\n",
      "Loading state dict\n"
     ]
    },
    {
     "name": "stderr",
     "output_type": "stream",
     "text": [
      "c:\\Users\\ckamd\\anaconda3\\envs\\aepsych\\lib\\site-packages\\botorch\\models\\utils\\assorted.py:201: InputDataWarning:\n",
      "\n",
      "Input data is not standardized. Please consider scaling the input to zero mean and unit variance.\n",
      "\n",
      "2023-04-09 08:42:54,201 [INFO   ] Received msg [ask]\n",
      "2023-04-09 08:42:54,203 [INFO   ] Received msg [tell]\n",
      "c:\\Users\\ckamd\\anaconda3\\envs\\aepsych\\lib\\site-packages\\botorch\\models\\utils\\assorted.py:201: InputDataWarning:\n",
      "\n",
      "Input data is not standardized. Please consider scaling the input to zero mean and unit variance.\n",
      "\n",
      "2023-04-09 08:42:54,719 [INFO   ] fit maxfun is 19\n",
      "2023-04-09 08:42:54,721 [INFO   ] Starting fit...\n",
      "2023-04-09 08:42:54,813 [INFO   ] Fit done, time=0.0910031795501709\n"
     ]
    },
    {
     "name": "stdout",
     "output_type": "stream",
     "text": [
      "AEPsychSurrogate.fit, refit:  True  state_dict:  OrderedDict([('likelihood.noise_covar.raw_noise', tensor([33.2633])), ('likelihood.noise_covar.noise_prior.concentration', tensor(1.1000)), ('likelihood.noise_covar.noise_prior.rate', tensor(0.0500)), ('likelihood.noise_covar.raw_noise_constraint.lower_bound', tensor(1.0000e-04)), ('likelihood.noise_covar.raw_noise_constraint.upper_bound', tensor(inf)), ('mean_module.raw_constant', tensor(19.8280)), ('covar_module.raw_outputscale', tensor(3.7014)), ('covar_module.base_kernel.raw_lengthscale', tensor([[0.6472, 0.3629, 0.1501, 0.3333, 2.8779]])), ('covar_module.base_kernel.lengthscale_prior.concentration', tensor(3.)), ('covar_module.base_kernel.lengthscale_prior.rate', tensor(6.)), ('covar_module.base_kernel.raw_lengthscale_constraint.lower_bound', tensor(1.0000e-04)), ('covar_module.base_kernel.raw_lengthscale_constraint.upper_bound', tensor(inf)), ('covar_module.outputscale_prior.a', tensor([1.])), ('covar_module.outputscale_prior.b', tensor([4.])), ('covar_module.outputscale_prior.sigma', tensor([0.0100])), ('covar_module.outputscale_prior.tails.loc', tensor([0.])), ('covar_module.outputscale_prior.tails.scale', tensor([0.0100])), ('covar_module.raw_outputscale_constraint.lower_bound', tensor(0.)), ('covar_module.raw_outputscale_constraint.upper_bound', tensor(inf))])\n",
      "Loading state dict\n"
     ]
    },
    {
     "name": "stderr",
     "output_type": "stream",
     "text": [
      "2023-04-09 08:43:31,970 [INFO   ] Received msg [ask]\n",
      "2023-04-09 08:43:31,972 [INFO   ] Received msg [tell]\n"
     ]
    },
    {
     "name": "stdout",
     "output_type": "stream",
     "text": [
      "AEPsychSurrogate.fit, refit:  False  state_dict:  OrderedDict([('likelihood.noise_covar.raw_noise', tensor([38.2381])), ('likelihood.noise_covar.noise_prior.concentration', tensor(1.1000)), ('likelihood.noise_covar.noise_prior.rate', tensor(0.0500)), ('likelihood.noise_covar.raw_noise_constraint.lower_bound', tensor(1.0000e-04)), ('likelihood.noise_covar.raw_noise_constraint.upper_bound', tensor(inf)), ('mean_module.raw_constant', tensor(26.2598)), ('covar_module.raw_outputscale', tensor(3.9913)), ('covar_module.base_kernel.raw_lengthscale', tensor([[3.3912, 0.4548, 0.2306, 0.3333, 1.1260]])), ('covar_module.base_kernel.lengthscale_prior.concentration', tensor(3.)), ('covar_module.base_kernel.lengthscale_prior.rate', tensor(6.)), ('covar_module.base_kernel.raw_lengthscale_constraint.lower_bound', tensor(1.0000e-04)), ('covar_module.base_kernel.raw_lengthscale_constraint.upper_bound', tensor(inf)), ('covar_module.outputscale_prior.a', tensor([1.])), ('covar_module.outputscale_prior.b', tensor([4.])), ('covar_module.outputscale_prior.sigma', tensor([0.0100])), ('covar_module.outputscale_prior.tails.loc', tensor([0.])), ('covar_module.outputscale_prior.tails.scale', tensor([0.0100])), ('covar_module.raw_outputscale_constraint.lower_bound', tensor(0.)), ('covar_module.raw_outputscale_constraint.upper_bound', tensor(inf))])\n",
      "Loading state dict\n"
     ]
    },
    {
     "name": "stderr",
     "output_type": "stream",
     "text": [
      "c:\\Users\\ckamd\\anaconda3\\envs\\aepsych\\lib\\site-packages\\botorch\\models\\utils\\assorted.py:201: InputDataWarning:\n",
      "\n",
      "Input data is not standardized. Please consider scaling the input to zero mean and unit variance.\n",
      "\n",
      "2023-04-09 08:43:38,679 [INFO   ] Received msg [ask]\n",
      "2023-04-09 08:43:38,681 [INFO   ] Received msg [tell]\n",
      "2023-04-09 08:43:39,123 [INFO   ] Recording strat because the experiment is complete.\n",
      "2023-04-09 08:43:39,282 [INFO   ] Received msg [tell]\n",
      "2023-04-09 08:43:39,575 [INFO   ] Recording strat because the experiment is complete.\n"
     ]
    }
   ],
   "source": [
    "def simulate_response(trial_params):\n",
    "    pars = [\n",
    "        trial_params[par][0]\n",
    "        for par in trial_params\n",
    "        if type(trial_params[par][0]) == float\n",
    "    ]\n",
    "    response = np.array(pars).sum()\n",
    "    return response\n",
    "\n",
    "# Fix random seeds\n",
    "np.random.seed(0)\n",
    "torch.manual_seed(0)\n",
    "\n",
    "# Create a server object configured to run a 2d threshold experiment\n",
    "database_path = \"./testing.db\"\n",
    "client = AEPsychClient(server=AEPsychServer(database_path=database_path))\n",
    "config_file = \"../../configs/ax_example.ini\"\n",
    "config_file = os.path.join(os.path.dirname(\"__file__\"), config_file)\n",
    "client.configure(config_file)\n",
    "\n",
    "\n",
    "# print(\"Unfitted state_dict_ Botorch: \", client.server.strat.strat._steps[1].model_spec._fitted_model.model.surrogates['only_surrogate'].model.state_dict())\n",
    "\n",
    "while not client.server.strat.finished:\n",
    "    # Ask the server what the next parameter values to test should be.\n",
    "    trial_params = client.ask()\n",
    "\n",
    "    # Simulate a participant response.\n",
    "    outcome = simulate_response(trial_params[\"config\"])\n",
    "\n",
    "    # Tell the server what happened so that it can update its model.\n",
    "    client.tell(trial_params[\"config\"], outcome)\n",
    "\n",
    "# Add an extra tell to make sure manual tells and duplicate params\n",
    "client.tell(trial_params[\"config\"], outcome)\n"
   ]
  },
  {
   "cell_type": "code",
   "execution_count": 3,
   "id": "1551af3e",
   "metadata": {},
   "outputs": [
    {
     "name": "stderr",
     "output_type": "stream",
     "text": [
      "2023-04-09 08:43:39,926 [INFO   ] Received msg [ask]\n"
     ]
    },
    {
     "data": {
      "text/plain": [
       "{'config': {'par1': [],\n",
       "  'par2': [],\n",
       "  'par3': [],\n",
       "  'par4': [],\n",
       "  'par5': [],\n",
       "  'par6': [],\n",
       "  'par7': []},\n",
       " 'is_finished': True}"
      ]
     },
     "execution_count": 3,
     "metadata": {},
     "output_type": "execute_result"
    }
   ],
   "source": [
    "client.ask()"
   ]
  },
  {
   "cell_type": "code",
   "execution_count": 4,
   "id": "78b54901",
   "metadata": {},
   "outputs": [
    {
     "name": "stderr",
     "output_type": "stream",
     "text": [
      "2023-04-09 08:43:39,980 [INFO   ] Received msg [exit]\n",
      "2023-04-09 08:43:39,981 [INFO   ] Got termination message!\n",
      "2023-04-09 08:43:39,981 [INFO   ] Dumping strats to DB due to Normal termination.\n"
     ]
    }
   ],
   "source": [
    "client.finalize()"
   ]
  },
  {
   "cell_type": "code",
   "execution_count": 5,
   "id": "230b3012",
   "metadata": {},
   "outputs": [
    {
     "data": {
      "text/plain": [
       "<ax.models.torch.botorch_modular.model.BoTorchModel at 0x16ace24c310>"
      ]
     },
     "execution_count": 5,
     "metadata": {},
     "output_type": "execute_result"
    }
   ],
   "source": [
    "tmp = client.server.strat.strat._steps[1].model_spec._fitted_model.model\n",
    "tmp"
   ]
  },
  {
   "cell_type": "code",
   "execution_count": 6,
   "id": "9a7588b1",
   "metadata": {},
   "outputs": [
    {
     "data": {
      "text/plain": [
       "{'_surrogates': {<Keys.ONLY_SURROGATE: 'only_surrogate'>: <aepsych.models.surrogate.AEPsychSurrogate at 0x16ace0568b0>},\n",
       " 'surrogate_specs': {},\n",
       " 'acquisition_class': aepsych.acquisition.acquisition.AEPsychAcquisition,\n",
       " 'acquisition_options': {},\n",
       " '_botorch_acqf_class': botorch.acquisition.monte_carlo.qNoisyExpectedImprovement,\n",
       " 'refit_on_update': True,\n",
       " 'refit_on_cv': False,\n",
       " 'warm_start_refit': True,\n",
       " '_search_space_digest': SearchSpaceDigest(feature_names=['par1', 'par2', 'par3', 'par4_OH_PARAM_', 'par5'], bounds=[(0.0, 1.0), (0.0, 1.0), (0.0, 1.0), (0.0, 1.0), (0.0, 1.0)], ordinal_features=[], categorical_features=[], discrete_choices={}, task_features=[], fidelity_features=[], target_fidelities={}, robust_digest=None)}"
      ]
     },
     "execution_count": 6,
     "metadata": {},
     "output_type": "execute_result"
    }
   ],
   "source": [
    "vars(tmp)"
   ]
  },
  {
   "cell_type": "code",
   "execution_count": 7,
   "id": "dcd01ce2",
   "metadata": {},
   "outputs": [
    {
     "data": {
      "text/plain": [
       "{}"
      ]
     },
     "execution_count": 7,
     "metadata": {},
     "output_type": "execute_result"
    }
   ],
   "source": [
    "current_state = tmp._get_state()\n",
    "current_state"
   ]
  },
  {
   "cell_type": "code",
   "execution_count": 8,
   "id": "41e171fb",
   "metadata": {},
   "outputs": [
    {
     "data": {
      "text/plain": [
       "OrderedDict([('likelihood.noise_covar.raw_noise', tensor([38.2381])),\n",
       "             ('likelihood.noise_covar.noise_prior.concentration',\n",
       "              tensor(1.1000)),\n",
       "             ('likelihood.noise_covar.noise_prior.rate', tensor(0.0500)),\n",
       "             ('likelihood.noise_covar.raw_noise_constraint.lower_bound',\n",
       "              tensor(1.0000e-04)),\n",
       "             ('likelihood.noise_covar.raw_noise_constraint.upper_bound',\n",
       "              tensor(inf)),\n",
       "             ('mean_module.raw_constant', tensor(26.2598)),\n",
       "             ('covar_module.raw_outputscale', tensor(3.9913)),\n",
       "             ('covar_module.base_kernel.raw_lengthscale',\n",
       "              tensor([[3.3912, 0.4548, 0.2306, 0.3333, 1.1260]])),\n",
       "             ('covar_module.base_kernel.lengthscale_prior.concentration',\n",
       "              tensor(3.)),\n",
       "             ('covar_module.base_kernel.lengthscale_prior.rate', tensor(6.)),\n",
       "             ('covar_module.base_kernel.raw_lengthscale_constraint.lower_bound',\n",
       "              tensor(1.0000e-04)),\n",
       "             ('covar_module.base_kernel.raw_lengthscale_constraint.upper_bound',\n",
       "              tensor(inf)),\n",
       "             ('covar_module.outputscale_prior.a', tensor([1.])),\n",
       "             ('covar_module.outputscale_prior.b', tensor([4.])),\n",
       "             ('covar_module.outputscale_prior.sigma', tensor([0.0100])),\n",
       "             ('covar_module.outputscale_prior.tails.loc', tensor([0.])),\n",
       "             ('covar_module.outputscale_prior.tails.scale', tensor([0.0100])),\n",
       "             ('covar_module.raw_outputscale_constraint.lower_bound',\n",
       "              tensor(0.)),\n",
       "             ('covar_module.raw_outputscale_constraint.upper_bound',\n",
       "              tensor(inf))])"
      ]
     },
     "execution_count": 8,
     "metadata": {},
     "output_type": "execute_result"
    }
   ],
   "source": [
    "tmp.surrogates['only_surrogate'].model.state_dict()"
   ]
  },
  {
   "cell_type": "code",
   "execution_count": 9,
   "id": "042cffb1",
   "metadata": {},
   "outputs": [
    {
     "data": {
      "text/plain": [
       "<Models.BOTORCH_MODULAR: 'BoTorch'>"
      ]
     },
     "execution_count": 9,
     "metadata": {},
     "output_type": "execute_result"
    }
   ],
   "source": [
    "client.server.strat.strat._steps[1].model_spec.model_enum"
   ]
  }
 ],
 "metadata": {
  "kernelspec": {
   "display_name": "aepsych",
   "language": "python",
   "name": "python3"
  },
  "language_info": {
   "codemirror_mode": {
    "name": "ipython",
    "version": 3
   },
   "file_extension": ".py",
   "mimetype": "text/x-python",
   "name": "python",
   "nbconvert_exporter": "python",
   "pygments_lexer": "ipython3",
   "version": "3.9.0"
  },
  "vscode": {
   "interpreter": {
    "hash": "d5cd175c0c40f7502ca75fb5854cb93650fb8eb5d6fa501b3a333595e244f6e7"
   }
  }
 },
 "nbformat": 4,
 "nbformat_minor": 5
}
