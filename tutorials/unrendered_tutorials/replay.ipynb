{
 "cells": [
  {
   "cell_type": "code",
   "execution_count": null,
   "metadata": {},
   "outputs": [],
   "source": [
    "from aepsych.server import AEPsychServer\n",
    "import matplotlib.pyplot as plt\n",
    "import pandas as pd\n",
    "from collections import defaultdict\n",
    "db_name = \"../databases/default.db\"\n",
    "outputfile = '../databases/results.csv'"
   ]
  },
  {
   "cell_type": "code",
   "execution_count": null,
   "metadata": {},
   "outputs": [],
   "source": [
    "class DummySocket(object):\n",
    "    pass\n",
    "\n",
    "serv = AEPsychServer(socket=DummySocket, database_path=db_name)\n",
    "\n",
    "exp_ids = [rec.experiment_id for rec in serv.db.get_master_records()]"
   ]
  },
  {
   "cell_type": "code",
   "execution_count": null,
   "metadata": {
    "scrolled": true
   },
   "outputs": [],
   "source": [
    "# this will take all the data a write it to a csv\n",
    "def from_setup(setup_message):\n",
    "    confs = setup_message.message_contents['message']['experiment_config']\n",
    "    names = []\n",
    "    for con in confs:\n",
    "        names.append(con['name'])\n",
    "    outcome_type = setup_message.message_contents['message']['outcome_type']\n",
    "    return(names, outcome_type)\n",
    "\n",
    "def get_data(serv, exp_id):\n",
    "    recs = serv.db.get_replay_for(exp_id)\n",
    "    names, outcome_type = from_setup(recs[0])\n",
    "    results = defaultdict(list)\n",
    "    for rec in recs:\n",
    "        if rec.message_type == \"tell\":\n",
    "            for name in names:\n",
    "                results[name].append(rec.message_contents['message']['config'][name])\n",
    "                results['outcome'].append(rec.message_contents['message']['outcome'])\n",
    "    datie = pd.DataFrame(results['squeeze']).add_prefix('squeeze_')\n",
    "    datie['outcome'] = results['outcome']\n",
    "    datie['exp_id'] = exp_id\n",
    "    return(datie)\n",
    "\n",
    "dfs = []\n",
    "for exp_id in exp_ids:\n",
    "    dfs.append(get_data(serv, exp_id))\n",
    "datie = pd.concat(dfs)\n",
    "\n",
    "datie.to_csv(outputfile)"
   ]
  },
  {
   "cell_type": "code",
   "execution_count": null,
   "metadata": {},
   "outputs": [],
   "source": [
    "from aepsych.plotting import make_debug_plots\n",
    "# do the replays and produce plots\n",
    "for exp_id in exp_ids:\n",
    "    serv.replay(exp_id)\n",
    "    make_debug_plots(serv.strat)"
   ]
  }
 ],
 "metadata": {
  "kernelspec": {
   "display_name": "Python 3",
   "language": "python",
   "name": "python3"
  },
  "language_info": {
   "codemirror_mode": {
    "name": "ipython",
    "version": 3
   },
   "file_extension": ".py",
   "mimetype": "text/x-python",
   "name": "python",
   "nbconvert_exporter": "python",
   "pygments_lexer": "ipython3",
   "version": "3.8.5"
  }
 },
 "nbformat": 4,
 "nbformat_minor": 4
}
