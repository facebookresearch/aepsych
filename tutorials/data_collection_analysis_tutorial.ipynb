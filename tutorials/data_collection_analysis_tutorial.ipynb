{
 "cells": [
  {
   "cell_type": "markdown",
   "metadata": {},
   "source": [
    "# Data Collection and Analysis Using AEPsych\n",
    "\n",
    "This tutorial serves as a complete example on how to collect and analyze data from perceptual experiments using AEPsych. For more information on AEPsych, refer to the documentation in the [GitHub repository](https://github.com/facebookresearch/aepsych). \n",
    "\n",
    "This tutorial demonstrates how to create an experiment to measure one's detection threshold for orientation. On each trial of the experiment, the participant is shown two gabor-patch stimuli, one oriented vertically (the foil) and one oriented at an angle (the target). The goal of the experiment is to find the smallest angle at which the participant can reliably identify the target. You can run the code blocks below interactively to participate in the experiment yourself, or you can simply view data collected from an example participant."
   ]
  },
  {
   "cell_type": "markdown",
   "metadata": {},
   "source": [
    "## Experiment Overview\n",
    "Below we define the functions we will need to conduct our experiment. Note that the code here is mainly for demonstration purposes and should not be used for serious experiments. If you would like to run psychophysics experiments in Python, consider using [Psychopy](https://www.psychopy.org/)."
   ]
  },
  {
   "cell_type": "code",
   "execution_count": null,
   "id": "283bdba8",
   "metadata": {},
   "outputs": [],
   "source": [
    "import math\n",
    "from IPython import get_ipython \n",
    "import matplotlib.cm as cm\n",
    "import matplotlib.pyplot as plt\n",
    "import numpy as np\n",
    "import time\n",
    "from IPython.display import clear_output\n",
    "import random\n",
    "\n",
    "fig_size = 15\n",
    "\n",
    "# Show a fixation cross with a blank background\n",
    "def show_fixation_cross():\n",
    "    _, ax = plt.subplots(1, figsize=(fig_size, fig_size/2))\n",
    "    for spine in ax.spines.values():\n",
    "        spine.set_visible(False)\n",
    "    ax.tick_params(bottom=False, labelbottom=False,\n",
    "                left=False, labelleft=False)\n",
    "    ax.text(0.5, 0.5, '+', size=100,\n",
    "        horizontalalignment='center',\n",
    "        verticalalignment='center',\n",
    "        transform=ax.transAxes)\n",
    "    ax.axis('off')\n",
    "    ax.grid(visible=None)\n",
    "    plt.show()\n",
    "\n",
    "# Evaluate the gabor filter function at an x,y position\n",
    "def gabor(x, y, theta):\n",
    "    f = 0.05\n",
    "    sigma = 25\n",
    "\n",
    "    x_ = x * math.cos(theta) + y * math.sin(theta)\n",
    "    y_ = y * math.cos(theta) - x * math.sin(theta)\n",
    "    num = x_ ** 2 + y_ ** 2\n",
    "    return math.exp(num / (-2 * sigma**2)) * math.cos(2 * math.pi * f * x_)\n",
    "\n",
    "# Show a gabor patch\n",
    "def show_gabor(theta, ax):\n",
    "    # The size of the gabor patch\n",
    "    radius = 60\n",
    "\n",
    "    # Convert from degrees to radians\n",
    "    theta = math.radians(theta)\n",
    "\n",
    "    M = np.array([[gabor(i, j, theta) for j in range(-radius, radius)] for i in range(-radius, radius)])\n",
    "    M = ((M - M.min())) / (M.max() - M.min())\n",
    "\n",
    "    ax.axis('off')\n",
    "    ax.grid(visible=None)\n",
    "    ax.imshow(M.T, cmap=cm.Greys_r)\n",
    "\n",
    "\n",
    "def run_trial(angle, trial_number):\n",
    "    fixation_duration = 1\n",
    "    trial_duration = 0.5\n",
    "\n",
    "    # Show the fixation cross\n",
    "    show_fixation_cross()\n",
    "    time.sleep(fixation_duration)\n",
    "    clear_output(wait=True)\n",
    "\n",
    "    # randomly select if target should go on left or right side\n",
    "    right_side = random.choice([0, 1])\n",
    "\n",
    "    # randomly select if target angle should be clockwise or counterclockwise\n",
    "    direction = random.choice([-1, 1])\n",
    "    angle *= direction\n",
    "\n",
    "    # Show the foil and target\n",
    "    _, axs = plt.subplots(1, 2, figsize=(fig_size, fig_size))\n",
    "    show_gabor(angle, axs[right_side])\n",
    "    show_gabor(0, axs[int(not right_side)])\n",
    "\n",
    "    # Ask for the participant's response\n",
    "    ans = None\n",
    "    ans_key = {'j': 1, 'J': 1, 'f': 0, 'F': 0}\n",
    "    while ans not in ans_key:\n",
    "        plt.show()\n",
    "        time.sleep(trial_duration)\n",
    "        clear_output()\n",
    "        ans = input(f\"Trial #{trial_number}: Which side was angled? (Enter 'F' for left or 'J' for right)\")\n",
    "\n",
    "    # Check if the response was correct\n",
    "    is_correct = int(ans_key[ans] == right_side)\n",
    "    target_side = \"right\" if right_side else \"left\"\n",
    "    \n",
    "    return is_correct, target_side\n"
   ]
  },
  {
   "cell_type": "markdown",
   "id": "f7513a67",
   "metadata": {},
   "source": [
    "On each trial of the experiment, the participant will first see a white box with fixation cross for 1 second. The box looks like this:"
   ]
  },
  {
   "cell_type": "code",
   "execution_count": null,
   "id": "bb2363c8",
   "metadata": {},
   "outputs": [],
   "source": [
    "show_fixation_cross()"
   ]
  },
  {
   "cell_type": "markdown",
   "id": "7a5d5056",
   "metadata": {},
   "source": [
    "After 1 second, the fixation cross will disappear, and two gabor patches will appear side-by-side. One patch will be the foil with a vertical orientation, and one will be the target with an angled orientation. The position of the target and whether the angle is measured clockwise or counterclockwise is randomized each trial. An example foil and target are shown below:"
   ]
  },
  {
   "cell_type": "code",
   "execution_count": null,
   "id": "3494c846",
   "metadata": {},
   "outputs": [],
   "source": [
    "_, axs = plt.subplots(1, 2, figsize=(fig_size, fig_size))\n",
    "show_gabor(0, axs[0])\n",
    "show_gabor(5, axs[1])"
   ]
  },
  {
   "cell_type": "markdown",
   "id": "2ca516e8",
   "metadata": {},
   "source": [
    "After 0.5 seconds, the patches will disappear, and the participant will be prompted to report which one was the target by typing \"F\" for left or \"J\" for right, and then hitting enter. Try running the code block below to experience a trial for yourself. The `run_trial` function takes an angle and a trial number as input and returns whether or not you were correct (1 for correct, 0 for incorrect), as well as the side which the target was actually on. "
   ]
  },
  {
   "cell_type": "code",
   "execution_count": null,
   "id": "9d122e2d",
   "metadata": {},
   "outputs": [],
   "source": [
    "# run_trial(5, 0)"
   ]
  },
  {
   "cell_type": "markdown",
   "id": "3477f213",
   "metadata": {},
   "source": [
    "## Starting the AEPsych Server\n",
    "The code block below starts an AEPsych server that will run in the background (you can also start the server by running the second line in a command prompt). We can contact the server at IP address 0.0.0.0, port 5555, and the data will be saved in a database named \"data_collection_analysis_tutorial.db\". In this tutorial, we will run the server on the same computer as the experiment, but it is also possible to run the server remotely. "
   ]
  },
  {
   "cell_type": "code",
   "execution_count": null,
   "id": "93b195fc",
   "metadata": {},
   "outputs": [],
   "source": [
    "from aepsych.server import AEPsychServer\n",
    "from aepsych_client import AEPsychClient\n",
    "\n",
    "server = AEPsychServer(database_path=\"data_collection_analysis_tutorial.db\")\n",
    "client = AEPsychClient(server=server)"
   ]
  },
  {
   "cell_type": "markdown",
   "id": "f3bfa05b",
   "metadata": {},
   "source": [
    "We tell the server what kind of experiment we are running by sending it a configure message (see the [configs folder](https://github.com/facebookresearch/aepsych/tree/main/configs) for some examples. The gist of the config here is that it is telling the server that our experiment will have one parameter called \"angle\", which will range from 0.1 to 5 degrees. (If you run this experiment on yourself and find that this range of angles makes the experiment too easy or too hard, you can adjust the `lb` and `ub` values in the string below). This experiment will last for 50 trials. The parameter values from the first 10 trials will be drawn from the [Sobol sequence](https://en.wikipedia.org/wiki/Sobol_sequence), to provide some initial data to initialize AEPsych's model; the following 40 trials will be drawn from that model. In this case, the model will be a classification [Gaussian Process](https://en.wikipedia.org/wiki/Gaussian_process) (GP). \n",
    "\n",
    "GPs can be thought of as generalizations of traditional psychophysics models that can handle multiple dimensions and allow the response function to be nonlinear (for further discussion see the [AEPsych preprint](https://arxiv.org/abs/2104.09549)). Furthermore, GPs can be used in conjunction with acquisition functions to perform [active learning](https://en.wikipedia.org/wiki/Active_learning_(machine_learning)--that is, the model can determine which points in the parameter space should be sampled next to achieve some goal. In this case we use the [level set estimation](https://www.ijcai.org/Proceedings/13/Papers/202.pdf) function to find the angle at which the participant will correctly identify the target 75% of the time. \n",
    "\n",
    "GPs are defined by a mean function and covariance function. Because we don't define what these functions should be in the config, they revert to their default values of a constant mean function, and a [radial basis covariance function](https://en.wikipedia.org/wiki/Radial_basis_function). These functions are fine for parameter space we want to explore here, but if we wanted to expand our search across a larger range of angles, we would probably want to use a periodic covariance function to account for that fact that angles loop every 360 degrees."
   ]
  },
  {
   "cell_type": "code",
   "execution_count": null,
   "id": "7c54252a",
   "metadata": {},
   "outputs": [],
   "source": [
    "config_str = \"\"\"\n",
    "[common]\n",
    "use_ax = True\n",
    "parnames = [theta] # names of the parameters\n",
    "lb = [0.1] # lower bound of the parameter\n",
    "ub = [5] # upper bound of parameter\n",
    "stimuli_per_trial = 1 # the number of stimuli shown in each trial; 1 for single, or 2 for pairwise experiments\n",
    "outcome_types = [binary] # the type of response given by the participant; can be [binary] or [continuous]\n",
    "target = 0.75 # desired threshold, for threshold estimation.\n",
    "strategy_names = [init_strat, opt_strat] # The strategies that will be used, corresponding to the named sections below\n",
    "\n",
    "# Configuration for the initialization strategy, which we use to gather initial points\n",
    "# before we start doing model-based acquisition\n",
    "[init_strat]\n",
    "min_total_tells = 1 # number of sobol trials to run\n",
    "generator = SobolGenerator # The generator class used to generate new parameter values\n",
    "\n",
    "# Configuration for the optimization strategy, our model-based acquisition\n",
    "[opt_strat]\n",
    "min_total_tells = 1 # total number of trials to run\n",
    "refit_every = 3 # how often to refit the model from scratch\n",
    "generator = OptimizeAcqfGenerator # The generator class used to generate new parameter values\n",
    "acqf = MCLevelSetEstimation # The acquisition function; MCLevelSetEstimation is used for threshold finding\n",
    "model = ContinuousRegressionGP # The model class\n",
    "\"\"\"\n",
    "\n",
    "client.configure(config_str=config_str, config_name=\"1d_gabor_config\")"
   ]
  },
  {
   "cell_type": "markdown",
   "id": "719a210f",
   "metadata": {},
   "source": [
    "Now that we have set up our client and configured our server, we can start collecting data. The basic loop of the experiment is as follows:\n",
    "\n",
    "1. Ask AEPsych what value of our parameter, angle, to try next.\n",
    "2. Run a trial using this suggested value.\n",
    "3. Tell AEPsych the particant's response so that it can update its model.\n",
    "4. Repeat for the specified number of trials.\n",
    "\n",
    "We ask AEPsych for parameters by calling client.ask(). This returns a dictionary with two entries. The first, `'config'`, contains another dictionary whose keys are the names of your parameters, and whose values are lists of parameter values to try. The second, `'is_finished'`, is a bool indicating whether the number of trials specified in the config have been completed."
   ]
  },
  {
   "cell_type": "code",
   "execution_count": null,
   "id": "1551af3e",
   "metadata": {},
   "outputs": [],
   "source": [
    "client.ask()"
   ]
  },
  {
   "cell_type": "markdown",
   "id": "b26f1854",
   "metadata": {},
   "source": [
    "We tell AEPsych about the parameter values we have tried by calling client.tell(). This method has two required arguments. The first, config, is a dictionary representing the set of parameter values you would like to tell AEPsych about, and takes the same format as the 'config' entry from client.ask(). The second argument is the binary outcome of a trial, indicated by 0 (the participant did not identify the target) or 1 (the participant did identify the target). This method also optionally takes other keyword arguments that will be stored as metadata in AEPsych's database. For our experiment, we will record which side the target was on."
   ]
  },
  {
   "cell_type": "code",
   "execution_count": null,
   "id": "f3f7678a",
   "metadata": {},
   "outputs": [],
   "source": [
    "client.tell(config={'theta':[.1]}, outcome=0, target_side='right')"
   ]
  },
  {
   "cell_type": "markdown",
   "id": "83a54d17",
   "metadata": {},
   "source": [
    "The code below asks AEPsych for parameter values and runs trials until the experiment is completed:"
   ]
  },
  {
   "cell_type": "code",
   "execution_count": null,
   "id": "5ee056ca",
   "metadata": {},
   "outputs": [],
   "source": [
    "finished = False\n",
    "finishes = []\n",
    "trial_number = 1\n",
    "while not client.server.strat.finished:\n",
    "    finishes.append(finished)\n",
    "    response = client.ask()\n",
    "    try:\n",
    "        theta = response[\"config\"][\"theta\"][0]\n",
    "    except Exception as e:\n",
    "        print(finishes, \"\\n\", response)\n",
    "        raise e\n",
    "    outcome, target_side = run_trial(theta, trial_number)\n",
    "    client.tell(config={\"theta\": [theta]}, outcome=outcome, target_side=target_side)\n",
    "    finished = response[\"is_finished\"]\n",
    "    trial_number += 1"
   ]
  },
  {
   "cell_type": "markdown",
   "id": "e9369d47",
   "metadata": {},
   "source": [
    "Note that even after the number of trials specified in the config have completed, you can still ask for more parameter values and conduct more trials:"
   ]
  },
  {
   "cell_type": "code",
   "execution_count": null,
   "id": "06ae89a2",
   "metadata": {},
   "outputs": [],
   "source": [
    "client.ask()"
   ]
  },
  {
   "cell_type": "markdown",
   "id": "44b78711",
   "metadata": {},
   "source": [
    "You are also not restricted to only using the parameter values that AEPsych suggests. You can tell it the outcome of any parameter values that you would like:"
   ]
  },
  {
   "cell_type": "code",
   "execution_count": null,
   "id": "24a907dd",
   "metadata": {},
   "outputs": [],
   "source": [
    "client.tell(config={'theta':[5.0]}, outcome=1, target_side='left')"
   ]
  },
  {
   "cell_type": "markdown",
   "id": "95dfec95",
   "metadata": {},
   "source": [
    "Once you are done collecting data, you can close the server by calling `client.finalize()`"
   ]
  },
  {
   "cell_type": "code",
   "execution_count": null,
   "id": "78b54901",
   "metadata": {},
   "outputs": [],
   "source": [
    "client.finalize()"
   ]
  },
  {
   "cell_type": "markdown",
   "id": "316253c4",
   "metadata": {},
   "source": [
    "## Replaying the Experiment and Analyzing Data\n",
    "To analyze the data, we open the database with an `AEPsychServer` object. This server runs here in the notebook rather than in the background like the server we used to collect data."
   ]
  },
  {
   "cell_type": "code",
   "execution_count": null,
   "id": "812c2124",
   "metadata": {},
   "outputs": [],
   "source": [
    "from aepsych.server import AEPsychServer\n",
    "\n",
    "serv = AEPsychServer(database_path=\"data_collection_analysis_tutorial.db\")"
   ]
  },
  {
   "cell_type": "markdown",
   "id": "003ac0b8",
   "metadata": {},
   "source": [
    "The database is made of a set of experiments, which have unique experiment UUIDs. Every time the server is started (e.g. from the command line), a new experiment id is generated. For a list of all experiment ids:"
   ]
  },
  {
   "cell_type": "code",
   "execution_count": null,
   "id": "f43a5c35",
   "metadata": {},
   "outputs": [],
   "source": [
    "exp_ids = [rec.experiment_id for rec in serv.db.get_master_records()]\n",
    "print(exp_ids)"
   ]
  },
  {
   "cell_type": "markdown",
   "id": "74d95f1c",
   "metadata": {},
   "source": [
    "The above indicates that there is only 1 experiment_id in this database.\n",
    "\n",
    "Note that the above commands do not actually load any of the experiment data from the database. The data is only loaded when you run serv.replay to replay all of the setup, ask, and tell messages that are recorded in the database. We will pass skip_computations = True to this method to skip all of the model-fitting computations and make the replay finish faster."
   ]
  },
  {
   "cell_type": "code",
   "execution_count": null,
   "id": "1aff9afb",
   "metadata": {},
   "outputs": [],
   "source": [
    "serv.replay(exp_ids[-1], skip_computations=True)"
   ]
  },
  {
   "cell_type": "markdown",
   "id": "c74228d0",
   "metadata": {},
   "source": [
    "The data has been loaded into the servers list of strategies, which we can access through `serv._strats`. Per our config string, we have two strategies, the first being the model-less initialization strategy, and the second being the model-based threshold-finding strategy. We can see the model-based strategy's data using its `x` and `y` properties:"
   ]
  },
  {
   "cell_type": "code",
   "execution_count": null,
   "id": "14789059",
   "metadata": {},
   "outputs": [],
   "source": [
    "strat = serv._strats[-1]\n",
    "# print(strat.x)\n",
    "# print(strat.y)\n",
    "# num_trials = strat.ax_client.experiment.num_trials\n",
    "# print(strat.ax_client.experiment.fetch_data())\n",
    "# print(strat.ax_client.experiment.fetch_data_results())\n",
    "# print(strat.ax_client.experiment.trials)[1]"
   ]
  },
  {
   "cell_type": "markdown",
   "id": "e653ff25",
   "metadata": {},
   "source": [
    "Since we passed `skip_computations = True` into the replay method before, we will have to manually refit the strategy's model:"
   ]
  },
  {
   "cell_type": "code",
   "execution_count": null,
   "id": "c48e9e5c",
   "metadata": {},
   "outputs": [],
   "source": [
    "strat.ax_client.fit_model()"
   ]
  },
  {
   "cell_type": "markdown",
   "id": "ceac4b37",
   "metadata": {},
   "source": [
    "We can now plot the posterior of the fitted model:"
   ]
  },
  {
   "cell_type": "code",
   "execution_count": null,
   "id": "04b3adbd",
   "metadata": {},
   "outputs": [],
   "source": [
    "# from aepsych.plotting import plot_strat\n",
    "# plt.rcParams[\"figure.figsize\"] = (15,15)\n",
    "# plt.rcParams['figure.facecolor'] = 'white'\n",
    "\n",
    "# plot_strat(strat, xlabel='angle (degrees)', ylabel='Probability of Selecting Target', target_level=.75)\n",
    "strat.plot_slice('theta')"
   ]
  },
  {
   "cell_type": "markdown",
   "metadata": {},
   "source": [
    "In this plot, the blue and red ticks at the bottom represent angles at which the participant did and did not successfully identify the target, respectively. The dark blue curve represents the model's posterior probabilty that the participant would select the target, with 95% of the posterior mass lying in the shaded region. The orange horizontal line represents the participant's detection threshold, which once again is defined as the smallest angle at which the participant would select the target 75% of the time. If you are viewing the data from the example participant, you will see that their threshold is somewhere between about 0.5 and 1.5 degrees (note, however, that threshold estimation for non-monotonic models may not always be accurate; we are working on better algorithms for this). More data could be collected to reduce this uncertainty. If you collected data on your own data, your plot may look different; there are often large individual differences in psychophysics tasks. In any case you should see that most of the sampled points are near the estimated threshold; the level set estimation algorithm intelligently selects points so that time is not wasted collecting data at points far away from the threshold, allowing for a more accurate threshold estimate in fewer trials than traditional methods.\n",
    "\n",
    "## Conclusion\n",
    "\n",
    "This tutorial has shwown a complete example of how to conduct an AEPsych experiment and analyze the data. You can easily adapt this code for your own needs by changing the config string and the code that runs trials. If you need any help debugging or setting up your experiment, you can [open a GitHub issue](https://github.com/facebookresearch/aepsych/issues). You can also try conducting AEPsych experiments without writing any code, by running [this notebook](https://github.com/facebookresearch/aepsych/blob/main/examples/Interactive_AEPsych.ipynb)."
   ]
  }
 ],
 "metadata": {
  "kernelspec": {
   "display_name": "aepsych",
   "language": "python",
   "name": "python3"
  },
  "language_info": {
   "codemirror_mode": {
    "name": "ipython",
    "version": 3
   },
   "file_extension": ".py",
   "mimetype": "text/x-python",
   "name": "python",
   "nbconvert_exporter": "python",
   "pygments_lexer": "ipython3",
   "version": "3.9.0"
  },
  "vscode": {
   "interpreter": {
    "hash": "d5cd175c0c40f7502ca75fb5854cb93650fb8eb5d6fa501b3a333595e244f6e7"
   }
  }
 },
 "nbformat": 4,
 "nbformat_minor": 5
}
