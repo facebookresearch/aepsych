{
 "cells": [
  {
   "cell_type": "markdown",
   "metadata": {},
   "source": [
    "# Data Collection and Analysis Using AEPsych\n",
    "\n",
    "This tutorial serves as a complete example on how to collect and analyze data from perceptual experiments using AEPsych. For more information on AEPsych, refer to the documentation in the [GitHub repository](https://github.com/facebookresearch/aepsych). \n",
    "\n",
    "This tutorial demonstrates how to create an experiment to measure one's detection threshold for orientation. On each trial of the experiment, the participant is shown two gabor-patch stimuli, one oriented vertically (the foil) and one oriented at an angle (the target). The goal of the experiment is to find the smallest angle at which the participant can reliably identify the target. You can run the code blocks below interactively to participate in the experiment yourself, or you can simply view data collected from an example participant."
   ]
  },
  {
   "cell_type": "markdown",
   "metadata": {},
   "source": [
    "## Experiment Overview\n",
    "Below we define the functions we will need to conduct our experiment. Note that the code here is mainly for demonstration purposes and should not be used for serious experiments. If you would like to run psychophysics experiments in Python, consider using [Psychopy](https://www.psychopy.org/)."
   ]
  },
  {
   "cell_type": "code",
   "execution_count": null,
   "id": "283bdba8",
   "metadata": {},
   "outputs": [],
   "source": [
    "import math\n",
    "from IPython import get_ipython \n",
    "import matplotlib.cm as cm\n",
    "import matplotlib.pyplot as plt\n",
    "import numpy as np\n",
    "import time\n",
    "from IPython.display import clear_output\n",
    "import random\n",
    "\n",
    "fig_size = 15\n",
    "\n",
    "# Show a fixation cross with a blank background\n",
    "def show_fixation_cross():\n",
    "    _, ax = plt.subplots(1, figsize=(fig_size, fig_size/2))\n",
    "    for spine in ax.spines.values():\n",
    "        spine.set_visible(False)\n",
    "    ax.tick_params(bottom=False, labelbottom=False,\n",
    "                left=False, labelleft=False)\n",
    "    ax.text(0.5, 0.5, '+', size=100,\n",
    "        horizontalalignment='center',\n",
    "        verticalalignment='center',\n",
    "        transform=ax.transAxes)\n",
    "    ax.axis('off')\n",
    "    ax.grid(visible=None)\n",
    "    plt.show()\n",
    "\n",
    "# Evaluate the gabor filter function at an x,y position\n",
    "def gabor(x, y, theta):\n",
    "    f = 0.05\n",
    "    sigma = 25\n",
    "\n",
    "    x_ = x * math.cos(theta) + y * math.sin(theta)\n",
    "    y_ = y * math.cos(theta) - x * math.sin(theta)\n",
    "    num = x_ ** 2 + y_ ** 2\n",
    "    return math.exp(num / (-2 * sigma**2)) * math.cos(2 * math.pi * f * x_)\n",
    "\n",
    "# Show a gabor patch\n",
    "def show_gabor(theta, ax):\n",
    "    # The size of the gabor patch\n",
    "    radius = 60\n",
    "\n",
    "    # Convert from degrees to radians\n",
    "    theta = math.radians(theta)\n",
    "\n",
    "    M = np.array([[gabor(i, j, theta) for j in range(-radius, radius)] for i in range(-radius, radius)])\n",
    "    M = ((M - M.min())) / (M.max() - M.min())\n",
    "\n",
    "    ax.axis('off')\n",
    "    ax.grid(visible=None)\n",
    "    ax.imshow(M.T, cmap=cm.Greys_r)\n",
    "\n",
    "\n",
    "def run_trial(angle, trial_number):\n",
    "    fixation_duration = 1\n",
    "    trial_duration = 0.5\n",
    "\n",
    "    # Show the fixation cross\n",
    "    show_fixation_cross()\n",
    "    time.sleep(fixation_duration)\n",
    "    clear_output(wait=True)\n",
    "\n",
    "    # randomly select if target should go on left or right side\n",
    "    right_side = random.choice([0, 1])\n",
    "\n",
    "    # randomly select if target angle should be clockwise or counterclockwise\n",
    "    direction = random.choice([-1, 1])\n",
    "    angle *= direction\n",
    "\n",
    "    # Show the foil and target\n",
    "    _, axs = plt.subplots(1, 2, figsize=(fig_size, fig_size))\n",
    "    show_gabor(angle, axs[right_side])\n",
    "    show_gabor(0, axs[int(not right_side)])\n",
    "\n",
    "    # Ask for the participant's response\n",
    "    ans = None\n",
    "    ans_key = {'j': 1, 'J': 1, 'f': 0, 'F': 0}\n",
    "    while ans not in ans_key:\n",
    "        plt.show()\n",
    "        time.sleep(trial_duration)\n",
    "        clear_output()\n",
    "        ans = input(f\"Trial #{trial_number}: Which side was angled? (Enter 'F' for left or 'J' for right)\")\n",
    "\n",
    "    # Check if the response was correct\n",
    "    is_correct = int(ans_key[ans] == right_side)\n",
    "    target_side = \"right\" if right_side else \"left\"\n",
    "    \n",
    "    return is_correct, target_side\n"
   ]
  },
  {
   "cell_type": "markdown",
   "id": "f7513a67",
   "metadata": {},
   "source": [
    "On each trial of the experiment, the participant will first see a white box with fixation cross for 1 second. The box looks like this:"
   ]
  },
  {
   "cell_type": "code",
   "execution_count": null,
   "id": "bb2363c8",
   "metadata": {},
   "outputs": [],
   "source": [
    "show_fixation_cross()"
   ]
  },
  {
   "cell_type": "markdown",
   "id": "7a5d5056",
   "metadata": {},
   "source": [
    "After 1 second, the fixation cross will disappear, and two gabor patches will appear side-by-side. One patch will be the foil with a vertical orientation, and one will be the target with an angled orientation. The position of the target and whether the angle is measured clockwise or counterclockwise is randomized each trial. An example foil and target are shown below:"
   ]
  },
  {
   "cell_type": "code",
   "execution_count": null,
   "id": "3494c846",
   "metadata": {},
   "outputs": [],
   "source": [
    "_, axs = plt.subplots(1, 2, figsize=(fig_size, fig_size))\n",
    "show_gabor(0, axs[0])\n",
    "show_gabor(5, axs[1])"
   ]
  },
  {
   "cell_type": "markdown",
   "id": "2ca516e8",
   "metadata": {},
   "source": [
    "After 0.5 seconds, the patches will disappear, and the participant will be prompted to report which one was the target by typing \"F\" for left or \"J\" for right, and then hitting enter. Try running the code block below to experience a trial for yourself. The `run_trial` function takes an angle and a trial number as input and returns whether or not you were correct (1 for correct, 0 for incorrect), as well as the side which the target was actually on. "
   ]
  },
  {
   "cell_type": "code",
   "execution_count": null,
   "id": "9d122e2d",
   "metadata": {},
   "outputs": [],
   "source": [
    "# run_trial(5, 0)"
   ]
  },
  {
   "cell_type": "markdown",
   "id": "3477f213",
   "metadata": {},
   "source": [
    "## Starting the AEPsych Server\n",
    "The code block below starts an AEPsych server that will run in the background (you can also start the server by running the second line in a command prompt). We can contact the server at IP address 0.0.0.0, port 5555, and the data will be saved in a database named \"data_collection_analysis_tutorial.db\". In this tutorial, we will run the server on the same computer as the experiment, but it is also possible to run the server remotely. "
   ]
  },
  {
   "cell_type": "code",
   "execution_count": 5,
   "id": "93b195fc",
   "metadata": {},
   "outputs": [
    {
     "name": "stderr",
     "output_type": "stream",
     "text": [
      "2023-03-12 11:59:20,179 [INFO   ] Found DB at data_collection_analysis_tutorial.db, appending!\n"
     ]
    }
   ],
   "source": [
    "from aepsych.server import AEPsychServer\n",
    "from aepsych_client import AEPsychClient\n",
    "\n",
    "server = AEPsychServer(database_path=\"data_collection_analysis_tutorial.db\")\n",
    "client = AEPsychClient(server=server)"
   ]
  },
  {
   "cell_type": "markdown",
   "id": "f3bfa05b",
   "metadata": {},
   "source": [
    "We tell the server what kind of experiment we are running by sending it a configure message (see the [configs folder](https://github.com/facebookresearch/aepsych/tree/main/configs) for some examples. The gist of the config here is that it is telling the server that our experiment will have one parameter called \"angle\", which will range from 0.1 to 5 degrees. (If you run this experiment on yourself and find that this range of angles makes the experiment too easy or too hard, you can adjust the `lb` and `ub` values in the string below). This experiment will last for 50 trials. The parameter values from the first 10 trials will be drawn from the [Sobol sequence](https://en.wikipedia.org/wiki/Sobol_sequence), to provide some initial data to initialize AEPsych's model; the following 40 trials will be drawn from that model. In this case, the model will be a classification [Gaussian Process](https://en.wikipedia.org/wiki/Gaussian_process) (GP). \n",
    "\n",
    "GPs can be thought of as generalizations of traditional psychophysics models that can handle multiple dimensions and allow the response function to be nonlinear (for further discussion see the [AEPsych preprint](https://arxiv.org/abs/2104.09549)). Furthermore, GPs can be used in conjunction with acquisition functions to perform [active learning](https://en.wikipedia.org/wiki/Active_learning_(machine_learning)--that is, the model can determine which points in the parameter space should be sampled next to achieve some goal. In this case we use the [level set estimation](https://www.ijcai.org/Proceedings/13/Papers/202.pdf) function to find the angle at which the participant will correctly identify the target 75% of the time. \n",
    "\n",
    "GPs are defined by a mean function and covariance function. Because we don't define what these functions should be in the config, they revert to their default values of a constant mean function, and a [radial basis covariance function](https://en.wikipedia.org/wiki/Radial_basis_function). These functions are fine for parameter space we want to explore here, but if we wanted to expand our search across a larger range of angles, we would probably want to use a periodic covariance function to account for that fact that angles loop every 360 degrees."
   ]
  },
  {
   "cell_type": "code",
   "execution_count": 6,
   "id": "7c54252a",
   "metadata": {},
   "outputs": [
    {
     "name": "stderr",
     "output_type": "stream",
     "text": [
      "2023-03-12 11:59:20,826 [INFO   ] Received msg [setup]\n"
     ]
    }
   ],
   "source": [
    "config_str = \"\"\"\n",
    "[common]\n",
    "use_ax = True\n",
    "parnames = [theta] # names of the parameters\n",
    "lb = [0.1] # lower bound of the parameter\n",
    "ub = [5] # upper bound of parameter\n",
    "stimuli_per_trial = 1 # the number of stimuli shown in each trial; 1 for single, or 2 for pairwise experiments\n",
    "outcome_types = [binary] # the type of response given by the participant; can be [binary] or [continuous]\n",
    "target = 0.75 # desired threshold, for threshold estimation.\n",
    "strategy_names = [init_strat, opt_strat] # The strategies that will be used, corresponding to the named sections below\n",
    "\n",
    "# Configuration for the initialization strategy, which we use to gather initial points\n",
    "# before we start doing model-based acquisition\n",
    "[init_strat]\n",
    "min_total_tells = 2 # number of sobol trials to run\n",
    "generator = SobolGenerator # The generator class used to generate new parameter values\n",
    "\n",
    "# Configuration for the optimization strategy, our model-based acquisition\n",
    "[opt_strat]\n",
    "min_total_tells = 5 # total number of trials to run\n",
    "refit_every = 1 # how often to refit the model from scratch\n",
    "generator = OptimizeAcqfGenerator # The generator class used to generate new parameter values\n",
    "acqf = MCLevelSetEstimation # The acquisition function; MCLevelSetEstimation is used for threshold finding\n",
    "model = ContinuousRegressionGP # The model class\n",
    "\"\"\"\n",
    "\n",
    "client.configure(config_str=config_str, config_name=\"1d_gabor_config\")"
   ]
  },
  {
   "cell_type": "markdown",
   "id": "719a210f",
   "metadata": {},
   "source": [
    "Now that we have set up our client and configured our server, we can start collecting data. The basic loop of the experiment is as follows:\n",
    "\n",
    "1. Ask AEPsych what value of our parameter, angle, to try next.\n",
    "2. Run a trial using this suggested value.\n",
    "3. Tell AEPsych the particant's response so that it can update its model.\n",
    "4. Repeat for the specified number of trials.\n",
    "\n",
    "We ask AEPsych for parameters by calling client.ask(). This returns a dictionary with two entries. The first, `'config'`, contains another dictionary whose keys are the names of your parameters, and whose values are lists of parameter values to try. The second, `'is_finished'`, is a bool indicating whether the number of trials specified in the config have been completed."
   ]
  },
  {
   "cell_type": "code",
   "execution_count": 7,
   "id": "1551af3e",
   "metadata": {},
   "outputs": [
    {
     "name": "stderr",
     "output_type": "stream",
     "text": [
      "c:\\Users\\ckamd\\anaconda3\\envs\\aepsych\\lib\\site-packages\\ax\\core\\observation.py:274: FutureWarning:\n",
      "\n",
      "In a future version of pandas, a length 1 tuple will be returned when iterating over a groupby with a grouper equal to a list of length 1. Don't supply a list with a single grouper to avoid this warning.\n",
      "\n",
      "2023-03-12 11:59:21,118 [INFO   ] Received msg [ask]\n"
     ]
    },
    {
     "data": {
      "text/plain": [
       "{'config': {'theta': [3.6723152562044565]}, 'is_finished': False}"
      ]
     },
     "execution_count": 7,
     "metadata": {},
     "output_type": "execute_result"
    }
   ],
   "source": [
    "client.ask()"
   ]
  },
  {
   "cell_type": "markdown",
   "id": "b26f1854",
   "metadata": {},
   "source": [
    "We tell AEPsych about the parameter values we have tried by calling client.tell(). This method has two required arguments. The first, config, is a dictionary representing the set of parameter values you would like to tell AEPsych about, and takes the same format as the 'config' entry from client.ask(). The second argument is the binary outcome of a trial, indicated by 0 (the participant did not identify the target) or 1 (the participant did identify the target). This method also optionally takes other keyword arguments that will be stored as metadata in AEPsych's database. For our experiment, we will record which side the target was on."
   ]
  },
  {
   "cell_type": "code",
   "execution_count": 8,
   "id": "f3f7678a",
   "metadata": {},
   "outputs": [
    {
     "name": "stderr",
     "output_type": "stream",
     "text": [
      "2023-03-12 11:59:21,465 [INFO   ] Received msg [tell]\n"
     ]
    }
   ],
   "source": [
    "client.tell(config={'theta':[.1]}, outcome=0, target_side='right')"
   ]
  },
  {
   "cell_type": "markdown",
   "id": "83a54d17",
   "metadata": {},
   "source": [
    "The code below asks AEPsych for parameter values and runs trials until the experiment is completed:"
   ]
  },
  {
   "cell_type": "code",
   "execution_count": 9,
   "id": "5ee056ca",
   "metadata": {},
   "outputs": [
    {
     "name": "stderr",
     "output_type": "stream",
     "text": [
      "2023-03-12 12:00:07,855 [INFO   ] Received msg [tell]\n",
      "2023-03-12 12:00:08,088 [INFO   ] Recording strat because the experiment is complete.\n",
      "2023-03-12 12:00:08,486 [INFO   ] Received msg [ask]\n"
     ]
    }
   ],
   "source": [
    "trial_number = 1\n",
    "while True:\n",
    "    response = client.ask()\n",
    "    if response['is_finished']:\n",
    "        break\n",
    "    theta = response[\"config\"][\"theta\"][0]\n",
    "    outcome, target_side = run_trial(theta, trial_number)\n",
    "    client.tell(config={\"theta\": [theta]}, outcome=outcome, target_side=target_side)\n",
    "    trial_number += 1\n"
   ]
  },
  {
   "cell_type": "markdown",
   "id": "e9369d47",
   "metadata": {},
   "source": [
    "Note that even after the number of trials specified in the config have completed, you can still ask for more parameter values and conduct more trials:"
   ]
  },
  {
   "cell_type": "code",
   "execution_count": 10,
   "id": "06ae89a2",
   "metadata": {},
   "outputs": [
    {
     "name": "stderr",
     "output_type": "stream",
     "text": [
      "2023-03-12 12:00:08,733 [INFO   ] Received msg [ask]\n"
     ]
    },
    {
     "data": {
      "text/plain": [
       "{'config': {'theta': []}, 'is_finished': True}"
      ]
     },
     "execution_count": 10,
     "metadata": {},
     "output_type": "execute_result"
    }
   ],
   "source": [
    "client.ask()"
   ]
  },
  {
   "cell_type": "markdown",
   "id": "44b78711",
   "metadata": {},
   "source": [
    "You are also not restricted to only using the parameter values that AEPsych suggests. You can tell it the outcome of any parameter values that you would like:"
   ]
  },
  {
   "cell_type": "code",
   "execution_count": 11,
   "id": "24a907dd",
   "metadata": {},
   "outputs": [
    {
     "name": "stderr",
     "output_type": "stream",
     "text": [
      "2023-03-12 12:00:08,901 [INFO   ] Received msg [tell]\n",
      "2023-03-12 12:00:09,242 [INFO   ] Recording strat because the experiment is complete.\n"
     ]
    }
   ],
   "source": [
    "client.tell(config={'theta':[5.0]}, outcome=1, target_side='left')"
   ]
  },
  {
   "cell_type": "markdown",
   "id": "95dfec95",
   "metadata": {},
   "source": [
    "Once you are done collecting data, you can close the server by calling `client.finalize()`"
   ]
  },
  {
   "cell_type": "code",
   "execution_count": 12,
   "id": "78b54901",
   "metadata": {},
   "outputs": [
    {
     "name": "stderr",
     "output_type": "stream",
     "text": [
      "2023-03-12 12:00:09,667 [INFO   ] Received msg [exit]\n",
      "2023-03-12 12:00:09,669 [INFO   ] Got termination message!\n",
      "2023-03-12 12:00:09,671 [INFO   ] Dumping strats to DB due to Normal termination.\n"
     ]
    }
   ],
   "source": [
    "client.finalize()"
   ]
  },
  {
   "cell_type": "markdown",
   "id": "316253c4",
   "metadata": {},
   "source": [
    "## Replaying the Experiment and Analyzing Data\n",
    "To analyze the data, we open the database with an `AEPsychServer` object. This server runs here in the notebook rather than in the background like the server we used to collect data."
   ]
  },
  {
   "cell_type": "code",
   "execution_count": 13,
   "id": "812c2124",
   "metadata": {},
   "outputs": [
    {
     "name": "stderr",
     "output_type": "stream",
     "text": [
      "2023-03-12 12:00:10,039 [INFO   ] Found DB at data_collection_analysis_tutorial.db, appending!\n"
     ]
    }
   ],
   "source": [
    "from aepsych.server import AEPsychServer\n",
    "\n",
    "serv = AEPsychServer(database_path=\"data_collection_analysis_tutorial.db\")"
   ]
  },
  {
   "cell_type": "markdown",
   "id": "003ac0b8",
   "metadata": {},
   "source": [
    "The database is made of a set of experiments, which have unique experiment UUIDs. Every time the server is started (e.g. from the command line), a new experiment id is generated. For a list of all experiment ids:"
   ]
  },
  {
   "cell_type": "code",
   "execution_count": 14,
   "id": "f43a5c35",
   "metadata": {},
   "outputs": [
    {
     "name": "stdout",
     "output_type": "stream",
     "text": [
      "['c7002b27-c84d-4f57-b5d8-b52dea16cfed', 'a17e1e0e-ad99-4b5d-afd7-57847934b858', '31ba4d58-37d4-4bba-a60c-77363b10e07e', '6baec8aa-81eb-4c06-bb4d-eb4193cc831c', '3f4bd08f-087d-483f-ac03-45fa9ab42e5d', '5c012dad-fc9a-4578-b2fe-d3218fbbf2d5', 'bb016b5f-d68a-4f2e-b436-3473431e1783', 'a36181f4-ae32-4a2a-b235-5c74ab0bbb25', 'a9e775f7-5ac8-4882-85b8-e3903b1ea090', 'e7074eab-f044-4ced-81f8-bb288e4b95b8', '8f5067c5-ec1a-46f1-a6e1-4b0d57f04455', 'e3b4f466-9a8a-426a-99dc-0dccd36f40d9', '15ef7ba1-e86a-4fbe-ad43-d29ee2e7a676', '57bed3db-743e-4559-bd82-076c3449636c', '337ad741-b757-4750-a9c0-1edea8f9608e', 'f536da4b-6753-4b41-abc4-62ff20c9a6a1']\n"
     ]
    }
   ],
   "source": [
    "exp_ids = [rec.experiment_id for rec in serv.db.get_master_records()]\n",
    "print(exp_ids)"
   ]
  },
  {
   "cell_type": "markdown",
   "id": "74d95f1c",
   "metadata": {},
   "source": [
    "The above indicates that there is only 1 experiment_id in this database.\n",
    "\n",
    "Note that the above commands do not actually load any of the experiment data from the database. The data is only loaded when you run serv.replay to replay all of the setup, ask, and tell messages that are recorded in the database. We will pass skip_computations = True to this method to skip all of the model-fitting computations and make the replay finish faster."
   ]
  },
  {
   "cell_type": "code",
   "execution_count": 15,
   "id": "1aff9afb",
   "metadata": {},
   "outputs": [
    {
     "name": "stderr",
     "output_type": "stream",
     "text": [
      "2023-03-12 12:00:10,415 [INFO   ] skip_computations=True, make sure to refit the final strat before doing anything!\n",
      "2023-03-12 12:00:10,448 [INFO   ] Received msg [setup]\n",
      "2023-03-12 12:00:10,495 [INFO   ] Received msg [ask]\n",
      "2023-03-12 12:00:10,499 [INFO   ] Received msg [tell]\n",
      "2023-03-12 12:00:10,577 [INFO   ] Received msg [ask]\n",
      "2023-03-12 12:00:10,581 [INFO   ] Received msg [tell]\n",
      "2023-03-12 12:00:10,673 [INFO   ] Received msg [ask]\n",
      "2023-03-12 12:00:10,678 [INFO   ] Received msg [tell]\n",
      "2023-03-12 12:00:10,899 [INFO   ] Received msg [ask]\n",
      "2023-03-12 12:00:10,908 [INFO   ] Received msg [tell]\n",
      "2023-03-12 12:00:11,116 [INFO   ] Received msg [ask]\n",
      "2023-03-12 12:00:11,121 [INFO   ] Received msg [tell]\n",
      "2023-03-12 12:00:11,396 [INFO   ] Received msg [ask]\n",
      "2023-03-12 12:00:11,460 [INFO   ] Received msg [ask]\n",
      "2023-03-12 12:00:11,463 [INFO   ] Received msg [tell]\n"
     ]
    }
   ],
   "source": [
    "serv.replay(exp_ids[-1], skip_computations=True)"
   ]
  },
  {
   "cell_type": "markdown",
   "id": "c74228d0",
   "metadata": {},
   "source": [
    "The data has been loaded into the servers list of strategies, which we can access through `serv._strats`. Per our config string, we have two strategies, the first being the model-less initialization strategy, and the second being the model-based threshold-finding strategy. We can see the model-based strategy's data using its `x` and `y` properties:"
   ]
  },
  {
   "cell_type": "code",
   "execution_count": 16,
   "id": "14789059",
   "metadata": {},
   "outputs": [
    {
     "name": "stdout",
     "output_type": "stream",
     "text": [
      "{0: Trial(experiment_name='experiment', index=0, status=TrialStatus.COMPLETED, arm=Arm(name='0_0', parameters={'theta': 0.1})), 1: Trial(experiment_name='experiment', index=1, status=TrialStatus.COMPLETED, arm=Arm(name='1_0', parameters={'theta': 2.100906877778471})), 2: Trial(experiment_name='experiment', index=2, status=TrialStatus.COMPLETED, arm=Arm(name='2_0', parameters={'theta': 4.665790899214986})), 3: Trial(experiment_name='experiment', index=3, status=TrialStatus.COMPLETED, arm=Arm(name='3_0', parameters={'theta': 1.5542571997028385})), 4: Trial(experiment_name='experiment', index=4, status=TrialStatus.COMPLETED, arm=Arm(name='4_0', parameters={'theta': 1.1689441146944546})), 5: Trial(experiment_name='experiment', index=5, status=TrialStatus.COMPLETED, arm=Arm(name='5_0', parameters={'theta': 5.0}))}\n"
     ]
    }
   ],
   "source": [
    "strat = serv._strats[-1]\n",
    "# print(strat.x)\n",
    "# print(strat.y)\n",
    "# num_trials = strat.ax_client.experiment.num_trials\n",
    "# print(strat.ax_client.experiment.fetch_data())\n",
    "# print(strat.ax_client.experiment.fetch_data_results())\n",
    "# print(strat.ax_client.experiment.trials)"
   ]
  },
  {
   "cell_type": "markdown",
   "id": "e653ff25",
   "metadata": {},
   "source": [
    "Since we passed `skip_computations = True` into the replay method before, we will have to manually refit the strategy's model:"
   ]
  },
  {
   "cell_type": "code",
   "execution_count": 17,
   "id": "c48e9e5c",
   "metadata": {},
   "outputs": [],
   "source": [
    "strat.ax_client.fit_model()"
   ]
  },
  {
   "cell_type": "markdown",
   "id": "ceac4b37",
   "metadata": {},
   "source": [
    "We can now plot the posterior of the fitted model:"
   ]
  },
  {
   "cell_type": "code",
   "execution_count": 18,
   "id": "04b3adbd",
   "metadata": {},
   "outputs": [
    {
     "ename": "NotImplementedError",
     "evalue": "RandomModelBridge does not support prediction.",
     "output_type": "error",
     "traceback": [
      "\u001b[1;31m---------------------------------------------------------------------------\u001b[0m",
      "\u001b[1;31mNotImplementedError\u001b[0m                       Traceback (most recent call last)",
      "Cell \u001b[1;32mIn[18], line 6\u001b[0m\n\u001b[0;32m      1\u001b[0m \u001b[39m# from aepsych.plotting import plot_strat\u001b[39;00m\n\u001b[0;32m      2\u001b[0m \u001b[39m# plt.rcParams[\"figure.figsize\"] = (15,15)\u001b[39;00m\n\u001b[0;32m      3\u001b[0m \u001b[39m# plt.rcParams['figure.facecolor'] = 'white'\u001b[39;00m\n\u001b[0;32m      4\u001b[0m \n\u001b[0;32m      5\u001b[0m \u001b[39m# plot_strat(strat, xlabel='angle (degrees)', ylabel='Probability of Selecting Target', target_level=.75)\u001b[39;00m\n\u001b[1;32m----> 6\u001b[0m strat\u001b[39m.\u001b[39;49mplot_slice(\u001b[39m'\u001b[39;49m\u001b[39mtheta\u001b[39;49m\u001b[39m'\u001b[39;49m)\n",
      "File \u001b[1;32m~\\OneDrive\\Desktop\\Meta_AEPsych\\aepsych\\aepsych\\strategy.py:640\u001b[0m, in \u001b[0;36mAEPsychStrategy.plot_slice\u001b[1;34m(self, param_name, density, slice_values)\u001b[0m\n\u001b[0;32m    637\u001b[0m \u001b[39m# self._warn_on_outcome_mismatch()\u001b[39;00m\n\u001b[0;32m    638\u001b[0m ax_model \u001b[39m=\u001b[39m \u001b[39mself\u001b[39m\u001b[39m.\u001b[39max_client\u001b[39m.\u001b[39mgeneration_strategy\u001b[39m.\u001b[39mmodel\n\u001b[0;32m    639\u001b[0m render(\n\u001b[1;32m--> 640\u001b[0m     plot_slice(\n\u001b[0;32m    641\u001b[0m         model\u001b[39m=\u001b[39;49max_model,\n\u001b[0;32m    642\u001b[0m         param_name\u001b[39m=\u001b[39;49mparam_name,\n\u001b[0;32m    643\u001b[0m         metric_name\u001b[39m=\u001b[39;49m\u001b[39m\"\u001b[39;49m\u001b[39mobjective\u001b[39;49m\u001b[39m\"\u001b[39;49m,\n\u001b[0;32m    644\u001b[0m         density\u001b[39m=\u001b[39;49mdensity,\n\u001b[0;32m    645\u001b[0m         slice_values\u001b[39m=\u001b[39;49mslice_values,\n\u001b[0;32m    646\u001b[0m     )\n\u001b[0;32m    647\u001b[0m )\n",
      "File \u001b[1;32mc:\\Users\\ckamd\\anaconda3\\envs\\aepsych\\lib\\site-packages\\ax\\plot\\slice.py:274\u001b[0m, in \u001b[0;36mplot_slice\u001b[1;34m(model, param_name, metric_name, generator_runs_dict, relative, density, slice_values, fixed_features, trial_index)\u001b[0m\n\u001b[0;32m    240\u001b[0m \u001b[39mdef\u001b[39;00m \u001b[39mplot_slice\u001b[39m(\n\u001b[0;32m    241\u001b[0m     model: ModelBridge,\n\u001b[0;32m    242\u001b[0m     param_name: \u001b[39mstr\u001b[39m,\n\u001b[1;32m   (...)\u001b[0m\n\u001b[0;32m    249\u001b[0m     trial_index: Optional[\u001b[39mint\u001b[39m] \u001b[39m=\u001b[39m \u001b[39mNone\u001b[39;00m,\n\u001b[0;32m    250\u001b[0m ) \u001b[39m-\u001b[39m\u001b[39m>\u001b[39m AxPlotConfig:\n\u001b[0;32m    251\u001b[0m \u001b[39m    \u001b[39m\u001b[39m\"\"\"Plot predictions for a 1-d slice of the parameter space.\u001b[39;00m\n\u001b[0;32m    252\u001b[0m \n\u001b[0;32m    253\u001b[0m \u001b[39m    Args:\u001b[39;00m\n\u001b[1;32m   (...)\u001b[0m\n\u001b[0;32m    271\u001b[0m \u001b[39m        AxPlotConfig: plot of objective vs. parameter value\u001b[39;00m\n\u001b[0;32m    272\u001b[0m \u001b[39m    \"\"\"\u001b[39;00m\n\u001b[0;32m    273\u001b[0m     \u001b[39mreturn\u001b[39;00m AxPlotConfig(\n\u001b[1;32m--> 274\u001b[0m         data\u001b[39m=\u001b[39mplot_slice_plotly(\n\u001b[0;32m    275\u001b[0m             model\u001b[39m=\u001b[39;49mmodel,\n\u001b[0;32m    276\u001b[0m             param_name\u001b[39m=\u001b[39;49mparam_name,\n\u001b[0;32m    277\u001b[0m             metric_name\u001b[39m=\u001b[39;49mmetric_name,\n\u001b[0;32m    278\u001b[0m             generator_runs_dict\u001b[39m=\u001b[39;49mgenerator_runs_dict,\n\u001b[0;32m    279\u001b[0m             relative\u001b[39m=\u001b[39;49mrelative,\n\u001b[0;32m    280\u001b[0m             density\u001b[39m=\u001b[39;49mdensity,\n\u001b[0;32m    281\u001b[0m             slice_values\u001b[39m=\u001b[39;49mslice_values,\n\u001b[0;32m    282\u001b[0m             fixed_features\u001b[39m=\u001b[39;49mfixed_features,\n\u001b[0;32m    283\u001b[0m             trial_index\u001b[39m=\u001b[39;49mtrial_index,\n\u001b[0;32m    284\u001b[0m         ),\n\u001b[0;32m    285\u001b[0m         plot_type\u001b[39m=\u001b[39mAxPlotTypes\u001b[39m.\u001b[39mGENERIC,\n\u001b[0;32m    286\u001b[0m     )\n",
      "File \u001b[1;32mc:\\Users\\ckamd\\anaconda3\\envs\\aepsych\\lib\\site-packages\\ax\\plot\\slice.py:159\u001b[0m, in \u001b[0;36mplot_slice_plotly\u001b[1;34m(model, param_name, metric_name, generator_runs_dict, relative, density, slice_values, fixed_features, trial_index)\u001b[0m\n\u001b[0;32m    126\u001b[0m \u001b[39mdef\u001b[39;00m \u001b[39mplot_slice_plotly\u001b[39m(\n\u001b[0;32m    127\u001b[0m     model: ModelBridge,\n\u001b[0;32m    128\u001b[0m     param_name: \u001b[39mstr\u001b[39m,\n\u001b[1;32m   (...)\u001b[0m\n\u001b[0;32m    135\u001b[0m     trial_index: Optional[\u001b[39mint\u001b[39m] \u001b[39m=\u001b[39m \u001b[39mNone\u001b[39;00m,\n\u001b[0;32m    136\u001b[0m ) \u001b[39m-\u001b[39m\u001b[39m>\u001b[39m go\u001b[39m.\u001b[39mFigure:\n\u001b[0;32m    137\u001b[0m \u001b[39m    \u001b[39m\u001b[39m\"\"\"Plot predictions for a 1-d slice of the parameter space.\u001b[39;00m\n\u001b[0;32m    138\u001b[0m \n\u001b[0;32m    139\u001b[0m \u001b[39m    Args:\u001b[39;00m\n\u001b[1;32m   (...)\u001b[0m\n\u001b[0;32m    157\u001b[0m \u001b[39m        go.Figure: plot of objective vs. parameter value\u001b[39;00m\n\u001b[0;32m    158\u001b[0m \u001b[39m    \"\"\"\u001b[39;00m\n\u001b[1;32m--> 159\u001b[0m     pd, cntp, f_plt, rd, grid, _, _, _, fv, sd_plt, ls \u001b[39m=\u001b[39m _get_slice_predictions(\n\u001b[0;32m    160\u001b[0m         model\u001b[39m=\u001b[39;49mmodel,\n\u001b[0;32m    161\u001b[0m         param_name\u001b[39m=\u001b[39;49mparam_name,\n\u001b[0;32m    162\u001b[0m         metric_name\u001b[39m=\u001b[39;49mmetric_name,\n\u001b[0;32m    163\u001b[0m         generator_runs_dict\u001b[39m=\u001b[39;49mgenerator_runs_dict,\n\u001b[0;32m    164\u001b[0m         relative\u001b[39m=\u001b[39;49mrelative,\n\u001b[0;32m    165\u001b[0m         density\u001b[39m=\u001b[39;49mdensity,\n\u001b[0;32m    166\u001b[0m         slice_values\u001b[39m=\u001b[39;49mslice_values,\n\u001b[0;32m    167\u001b[0m         fixed_features\u001b[39m=\u001b[39;49mfixed_features,\n\u001b[0;32m    168\u001b[0m         trial_index\u001b[39m=\u001b[39;49mtrial_index,\n\u001b[0;32m    169\u001b[0m     )\n\u001b[0;32m    171\u001b[0m     config \u001b[39m=\u001b[39m {\n\u001b[0;32m    172\u001b[0m         \u001b[39m\"\u001b[39m\u001b[39marm_data\u001b[39m\u001b[39m\"\u001b[39m: pd,\n\u001b[0;32m    173\u001b[0m         \u001b[39m\"\u001b[39m\u001b[39marm_name_to_parameters\u001b[39m\u001b[39m\"\u001b[39m: cntp,\n\u001b[1;32m   (...)\u001b[0m\n\u001b[0;32m    182\u001b[0m         \u001b[39m\"\u001b[39m\u001b[39mis_log\u001b[39m\u001b[39m\"\u001b[39m: ls,\n\u001b[0;32m    183\u001b[0m     }\n\u001b[0;32m    184\u001b[0m     config \u001b[39m=\u001b[39m AxPlotConfig(config, plot_type\u001b[39m=\u001b[39mAxPlotTypes\u001b[39m.\u001b[39mGENERIC)\u001b[39m.\u001b[39mdata\n",
      "File \u001b[1;32mc:\\Users\\ckamd\\anaconda3\\envs\\aepsych\\lib\\site-packages\\ax\\plot\\slice.py:82\u001b[0m, in \u001b[0;36m_get_slice_predictions\u001b[1;34m(model, param_name, metric_name, generator_runs_dict, relative, density, slice_values, fixed_features, trial_index)\u001b[0m\n\u001b[0;32m     79\u001b[0m parameter \u001b[39m=\u001b[39m get_range_parameter(model, param_name)\n\u001b[0;32m     80\u001b[0m grid \u001b[39m=\u001b[39m get_grid_for_parameter(parameter, density)\n\u001b[1;32m---> 82\u001b[0m plot_data, raw_data, cond_name_to_parameters \u001b[39m=\u001b[39m get_plot_data(\n\u001b[0;32m     83\u001b[0m     model\u001b[39m=\u001b[39;49mmodel,\n\u001b[0;32m     84\u001b[0m     generator_runs_dict\u001b[39m=\u001b[39;49mgenerator_runs_dict,\n\u001b[0;32m     85\u001b[0m     metric_names\u001b[39m=\u001b[39;49m{metric_name},\n\u001b[0;32m     86\u001b[0m     fixed_features\u001b[39m=\u001b[39;49mfixed_features,\n\u001b[0;32m     87\u001b[0m )\n\u001b[0;32m     89\u001b[0m \u001b[39mif\u001b[39;00m fixed_features \u001b[39mis\u001b[39;00m \u001b[39mnot\u001b[39;00m \u001b[39mNone\u001b[39;00m:\n\u001b[0;32m     90\u001b[0m     slice_values \u001b[39m=\u001b[39m fixed_features\u001b[39m.\u001b[39mparameters\n",
      "File \u001b[1;32mc:\\Users\\ckamd\\anaconda3\\envs\\aepsych\\lib\\site-packages\\ax\\plot\\helper.py:356\u001b[0m, in \u001b[0;36mget_plot_data\u001b[1;34m(model, generator_runs_dict, metric_names, fixed_features, data_selector)\u001b[0m\n\u001b[0;32m    326\u001b[0m \u001b[39m\u001b[39m\u001b[39m\"\"\"Format data object with metrics for in-sample and out-of-sample\u001b[39;00m\n\u001b[0;32m    327\u001b[0m \u001b[39marms.\u001b[39;00m\n\u001b[0;32m    328\u001b[0m \n\u001b[1;32m   (...)\u001b[0m\n\u001b[0;32m    353\u001b[0m \u001b[39m    - Mapping from arm name to parameters.\u001b[39;00m\n\u001b[0;32m    354\u001b[0m \u001b[39m\"\"\"\u001b[39;00m\n\u001b[0;32m    355\u001b[0m metrics_plot \u001b[39m=\u001b[39m model\u001b[39m.\u001b[39mmetric_names \u001b[39mif\u001b[39;00m metric_names \u001b[39mis\u001b[39;00m \u001b[39mNone\u001b[39;00m \u001b[39melse\u001b[39;00m metric_names\n\u001b[1;32m--> 356\u001b[0m in_sample_plot, raw_data, cond_name_to_parameters \u001b[39m=\u001b[39m _get_in_sample_arms(\n\u001b[0;32m    357\u001b[0m     model\u001b[39m=\u001b[39;49mmodel,\n\u001b[0;32m    358\u001b[0m     metric_names\u001b[39m=\u001b[39;49mmetrics_plot,\n\u001b[0;32m    359\u001b[0m     fixed_features\u001b[39m=\u001b[39;49mfixed_features,\n\u001b[0;32m    360\u001b[0m     data_selector\u001b[39m=\u001b[39;49mdata_selector,\n\u001b[0;32m    361\u001b[0m )\n\u001b[0;32m    362\u001b[0m out_of_sample_plot \u001b[39m=\u001b[39m _get_out_of_sample_arms(\n\u001b[0;32m    363\u001b[0m     model\u001b[39m=\u001b[39mmodel,\n\u001b[0;32m    364\u001b[0m     generator_runs_dict\u001b[39m=\u001b[39mgenerator_runs_dict,\n\u001b[0;32m    365\u001b[0m     metric_names\u001b[39m=\u001b[39mmetrics_plot,\n\u001b[0;32m    366\u001b[0m     fixed_features\u001b[39m=\u001b[39mfixed_features,\n\u001b[0;32m    367\u001b[0m )\n\u001b[0;32m    368\u001b[0m status_quo_name \u001b[39m=\u001b[39m \u001b[39mNone\u001b[39;00m \u001b[39mif\u001b[39;00m model\u001b[39m.\u001b[39mstatus_quo \u001b[39mis\u001b[39;00m \u001b[39mNone\u001b[39;00m \u001b[39melse\u001b[39;00m model\u001b[39m.\u001b[39mstatus_quo\u001b[39m.\u001b[39marm_name\n",
      "File \u001b[1;32mc:\\Users\\ckamd\\anaconda3\\envs\\aepsych\\lib\\site-packages\\ax\\plot\\helper.py:246\u001b[0m, in \u001b[0;36m_get_in_sample_arms\u001b[1;34m(model, metric_names, fixed_features, data_selector)\u001b[0m\n\u001b[0;32m    244\u001b[0m         features\u001b[39m.\u001b[39mupdate_features(fixed_features)\n\u001b[0;32m    245\u001b[0m     \u001b[39m# Make a prediction.\u001b[39;00m\n\u001b[1;32m--> 246\u001b[0m     pred_y, pred_se \u001b[39m=\u001b[39m predict_at_point(model, features, metric_names)\n\u001b[0;32m    247\u001b[0m \u001b[39melif\u001b[39;00m (trial_selector \u001b[39mis\u001b[39;00m \u001b[39mnot\u001b[39;00m \u001b[39mNone\u001b[39;00m) \u001b[39mand\u001b[39;00m (\n\u001b[0;32m    248\u001b[0m     obs\u001b[39m.\u001b[39mfeatures\u001b[39m.\u001b[39mtrial_index \u001b[39m!=\u001b[39m trial_selector\n\u001b[0;32m    249\u001b[0m ):\n\u001b[0;32m    250\u001b[0m     \u001b[39m# check whether the observation is from the right trial\u001b[39;00m\n\u001b[0;32m    251\u001b[0m     \u001b[39m# need to use raw data in the selected trial for out-of-design points\u001b[39;00m\n\u001b[0;32m    252\u001b[0m     \u001b[39mcontinue\u001b[39;00m\n",
      "File \u001b[1;32mc:\\Users\\ckamd\\anaconda3\\envs\\aepsych\\lib\\site-packages\\ax\\modelbridge\\prediction_utils.py:36\u001b[0m, in \u001b[0;36mpredict_at_point\u001b[1;34m(model, obsf, metric_names)\u001b[0m\n\u001b[0;32m     34\u001b[0m y_hat \u001b[39m=\u001b[39m {}\n\u001b[0;32m     35\u001b[0m se_hat \u001b[39m=\u001b[39m {}\n\u001b[1;32m---> 36\u001b[0m f_pred, cov_pred \u001b[39m=\u001b[39m model\u001b[39m.\u001b[39;49mpredict([obsf])\n\u001b[0;32m     37\u001b[0m \u001b[39mfor\u001b[39;00m metric_name \u001b[39min\u001b[39;00m f_pred:\n\u001b[0;32m     38\u001b[0m     \u001b[39mif\u001b[39;00m metric_name \u001b[39min\u001b[39;00m metric_names:\n",
      "File \u001b[1;32mc:\\Users\\ckamd\\anaconda3\\envs\\aepsych\\lib\\site-packages\\ax\\modelbridge\\base.py:542\u001b[0m, in \u001b[0;36mModelBridge.predict\u001b[1;34m(self, observation_features)\u001b[0m\n\u001b[0;32m    521\u001b[0m \u001b[39mdef\u001b[39;00m \u001b[39mpredict\u001b[39m(\u001b[39mself\u001b[39m, observation_features: List[ObservationFeatures]) \u001b[39m-\u001b[39m\u001b[39m>\u001b[39m TModelPredict:\n\u001b[0;32m    522\u001b[0m \u001b[39m    \u001b[39m\u001b[39m\"\"\"Make model predictions (mean and covariance) for the given\u001b[39;00m\n\u001b[0;32m    523\u001b[0m \u001b[39m    observation features.\u001b[39;00m\n\u001b[0;32m    524\u001b[0m \n\u001b[1;32m   (...)\u001b[0m\n\u001b[0;32m    540\u001b[0m \u001b[39m          cov(metric1@x, metric2@x) for x in observation_features.\u001b[39;00m\n\u001b[0;32m    541\u001b[0m \u001b[39m    \"\"\"\u001b[39;00m\n\u001b[1;32m--> 542\u001b[0m     observation_data \u001b[39m=\u001b[39m \u001b[39mself\u001b[39;49m\u001b[39m.\u001b[39;49m_predict_observation_data(\n\u001b[0;32m    543\u001b[0m         observation_features\u001b[39m=\u001b[39;49mobservation_features\n\u001b[0;32m    544\u001b[0m     )\n\u001b[0;32m    545\u001b[0m     f, cov \u001b[39m=\u001b[39m unwrap_observation_data(observation_data)\n\u001b[0;32m    546\u001b[0m     \u001b[39mreturn\u001b[39;00m f, cov\n",
      "File \u001b[1;32mc:\\Users\\ckamd\\anaconda3\\envs\\aepsych\\lib\\site-packages\\ax\\modelbridge\\base.py:515\u001b[0m, in \u001b[0;36mModelBridge._predict_observation_data\u001b[1;34m(self, observation_features)\u001b[0m\n\u001b[0;32m    513\u001b[0m \u001b[39m# Predict in single batch.\u001b[39;00m\n\u001b[0;32m    514\u001b[0m \u001b[39mtry\u001b[39;00m:\n\u001b[1;32m--> 515\u001b[0m     observation_data \u001b[39m=\u001b[39m \u001b[39mself\u001b[39;49m\u001b[39m.\u001b[39;49m_batch_predict(observation_features)\n\u001b[0;32m    516\u001b[0m \u001b[39m# Predict one by one.\u001b[39;00m\n\u001b[0;32m    517\u001b[0m \u001b[39mexcept\u001b[39;00m (\u001b[39mTypeError\u001b[39;00m, \u001b[39mValueError\u001b[39;00m):\n",
      "File \u001b[1;32mc:\\Users\\ckamd\\anaconda3\\envs\\aepsych\\lib\\site-packages\\ax\\modelbridge\\base.py:449\u001b[0m, in \u001b[0;36mModelBridge._batch_predict\u001b[1;34m(self, observation_features)\u001b[0m\n\u001b[0;32m    445\u001b[0m     observation_features \u001b[39m=\u001b[39m t\u001b[39m.\u001b[39mtransform_observation_features(\n\u001b[0;32m    446\u001b[0m         observation_features\n\u001b[0;32m    447\u001b[0m     )\n\u001b[0;32m    448\u001b[0m \u001b[39m# Apply terminal transform and predict\u001b[39;00m\n\u001b[1;32m--> 449\u001b[0m observation_data \u001b[39m=\u001b[39m \u001b[39mself\u001b[39;49m\u001b[39m.\u001b[39;49m_predict(observation_features)\n\u001b[0;32m    451\u001b[0m \u001b[39m# Apply reverse transforms, in reverse order\u001b[39;00m\n\u001b[0;32m    452\u001b[0m pred_observations \u001b[39m=\u001b[39m recombine_observations(\n\u001b[0;32m    453\u001b[0m     observation_features\u001b[39m=\u001b[39mobservation_features, observation_data\u001b[39m=\u001b[39mobservation_data\n\u001b[0;32m    454\u001b[0m )\n",
      "File \u001b[1;32mc:\\Users\\ckamd\\anaconda3\\envs\\aepsych\\lib\\site-packages\\ax\\modelbridge\\random.py:100\u001b[0m, in \u001b[0;36mRandomModelBridge._predict\u001b[1;34m(self, observation_features)\u001b[0m\n\u001b[0;32m     94\u001b[0m \u001b[39mdef\u001b[39;00m \u001b[39m_predict\u001b[39m(\n\u001b[0;32m     95\u001b[0m     \u001b[39mself\u001b[39m, observation_features: List[ObservationFeatures]\n\u001b[0;32m     96\u001b[0m ) \u001b[39m-\u001b[39m\u001b[39m>\u001b[39m List[ObservationData]:\n\u001b[0;32m     97\u001b[0m \u001b[39m    \u001b[39m\u001b[39m\"\"\"Apply terminal transform, predict, and reverse terminal transform on\u001b[39;00m\n\u001b[0;32m     98\u001b[0m \u001b[39m    output.\u001b[39;00m\n\u001b[0;32m     99\u001b[0m \u001b[39m    \"\"\"\u001b[39;00m\n\u001b[1;32m--> 100\u001b[0m     \u001b[39mraise\u001b[39;00m \u001b[39mNotImplementedError\u001b[39;00m(\u001b[39m\"\u001b[39m\u001b[39mRandomModelBridge does not support prediction.\u001b[39m\u001b[39m\"\u001b[39m)\n",
      "\u001b[1;31mNotImplementedError\u001b[0m: RandomModelBridge does not support prediction."
     ]
    }
   ],
   "source": [
    "# from aepsych.plotting import plot_strat\n",
    "# plt.rcParams[\"figure.figsize\"] = (15,15)\n",
    "# plt.rcParams['figure.facecolor'] = 'white'\n",
    "\n",
    "# plot_strat(strat, xlabel='angle (degrees)', ylabel='Probability of Selecting Target', target_level=.75)\n",
    "strat.plot_slice('theta')"
   ]
  },
  {
   "attachments": {},
   "cell_type": "markdown",
   "metadata": {},
   "source": [
    "In this plot, the blue and red ticks at the bottom represent angles at which the participant did and did not successfully identify the target, respectively. The dark blue curve represents the model's posterior probabilty that the participant would select the target, with 95% of the posterior mass lying in the shaded region. The orange horizontal line represents the participant's detection threshold, which once again is defined as the smallest angle at which the participant would select the target 75% of the time. If you are viewing the data from the example participant, you will see that their threshold is somewhere between about 0.5 and 1.5 degrees (note, however, that threshold estimation for non-monotonic models may not always be accurate; we are working on better algorithms for this). More data could be collected to reduce this uncertainty. If you collected data on your own data, your plot may look different; there are often large individual differences in psychophysics tasks. In any case you should see that most of the sampled points are near the estimated threshold; the level set estimation algorithm intelligently selects points so that time is not wasted collecting data at points far away from the threshold, allowing for a more accurate threshold estimate in fewer trials than traditional methods.\n",
    "\n",
    "## Conclusion\n",
    "\n",
    "This tutorial has shown a complete example of how to conduct an AEPsych experiment and analyze the data. You can easily adapt this code for your own needs by changing the config string and the code that runs trials. If you need any help debugging or setting up your experiment, you can [open a GitHub issue](https://github.com/facebookresearch/aepsych/issues). You can also try conducting AEPsych experiments without writing any code, by running [this notebook](https://github.com/facebookresearch/aepsych/blob/main/examples/Interactive_AEPsych.ipynb)."
   ]
  }
 ],
 "metadata": {
  "kernelspec": {
   "display_name": "aepsych",
   "language": "python",
   "name": "python3"
  },
  "language_info": {
   "codemirror_mode": {
    "name": "ipython",
    "version": 3
   },
   "file_extension": ".py",
   "mimetype": "text/x-python",
   "name": "python",
   "nbconvert_exporter": "python",
   "pygments_lexer": "ipython3",
   "version": "3.9.0"
  },
  "vscode": {
   "interpreter": {
    "hash": "d5cd175c0c40f7502ca75fb5854cb93650fb8eb5d6fa501b3a333595e244f6e7"
   }
  }
 },
 "nbformat": 4,
 "nbformat_minor": 5
}
